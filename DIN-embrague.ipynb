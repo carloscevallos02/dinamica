{
 "cells": [
  {
   "cell_type": "code",
   "execution_count": null,
   "id": "a6690ef8-7b79-4d25-8bfe-3ae4ae561293",
   "metadata": {},
   "outputs": [],
   "source": []
  },
  {
   "cell_type": "markdown",
   "id": "d5d474b4-538b-427d-b518-56e877e30417",
   "metadata": {},
   "source": [
    "# Ejercicio Embrague\n",
    "\n",
    "![title](DIN/E-embP_13-71.png)\n",
    "\n",
    ">Suponga que el sistema trabaja de manera horizontal. La fricción de las zapatas A contra el marco B hace funcional el embrague centrífugo y se transmite el torque de A hacia B. La fuerza centrífuga mantiene a las zapatas contra el marco B donde su coeficiente de fricción estático es de $\\mu=0.8$. Cada zapata pesa 9.8[N] y el peso del resto de partes es despreciable. \n",
    "- Calcular la tensión inicial de los resortes (C) para que el contacto de las zapatas se haga cuando $\\dot{\\theta}\\geq200[rpm]$\n",
    "- Determinar el torque en el intervalo $100\\geq\\dot{\\theta}\\geq1500[rpm]$"
   ]
  },
  {
   "cell_type": "code",
   "execution_count": null,
   "id": "60a6279c-5e2e-460a-af6d-f357f0723350",
   "metadata": {},
   "outputs": [],
   "source": []
  }
 ],
 "metadata": {
  "kernelspec": {
   "display_name": "Python 3",
   "language": "python",
   "name": "python3"
  },
  "language_info": {
   "codemirror_mode": {
    "name": "ipython",
    "version": 3
   },
   "file_extension": ".py",
   "mimetype": "text/x-python",
   "name": "python",
   "nbconvert_exporter": "python",
   "pygments_lexer": "ipython3",
   "version": "3.8.8"
  }
 },
 "nbformat": 4,
 "nbformat_minor": 5
}
