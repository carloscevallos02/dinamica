{
 "cells": [
  {
   "cell_type": "code",
   "execution_count": 29,
   "metadata": {},
   "outputs": [],
   "source": [
    "import numpy as np #importar libreria matematica\n",
    "import plotly.express as px #herramienta de plot\n",
    "import plotly.graph_objects as go"
   ]
  },
  {
   "cell_type": "markdown",
   "metadata": {},
   "source": [
    "# sistemas de referencia y cinemática\n",
    "\n",
    "## coordenadas rectangulares\n",
    "\n",
    "![title](E-rectP_12-4.png)\n",
    ">  La leva circular de radio $R=16[mm]$ pivota alrededor de O y produce una excentricidad de $\\frac{R}{2}$. Utilziando geometría se puede demostrar que la relación entre $x$, la posición coordenada del punto $A$, y el ángulo $\\theta$ como $$x(\\theta)=\\frac{R}{2}\\Bigg(cos(\\theta)+\\sqrt{cos^2(\\theta)+3}\\Bigg)$$<br>Si la leva rota horario alrededor de O con velocidad angular constante $\\dot{\\theta}=2000[rpm]$ Determinar la velocidad del seguidor. \n",
    "\n",
    "Derivando se tiene: $$v=-\\frac{R}{2}sen(\\theta)\\Bigg(1+\\frac{cos(\\theta)}{\\sqrt{cos^2(\\theta)+3}}\\Bigg)\\dot{\\theta}$$\n",
    "\n"
   ]
  },
  {
   "cell_type": "code",
   "execution_count": 41,
   "metadata": {},
   "outputs": [
    {
     "data": {
      "application/vnd.plotly.v1+json": {
       "config": {
        "plotlyServerURL": "https://plot.ly"
       },
       "data": [
        {
         "hovertemplate": "theta[deg]=%{x}<br>velocidad seguidor[m/s]=%{y}<extra></extra>",
         "legendgroup": "",
         "line": {
          "color": "#636efa",
          "dash": "solid"
         },
         "mode": "lines",
         "name": "",
         "orientation": "v",
         "showlegend": false,
         "type": "scatter",
         "x": [
          0,
          1,
          2,
          3,
          4,
          5,
          6,
          7,
          8,
          9,
          10,
          11,
          12,
          13,
          14,
          15,
          16,
          17,
          18,
          19,
          20,
          21,
          22,
          23,
          24,
          25,
          26,
          27,
          28,
          29,
          30,
          31,
          32,
          33,
          34,
          35,
          36,
          37,
          38,
          39,
          40,
          41,
          42,
          43,
          44,
          45,
          46,
          47,
          48,
          49,
          50,
          51,
          52,
          53,
          54,
          55,
          56,
          57,
          58,
          59,
          60,
          61,
          62,
          63,
          64,
          65,
          66,
          67,
          68,
          69,
          70,
          71,
          72,
          73,
          74,
          75,
          76,
          77,
          78,
          79,
          80,
          81,
          82,
          83,
          84,
          85,
          86,
          87,
          88,
          89,
          90,
          91,
          92,
          93,
          94,
          95,
          96,
          97,
          98,
          99,
          100,
          101,
          102,
          103,
          104,
          105,
          106,
          107,
          108,
          109,
          110,
          111,
          112,
          113,
          114,
          115,
          116,
          117,
          118,
          119,
          120,
          121,
          122,
          123,
          124,
          125,
          126,
          127,
          128,
          129,
          130,
          131,
          132,
          133,
          134,
          135,
          136,
          137,
          138,
          139,
          140,
          141,
          142,
          143,
          144,
          145,
          146,
          147,
          148,
          149,
          150,
          151,
          152,
          153,
          154,
          155,
          156,
          157,
          158,
          159,
          160,
          161,
          162,
          163,
          164,
          165,
          166,
          167,
          168,
          169,
          170,
          171,
          172,
          173,
          174,
          175,
          176,
          177,
          178,
          179
         ],
         "xaxis": "x",
         "y": [
          0,
          -0.043861011260566435,
          -0.08769864096658024,
          -0.13148951545701806,
          -0.17521027687987684,
          -0.2188375911516166,
          -0.26234815598260086,
          -0.30571870899066267,
          -0.34892603592503096,
          -0.3919469790229788,
          -0.4347584455217014,
          -0.477337416348091,
          -0.5196609550092415,
          -0.561706216706688,
          -0.6034504576975545,
          -0.6448710449259286,
          -0.6859454659479292,
          -0.7266513391740272,
          -0.7669664244522462,
          -0.8068686340158893,
          -0.8463360438193748,
          -0.8853469052856456,
          -0.9238796574883898,
          -0.9619129397919767,
          -0.9994256049715683,
          -1.036396732835257,
          -1.072805644369323,
          -1.1086319164267675,
          -1.1438553969781287,
          -1.178456220942215,
          -1.2124148266127832,
          -1.245711972695297,
          -1.2783287559657228,
          -1.310246629560837,
          -1.34144742190668,
          -1.3719133562886066,
          -1.4016270710628156,
          -1.4305716405052658,
          -1.458730596289513,
          -1.486087949580172,
          -1.512628213723454,
          -1.538336427510528,
          -1.5631981789832718,
          -1.5871996297453874,
          -1.6103275397347803,
          -1.6325692924056217,
          -1.6539129202606306,
          -1.674347130665844,
          -1.6938613318715394,
          -1.7124456591541122,
          -1.730091000984605,
          -1.7467890251203273,
          -1.7625322045066998,
          -1.7773138428671753,
          -1.791128099849927,
          -1.8039700155910992,
          -1.8158355345459145,
          -1.8267215284309215,
          -1.8366258181133512,
          -1.8455471942770514,
          -1.8534854366889408,
          -1.86044133188557,
          -1.8664166890963123,
          -1.8714143542181327,
          -1.8754382216569334,
          -1.8784932438523134,
          -1.8805854383063263,
          -1.8817218919426104,
          -1.8819107626301796,
          -1.8811612777162905,
          -1.8794837294251745,
          -1.8768894669940626,
          -1.873390885434803,
          -1.8690014108284283,
          -1.8637354820811682,
          -1.8576085290934437,
          -1.8506369473182347,
          -1.842838068711509,
          -1.834230129105031,
          -1.8248322320604027,
          -1.8146643092923709,
          -1.8037470777788804,
          -1.792101993704628,
          -1.7797512034136862,
          -1.7667174915745745,
          -1.7530242267876586,
          -1.738695304889502,
          -1.723755090231397,
          -1.7082283552294206,
          -1.6921402185006744,
          -1.6755160819145563,
          -1.6583815668987985,
          -1.6407624503473461,
          -1.6226846004808826,
          -1.6041739130108101,
          -1.585256247953813,
          -1.565957367436801,
          -1.5463028748211918,
          -1.5263181554613134,
          -1.50602831939443,
          -1.4854581462398149,
          -1.4646320325617004,
          -1.4435739419262283,
          -1.4223073578560705,
          -1.400855239858558,
          -1.3792399826744361,
          -1.357483378865059,
          -1.3356065848264538,
          -1.3136300902895237,
          -1.2915736913371367,
          -1.2694564669412778,
          -1.2472967589971333,
          -1.2251121558061793,
          -1.2029194789373208,
          -1.1807347733740154,
          -1.1585733008362864,
          -1.1364495361496871,
          -1.1143771665186701,
          -1.092369093549444,
          -1.0704374378573445,
          -1.0485935460858078,
          -1.0268480001583076,
          -1.0052106285808766,
          -0.9836905196110238,
          -0.9622960361088417,
          -0.941034831887682,
          -0.9199138693848784,
          -0.8989394384773713,
          -0.8781171762726441,
          -0.8574520877118825,
          -0.8369485668296511,
          -0.816610418522365,
          -0.7964408806863814,
          -0.776442646595476,
          -0.7566178873966012,
          -0.736968274612174,
          -0.7174950025464384,
          -0.6981988105027529,
          -0.6790800047277393,
          -0.6601384800071581,
          -0.6413737408469729,
          -0.6227849221813482,
          -0.6043708095572515,
          -0.58612985875281,
          -0.5680602147936716,
          -0.5501597303382303,
          -0.532425983408781,
          -0.5148562944513693,
          -0.4974477427124051,
          -0.4801971819249225,
          -0.46310125530177276,
          -0.4461564098370383,
          -0.42935890992051,
          -0.4127048502733062,
          -0.39619016821552855,
          -0.37981065527937735,
          -0.36356196818332004,
          -0.3474396391848254,
          -0.3314390858307866,
          -0.31555562012614397,
          -0.29978445714238433,
          -0.28412072308852715,
          -0.26855946286800264,
          -0.25309564714541155,
          -0.23772417894764453,
          -0.2224398998241565,
          -0.20723759559144073,
          -0.1921120016868744,
          -0.1770578081571641,
          -0.1620696643066311,
          -0.14714218303049426,
          -0.13226994485823584,
          -0.11744750173198458,
          -0.10266938054472192,
          -0.08793008646293607,
          -0.07322410605820187,
          -0.058545910271988244,
          -0.04388995723783976,
          -0.02925069498494871,
          -0.014622564046988798
         ],
         "yaxis": "y"
        }
       ],
       "layout": {
        "autosize": true,
        "legend": {
         "tracegroupgap": 0
        },
        "template": {
         "data": {
          "bar": [
           {
            "error_x": {
             "color": "#2a3f5f"
            },
            "error_y": {
             "color": "#2a3f5f"
            },
            "marker": {
             "line": {
              "color": "#E5ECF6",
              "width": 0.5
             }
            },
            "type": "bar"
           }
          ],
          "barpolar": [
           {
            "marker": {
             "line": {
              "color": "#E5ECF6",
              "width": 0.5
             }
            },
            "type": "barpolar"
           }
          ],
          "carpet": [
           {
            "aaxis": {
             "endlinecolor": "#2a3f5f",
             "gridcolor": "white",
             "linecolor": "white",
             "minorgridcolor": "white",
             "startlinecolor": "#2a3f5f"
            },
            "baxis": {
             "endlinecolor": "#2a3f5f",
             "gridcolor": "white",
             "linecolor": "white",
             "minorgridcolor": "white",
             "startlinecolor": "#2a3f5f"
            },
            "type": "carpet"
           }
          ],
          "choropleth": [
           {
            "colorbar": {
             "outlinewidth": 0,
             "ticks": ""
            },
            "type": "choropleth"
           }
          ],
          "contour": [
           {
            "colorbar": {
             "outlinewidth": 0,
             "ticks": ""
            },
            "colorscale": [
             [
              0,
              "#0d0887"
             ],
             [
              0.1111111111111111,
              "#46039f"
             ],
             [
              0.2222222222222222,
              "#7201a8"
             ],
             [
              0.3333333333333333,
              "#9c179e"
             ],
             [
              0.4444444444444444,
              "#bd3786"
             ],
             [
              0.5555555555555556,
              "#d8576b"
             ],
             [
              0.6666666666666666,
              "#ed7953"
             ],
             [
              0.7777777777777778,
              "#fb9f3a"
             ],
             [
              0.8888888888888888,
              "#fdca26"
             ],
             [
              1,
              "#f0f921"
             ]
            ],
            "type": "contour"
           }
          ],
          "contourcarpet": [
           {
            "colorbar": {
             "outlinewidth": 0,
             "ticks": ""
            },
            "type": "contourcarpet"
           }
          ],
          "heatmap": [
           {
            "colorbar": {
             "outlinewidth": 0,
             "ticks": ""
            },
            "colorscale": [
             [
              0,
              "#0d0887"
             ],
             [
              0.1111111111111111,
              "#46039f"
             ],
             [
              0.2222222222222222,
              "#7201a8"
             ],
             [
              0.3333333333333333,
              "#9c179e"
             ],
             [
              0.4444444444444444,
              "#bd3786"
             ],
             [
              0.5555555555555556,
              "#d8576b"
             ],
             [
              0.6666666666666666,
              "#ed7953"
             ],
             [
              0.7777777777777778,
              "#fb9f3a"
             ],
             [
              0.8888888888888888,
              "#fdca26"
             ],
             [
              1,
              "#f0f921"
             ]
            ],
            "type": "heatmap"
           }
          ],
          "heatmapgl": [
           {
            "colorbar": {
             "outlinewidth": 0,
             "ticks": ""
            },
            "colorscale": [
             [
              0,
              "#0d0887"
             ],
             [
              0.1111111111111111,
              "#46039f"
             ],
             [
              0.2222222222222222,
              "#7201a8"
             ],
             [
              0.3333333333333333,
              "#9c179e"
             ],
             [
              0.4444444444444444,
              "#bd3786"
             ],
             [
              0.5555555555555556,
              "#d8576b"
             ],
             [
              0.6666666666666666,
              "#ed7953"
             ],
             [
              0.7777777777777778,
              "#fb9f3a"
             ],
             [
              0.8888888888888888,
              "#fdca26"
             ],
             [
              1,
              "#f0f921"
             ]
            ],
            "type": "heatmapgl"
           }
          ],
          "histogram": [
           {
            "marker": {
             "colorbar": {
              "outlinewidth": 0,
              "ticks": ""
             }
            },
            "type": "histogram"
           }
          ],
          "histogram2d": [
           {
            "colorbar": {
             "outlinewidth": 0,
             "ticks": ""
            },
            "colorscale": [
             [
              0,
              "#0d0887"
             ],
             [
              0.1111111111111111,
              "#46039f"
             ],
             [
              0.2222222222222222,
              "#7201a8"
             ],
             [
              0.3333333333333333,
              "#9c179e"
             ],
             [
              0.4444444444444444,
              "#bd3786"
             ],
             [
              0.5555555555555556,
              "#d8576b"
             ],
             [
              0.6666666666666666,
              "#ed7953"
             ],
             [
              0.7777777777777778,
              "#fb9f3a"
             ],
             [
              0.8888888888888888,
              "#fdca26"
             ],
             [
              1,
              "#f0f921"
             ]
            ],
            "type": "histogram2d"
           }
          ],
          "histogram2dcontour": [
           {
            "colorbar": {
             "outlinewidth": 0,
             "ticks": ""
            },
            "colorscale": [
             [
              0,
              "#0d0887"
             ],
             [
              0.1111111111111111,
              "#46039f"
             ],
             [
              0.2222222222222222,
              "#7201a8"
             ],
             [
              0.3333333333333333,
              "#9c179e"
             ],
             [
              0.4444444444444444,
              "#bd3786"
             ],
             [
              0.5555555555555556,
              "#d8576b"
             ],
             [
              0.6666666666666666,
              "#ed7953"
             ],
             [
              0.7777777777777778,
              "#fb9f3a"
             ],
             [
              0.8888888888888888,
              "#fdca26"
             ],
             [
              1,
              "#f0f921"
             ]
            ],
            "type": "histogram2dcontour"
           }
          ],
          "mesh3d": [
           {
            "colorbar": {
             "outlinewidth": 0,
             "ticks": ""
            },
            "type": "mesh3d"
           }
          ],
          "parcoords": [
           {
            "line": {
             "colorbar": {
              "outlinewidth": 0,
              "ticks": ""
             }
            },
            "type": "parcoords"
           }
          ],
          "pie": [
           {
            "automargin": true,
            "type": "pie"
           }
          ],
          "scatter": [
           {
            "marker": {
             "colorbar": {
              "outlinewidth": 0,
              "ticks": ""
             }
            },
            "type": "scatter"
           }
          ],
          "scatter3d": [
           {
            "line": {
             "colorbar": {
              "outlinewidth": 0,
              "ticks": ""
             }
            },
            "marker": {
             "colorbar": {
              "outlinewidth": 0,
              "ticks": ""
             }
            },
            "type": "scatter3d"
           }
          ],
          "scattercarpet": [
           {
            "marker": {
             "colorbar": {
              "outlinewidth": 0,
              "ticks": ""
             }
            },
            "type": "scattercarpet"
           }
          ],
          "scattergeo": [
           {
            "marker": {
             "colorbar": {
              "outlinewidth": 0,
              "ticks": ""
             }
            },
            "type": "scattergeo"
           }
          ],
          "scattergl": [
           {
            "marker": {
             "colorbar": {
              "outlinewidth": 0,
              "ticks": ""
             }
            },
            "type": "scattergl"
           }
          ],
          "scattermapbox": [
           {
            "marker": {
             "colorbar": {
              "outlinewidth": 0,
              "ticks": ""
             }
            },
            "type": "scattermapbox"
           }
          ],
          "scatterpolar": [
           {
            "marker": {
             "colorbar": {
              "outlinewidth": 0,
              "ticks": ""
             }
            },
            "type": "scatterpolar"
           }
          ],
          "scatterpolargl": [
           {
            "marker": {
             "colorbar": {
              "outlinewidth": 0,
              "ticks": ""
             }
            },
            "type": "scatterpolargl"
           }
          ],
          "scatterternary": [
           {
            "marker": {
             "colorbar": {
              "outlinewidth": 0,
              "ticks": ""
             }
            },
            "type": "scatterternary"
           }
          ],
          "surface": [
           {
            "colorbar": {
             "outlinewidth": 0,
             "ticks": ""
            },
            "colorscale": [
             [
              0,
              "#0d0887"
             ],
             [
              0.1111111111111111,
              "#46039f"
             ],
             [
              0.2222222222222222,
              "#7201a8"
             ],
             [
              0.3333333333333333,
              "#9c179e"
             ],
             [
              0.4444444444444444,
              "#bd3786"
             ],
             [
              0.5555555555555556,
              "#d8576b"
             ],
             [
              0.6666666666666666,
              "#ed7953"
             ],
             [
              0.7777777777777778,
              "#fb9f3a"
             ],
             [
              0.8888888888888888,
              "#fdca26"
             ],
             [
              1,
              "#f0f921"
             ]
            ],
            "type": "surface"
           }
          ],
          "table": [
           {
            "cells": {
             "fill": {
              "color": "#EBF0F8"
             },
             "line": {
              "color": "white"
             }
            },
            "header": {
             "fill": {
              "color": "#C8D4E3"
             },
             "line": {
              "color": "white"
             }
            },
            "type": "table"
           }
          ]
         },
         "layout": {
          "annotationdefaults": {
           "arrowcolor": "#2a3f5f",
           "arrowhead": 0,
           "arrowwidth": 1
          },
          "autotypenumbers": "strict",
          "coloraxis": {
           "colorbar": {
            "outlinewidth": 0,
            "ticks": ""
           }
          },
          "colorscale": {
           "diverging": [
            [
             0,
             "#8e0152"
            ],
            [
             0.1,
             "#c51b7d"
            ],
            [
             0.2,
             "#de77ae"
            ],
            [
             0.3,
             "#f1b6da"
            ],
            [
             0.4,
             "#fde0ef"
            ],
            [
             0.5,
             "#f7f7f7"
            ],
            [
             0.6,
             "#e6f5d0"
            ],
            [
             0.7,
             "#b8e186"
            ],
            [
             0.8,
             "#7fbc41"
            ],
            [
             0.9,
             "#4d9221"
            ],
            [
             1,
             "#276419"
            ]
           ],
           "sequential": [
            [
             0,
             "#0d0887"
            ],
            [
             0.1111111111111111,
             "#46039f"
            ],
            [
             0.2222222222222222,
             "#7201a8"
            ],
            [
             0.3333333333333333,
             "#9c179e"
            ],
            [
             0.4444444444444444,
             "#bd3786"
            ],
            [
             0.5555555555555556,
             "#d8576b"
            ],
            [
             0.6666666666666666,
             "#ed7953"
            ],
            [
             0.7777777777777778,
             "#fb9f3a"
            ],
            [
             0.8888888888888888,
             "#fdca26"
            ],
            [
             1,
             "#f0f921"
            ]
           ],
           "sequentialminus": [
            [
             0,
             "#0d0887"
            ],
            [
             0.1111111111111111,
             "#46039f"
            ],
            [
             0.2222222222222222,
             "#7201a8"
            ],
            [
             0.3333333333333333,
             "#9c179e"
            ],
            [
             0.4444444444444444,
             "#bd3786"
            ],
            [
             0.5555555555555556,
             "#d8576b"
            ],
            [
             0.6666666666666666,
             "#ed7953"
            ],
            [
             0.7777777777777778,
             "#fb9f3a"
            ],
            [
             0.8888888888888888,
             "#fdca26"
            ],
            [
             1,
             "#f0f921"
            ]
           ]
          },
          "colorway": [
           "#636efa",
           "#EF553B",
           "#00cc96",
           "#ab63fa",
           "#FFA15A",
           "#19d3f3",
           "#FF6692",
           "#B6E880",
           "#FF97FF",
           "#FECB52"
          ],
          "font": {
           "color": "#2a3f5f"
          },
          "geo": {
           "bgcolor": "white",
           "lakecolor": "white",
           "landcolor": "#E5ECF6",
           "showlakes": true,
           "showland": true,
           "subunitcolor": "white"
          },
          "hoverlabel": {
           "align": "left"
          },
          "hovermode": "closest",
          "mapbox": {
           "style": "light"
          },
          "paper_bgcolor": "white",
          "plot_bgcolor": "#E5ECF6",
          "polar": {
           "angularaxis": {
            "gridcolor": "white",
            "linecolor": "white",
            "ticks": ""
           },
           "bgcolor": "#E5ECF6",
           "radialaxis": {
            "gridcolor": "white",
            "linecolor": "white",
            "ticks": ""
           }
          },
          "scene": {
           "xaxis": {
            "backgroundcolor": "#E5ECF6",
            "gridcolor": "white",
            "gridwidth": 2,
            "linecolor": "white",
            "showbackground": true,
            "ticks": "",
            "zerolinecolor": "white"
           },
           "yaxis": {
            "backgroundcolor": "#E5ECF6",
            "gridcolor": "white",
            "gridwidth": 2,
            "linecolor": "white",
            "showbackground": true,
            "ticks": "",
            "zerolinecolor": "white"
           },
           "zaxis": {
            "backgroundcolor": "#E5ECF6",
            "gridcolor": "white",
            "gridwidth": 2,
            "linecolor": "white",
            "showbackground": true,
            "ticks": "",
            "zerolinecolor": "white"
           }
          },
          "shapedefaults": {
           "line": {
            "color": "#2a3f5f"
           }
          },
          "ternary": {
           "aaxis": {
            "gridcolor": "white",
            "linecolor": "white",
            "ticks": ""
           },
           "baxis": {
            "gridcolor": "white",
            "linecolor": "white",
            "ticks": ""
           },
           "bgcolor": "#E5ECF6",
           "caxis": {
            "gridcolor": "white",
            "linecolor": "white",
            "ticks": ""
           }
          },
          "title": {
           "x": 0.05
          },
          "xaxis": {
           "automargin": true,
           "gridcolor": "white",
           "linecolor": "white",
           "ticks": "",
           "title": {
            "standoff": 15
           },
           "zerolinecolor": "white",
           "zerolinewidth": 2
          },
          "yaxis": {
           "automargin": true,
           "gridcolor": "white",
           "linecolor": "white",
           "ticks": "",
           "title": {
            "standoff": 15
           },
           "zerolinecolor": "white",
           "zerolinewidth": 2
          }
         }
        },
        "title": {
         "text": "velocidad del seguidor respecto al giro de leva"
        },
        "xaxis": {
         "anchor": "y",
         "autorange": true,
         "domain": [
          0,
          1
         ],
         "range": [
          0,
          179
         ],
         "title": {
          "text": "theta[deg]"
         },
         "type": "linear"
        },
        "yaxis": {
         "anchor": "x",
         "autorange": true,
         "domain": [
          0,
          1
         ],
         "range": [
          -1.9864613605540784,
          0.10455059792389887
         ],
         "title": {
          "text": "velocidad seguidor[m/s]"
         },
         "type": "linear"
        }
       }
      },
      "image/png": "[encoded data removed]",
      "text/html": [
       "<div>                            <div id=\"b30a78a9-52d1-4444-948a-64657b456176\" class=\"plotly-graph-div\" style=\"height:525px; width:100%;\"></div>            <script type=\"text/javascript\">                require([\"plotly\"], function(Plotly) {                    window.PLOTLYENV=window.PLOTLYENV || {};                                    if (document.getElementById(\"b30a78a9-52d1-4444-948a-64657b456176\")) {                    Plotly.newPlot(                        \"b30a78a9-52d1-4444-948a-64657b456176\",                        [{\"hovertemplate\": \"theta[deg]=%{x}<br>velocidad seguidor[m/s]=%{y}<extra></extra>\", \"legendgroup\": \"\", \"line\": {\"color\": \"#636efa\", \"dash\": \"solid\"}, \"mode\": \"lines\", \"name\": \"\", \"orientation\": \"v\", \"showlegend\": false, \"type\": \"scatter\", \"x\": [0, 1, 2, 3, 4, 5, 6, 7, 8, 9, 10, 11, 12, 13, 14, 15, 16, 17, 18, 19, 20, 21, 22, 23, 24, 25, 26, 27, 28, 29, 30, 31, 32, 33, 34, 35, 36, 37, 38, 39, 40, 41, 42, 43, 44, 45, 46, 47, 48, 49, 50, 51, 52, 53, 54, 55, 56, 57, 58, 59, 60, 61, 62, 63, 64, 65, 66, 67, 68, 69, 70, 71, 72, 73, 74, 75, 76, 77, 78, 79, 80, 81, 82, 83, 84, 85, 86, 87, 88, 89, 90, 91, 92, 93, 94, 95, 96, 97, 98, 99, 100, 101, 102, 103, 104, 105, 106, 107, 108, 109, 110, 111, 112, 113, 114, 115, 116, 117, 118, 119, 120, 121, 122, 123, 124, 125, 126, 127, 128, 129, 130, 131, 132, 133, 134, 135, 136, 137, 138, 139, 140, 141, 142, 143, 144, 145, 146, 147, 148, 149, 150, 151, 152, 153, 154, 155, 156, 157, 158, 159, 160, 161, 162, 163, 164, 165, 166, 167, 168, 169, 170, 171, 172, 173, 174, 175, 176, 177, 178, 179], \"xaxis\": \"x\", \"y\": [-0.0, -0.043861011260566435, -0.08769864096658024, -0.13148951545701806, -0.17521027687987684, -0.2188375911516166, -0.26234815598260086, -0.30571870899066267, -0.34892603592503096, -0.3919469790229788, -0.4347584455217014, -0.477337416348091, -0.5196609550092415, -0.561706216706688, -0.6034504576975545, -0.6448710449259286, -0.6859454659479292, -0.7266513391740272, -0.7669664244522462, -0.8068686340158893, -0.8463360438193748, -0.8853469052856456, -0.9238796574883898, -0.9619129397919767, -0.9994256049715683, -1.036396732835257, -1.072805644369323, -1.1086319164267675, -1.1438553969781287, -1.178456220942215, -1.2124148266127832, -1.245711972695297, -1.2783287559657228, -1.310246629560837, -1.34144742190668, -1.3719133562886066, -1.4016270710628156, -1.4305716405052658, -1.458730596289513, -1.486087949580172, -1.512628213723454, -1.538336427510528, -1.5631981789832718, -1.5871996297453874, -1.6103275397347803, -1.6325692924056217, -1.6539129202606306, -1.674347130665844, -1.6938613318715394, -1.7124456591541122, -1.730091000984605, -1.7467890251203273, -1.7625322045066998, -1.7773138428671753, -1.791128099849927, -1.8039700155910992, -1.8158355345459145, -1.8267215284309215, -1.8366258181133512, -1.8455471942770514, -1.8534854366889408, -1.86044133188557, -1.8664166890963123, -1.8714143542181327, -1.8754382216569334, -1.8784932438523134, -1.8805854383063263, -1.8817218919426104, -1.8819107626301796, -1.8811612777162905, -1.8794837294251745, -1.8768894669940626, -1.873390885434803, -1.8690014108284283, -1.8637354820811682, -1.8576085290934437, -1.8506369473182347, -1.842838068711509, -1.834230129105031, -1.8248322320604027, -1.8146643092923709, -1.8037470777788804, -1.792101993704628, -1.7797512034136862, -1.7667174915745745, -1.7530242267876586, -1.738695304889502, -1.723755090231397, -1.7082283552294206, -1.6921402185006744, -1.6755160819145563, -1.6583815668987985, -1.6407624503473461, -1.6226846004808826, -1.6041739130108101, -1.585256247953813, -1.565957367436801, -1.5463028748211918, -1.5263181554613134, -1.50602831939443, -1.4854581462398149, -1.4646320325617004, -1.4435739419262283, -1.4223073578560705, -1.400855239858558, -1.3792399826744361, -1.357483378865059, -1.3356065848264538, -1.3136300902895237, -1.2915736913371367, -1.2694564669412778, -1.2472967589971333, -1.2251121558061793, -1.2029194789373208, -1.1807347733740154, -1.1585733008362864, -1.1364495361496871, -1.1143771665186701, -1.092369093549444, -1.0704374378573445, -1.0485935460858078, -1.0268480001583076, -1.0052106285808766, -0.9836905196110238, -0.9622960361088417, -0.941034831887682, -0.9199138693848784, -0.8989394384773713, -0.8781171762726441, -0.8574520877118825, -0.8369485668296511, -0.816610418522365, -0.7964408806863814, -0.776442646595476, -0.7566178873966012, -0.736968274612174, -0.7174950025464384, -0.6981988105027529, -0.6790800047277393, -0.6601384800071581, -0.6413737408469729, -0.6227849221813482, -0.6043708095572515, -0.58612985875281, -0.5680602147936716, -0.5501597303382303, -0.532425983408781, -0.5148562944513693, -0.4974477427124051, -0.4801971819249225, -0.46310125530177276, -0.4461564098370383, -0.42935890992051, -0.4127048502733062, -0.39619016821552855, -0.37981065527937735, -0.36356196818332004, -0.3474396391848254, -0.3314390858307866, -0.31555562012614397, -0.29978445714238433, -0.28412072308852715, -0.26855946286800264, -0.25309564714541155, -0.23772417894764453, -0.2224398998241565, -0.20723759559144073, -0.1921120016868744, -0.1770578081571641, -0.1620696643066311, -0.14714218303049426, -0.13226994485823584, -0.11744750173198458, -0.10266938054472192, -0.08793008646293607, -0.07322410605820187, -0.058545910271988244, -0.04388995723783976, -0.02925069498494871, -0.014622564046988798], \"yaxis\": \"y\"}],                        {\"legend\": {\"tracegroupgap\": 0}, \"template\": {\"data\": {\"bar\": [{\"error_x\": {\"color\": \"#2a3f5f\"}, \"error_y\": {\"color\": \"#2a3f5f\"}, \"marker\": {\"line\": {\"color\": \"#E5ECF6\", \"width\": 0.5}}, \"type\": \"bar\"}], \"barpolar\": [{\"marker\": {\"line\": {\"color\": \"#E5ECF6\", \"width\": 0.5}}, \"type\": \"barpolar\"}], \"carpet\": [{\"aaxis\": {\"endlinecolor\": \"#2a3f5f\", \"gridcolor\": \"white\", \"linecolor\": \"white\", \"minorgridcolor\": \"white\", \"startlinecolor\": \"#2a3f5f\"}, \"baxis\": {\"endlinecolor\": \"#2a3f5f\", \"gridcolor\": \"white\", \"linecolor\": \"white\", \"minorgridcolor\": \"white\", \"startlinecolor\": \"#2a3f5f\"}, \"type\": \"carpet\"}], \"choropleth\": [{\"colorbar\": {\"outlinewidth\": 0, \"ticks\": \"\"}, \"type\": \"choropleth\"}], \"contour\": [{\"colorbar\": {\"outlinewidth\": 0, \"ticks\": \"\"}, \"colorscale\": [[0.0, \"#0d0887\"], [0.1111111111111111, \"#46039f\"], [0.2222222222222222, \"#7201a8\"], [0.3333333333333333, \"#9c179e\"], [0.4444444444444444, \"#bd3786\"], [0.5555555555555556, \"#d8576b\"], [0.6666666666666666, \"#ed7953\"], [0.7777777777777778, \"#fb9f3a\"], [0.8888888888888888, \"#fdca26\"], [1.0, \"#f0f921\"]], \"type\": \"contour\"}], \"contourcarpet\": [{\"colorbar\": {\"outlinewidth\": 0, \"ticks\": \"\"}, \"type\": \"contourcarpet\"}], \"heatmap\": [{\"colorbar\": {\"outlinewidth\": 0, \"ticks\": \"\"}, \"colorscale\": [[0.0, \"#0d0887\"], [0.1111111111111111, \"#46039f\"], [0.2222222222222222, \"#7201a8\"], [0.3333333333333333, \"#9c179e\"], [0.4444444444444444, \"#bd3786\"], [0.5555555555555556, \"#d8576b\"], [0.6666666666666666, \"#ed7953\"], [0.7777777777777778, \"#fb9f3a\"], [0.8888888888888888, \"#fdca26\"], [1.0, \"#f0f921\"]], \"type\": \"heatmap\"}], \"heatmapgl\": [{\"colorbar\": {\"outlinewidth\": 0, \"ticks\": \"\"}, \"colorscale\": [[0.0, \"#0d0887\"], [0.1111111111111111, \"#46039f\"], [0.2222222222222222, \"#7201a8\"], [0.3333333333333333, \"#9c179e\"], [0.4444444444444444, \"#bd3786\"], [0.5555555555555556, \"#d8576b\"], [0.6666666666666666, \"#ed7953\"], [0.7777777777777778, \"#fb9f3a\"], [0.8888888888888888, \"#fdca26\"], [1.0, \"#f0f921\"]], \"type\": \"heatmapgl\"}], \"histogram\": [{\"marker\": {\"colorbar\": {\"outlinewidth\": 0, \"ticks\": \"\"}}, \"type\": \"histogram\"}], \"histogram2d\": [{\"colorbar\": {\"outlinewidth\": 0, \"ticks\": \"\"}, \"colorscale\": [[0.0, \"#0d0887\"], [0.1111111111111111, \"#46039f\"], [0.2222222222222222, \"#7201a8\"], [0.3333333333333333, \"#9c179e\"], [0.4444444444444444, \"#bd3786\"], [0.5555555555555556, \"#d8576b\"], [0.6666666666666666, \"#ed7953\"], [0.7777777777777778, \"#fb9f3a\"], [0.8888888888888888, \"#fdca26\"], [1.0, \"#f0f921\"]], \"type\": \"histogram2d\"}], \"histogram2dcontour\": [{\"colorbar\": {\"outlinewidth\": 0, \"ticks\": \"\"}, \"colorscale\": [[0.0, \"#0d0887\"], [0.1111111111111111, \"#46039f\"], [0.2222222222222222, \"#7201a8\"], [0.3333333333333333, \"#9c179e\"], [0.4444444444444444, \"#bd3786\"], [0.5555555555555556, \"#d8576b\"], [0.6666666666666666, \"#ed7953\"], [0.7777777777777778, \"#fb9f3a\"], [0.8888888888888888, \"#fdca26\"], [1.0, \"#f0f921\"]], \"type\": \"histogram2dcontour\"}], \"mesh3d\": [{\"colorbar\": {\"outlinewidth\": 0, \"ticks\": \"\"}, \"type\": \"mesh3d\"}], \"parcoords\": [{\"line\": {\"colorbar\": {\"outlinewidth\": 0, \"ticks\": \"\"}}, \"type\": \"parcoords\"}], \"pie\": [{\"automargin\": true, \"type\": \"pie\"}], \"scatter\": [{\"marker\": {\"colorbar\": {\"outlinewidth\": 0, \"ticks\": \"\"}}, \"type\": \"scatter\"}], \"scatter3d\": [{\"line\": {\"colorbar\": {\"outlinewidth\": 0, \"ticks\": \"\"}}, \"marker\": {\"colorbar\": {\"outlinewidth\": 0, \"ticks\": \"\"}}, \"type\": \"scatter3d\"}], \"scattercarpet\": [{\"marker\": {\"colorbar\": {\"outlinewidth\": 0, \"ticks\": \"\"}}, \"type\": \"scattercarpet\"}], \"scattergeo\": [{\"marker\": {\"colorbar\": {\"outlinewidth\": 0, \"ticks\": \"\"}}, \"type\": \"scattergeo\"}], \"scattergl\": [{\"marker\": {\"colorbar\": {\"outlinewidth\": 0, \"ticks\": \"\"}}, \"type\": \"scattergl\"}], \"scattermapbox\": [{\"marker\": {\"colorbar\": {\"outlinewidth\": 0, \"ticks\": \"\"}}, \"type\": \"scattermapbox\"}], \"scatterpolar\": [{\"marker\": {\"colorbar\": {\"outlinewidth\": 0, \"ticks\": \"\"}}, \"type\": \"scatterpolar\"}], \"scatterpolargl\": [{\"marker\": {\"colorbar\": {\"outlinewidth\": 0, \"ticks\": \"\"}}, \"type\": \"scatterpolargl\"}], \"scatterternary\": [{\"marker\": {\"colorbar\": {\"outlinewidth\": 0, \"ticks\": \"\"}}, \"type\": \"scatterternary\"}], \"surface\": [{\"colorbar\": {\"outlinewidth\": 0, \"ticks\": \"\"}, \"colorscale\": [[0.0, \"#0d0887\"], [0.1111111111111111, \"#46039f\"], [0.2222222222222222, \"#7201a8\"], [0.3333333333333333, \"#9c179e\"], [0.4444444444444444, \"#bd3786\"], [0.5555555555555556, \"#d8576b\"], [0.6666666666666666, \"#ed7953\"], [0.7777777777777778, \"#fb9f3a\"], [0.8888888888888888, \"#fdca26\"], [1.0, \"#f0f921\"]], \"type\": \"surface\"}], \"table\": [{\"cells\": {\"fill\": {\"color\": \"#EBF0F8\"}, \"line\": {\"color\": \"white\"}}, \"header\": {\"fill\": {\"color\": \"#C8D4E3\"}, \"line\": {\"color\": \"white\"}}, \"type\": \"table\"}]}, \"layout\": {\"annotationdefaults\": {\"arrowcolor\": \"#2a3f5f\", \"arrowhead\": 0, \"arrowwidth\": 1}, \"autotypenumbers\": \"strict\", \"coloraxis\": {\"colorbar\": {\"outlinewidth\": 0, \"ticks\": \"\"}}, \"colorscale\": {\"diverging\": [[0, \"#8e0152\"], [0.1, \"#c51b7d\"], [0.2, \"#de77ae\"], [0.3, \"#f1b6da\"], [0.4, \"#fde0ef\"], [0.5, \"#f7f7f7\"], [0.6, \"#e6f5d0\"], [0.7, \"#b8e186\"], [0.8, \"#7fbc41\"], [0.9, \"#4d9221\"], [1, \"#276419\"]], \"sequential\": [[0.0, \"#0d0887\"], [0.1111111111111111, \"#46039f\"], [0.2222222222222222, \"#7201a8\"], [0.3333333333333333, \"#9c179e\"], [0.4444444444444444, \"#bd3786\"], [0.5555555555555556, \"#d8576b\"], [0.6666666666666666, \"#ed7953\"], [0.7777777777777778, \"#fb9f3a\"], [0.8888888888888888, \"#fdca26\"], [1.0, \"#f0f921\"]], \"sequentialminus\": [[0.0, \"#0d0887\"], [0.1111111111111111, \"#46039f\"], [0.2222222222222222, \"#7201a8\"], [0.3333333333333333, \"#9c179e\"], [0.4444444444444444, \"#bd3786\"], [0.5555555555555556, \"#d8576b\"], [0.6666666666666666, \"#ed7953\"], [0.7777777777777778, \"#fb9f3a\"], [0.8888888888888888, \"#fdca26\"], [1.0, \"#f0f921\"]]}, \"colorway\": [\"#636efa\", \"#EF553B\", \"#00cc96\", \"#ab63fa\", \"#FFA15A\", \"#19d3f3\", \"#FF6692\", \"#B6E880\", \"#FF97FF\", \"#FECB52\"], \"font\": {\"color\": \"#2a3f5f\"}, \"geo\": {\"bgcolor\": \"white\", \"lakecolor\": \"white\", \"landcolor\": \"#E5ECF6\", \"showlakes\": true, \"showland\": true, \"subunitcolor\": \"white\"}, \"hoverlabel\": {\"align\": \"left\"}, \"hovermode\": \"closest\", \"mapbox\": {\"style\": \"light\"}, \"paper_bgcolor\": \"white\", \"plot_bgcolor\": \"#E5ECF6\", \"polar\": {\"angularaxis\": {\"gridcolor\": \"white\", \"linecolor\": \"white\", \"ticks\": \"\"}, \"bgcolor\": \"#E5ECF6\", \"radialaxis\": {\"gridcolor\": \"white\", \"linecolor\": \"white\", \"ticks\": \"\"}}, \"scene\": {\"xaxis\": {\"backgroundcolor\": \"#E5ECF6\", \"gridcolor\": \"white\", \"gridwidth\": 2, \"linecolor\": \"white\", \"showbackground\": true, \"ticks\": \"\", \"zerolinecolor\": \"white\"}, \"yaxis\": {\"backgroundcolor\": \"#E5ECF6\", \"gridcolor\": \"white\", \"gridwidth\": 2, \"linecolor\": \"white\", \"showbackground\": true, \"ticks\": \"\", \"zerolinecolor\": \"white\"}, \"zaxis\": {\"backgroundcolor\": \"#E5ECF6\", \"gridcolor\": \"white\", \"gridwidth\": 2, \"linecolor\": \"white\", \"showbackground\": true, \"ticks\": \"\", \"zerolinecolor\": \"white\"}}, \"shapedefaults\": {\"line\": {\"color\": \"#2a3f5f\"}}, \"ternary\": {\"aaxis\": {\"gridcolor\": \"white\", \"linecolor\": \"white\", \"ticks\": \"\"}, \"baxis\": {\"gridcolor\": \"white\", \"linecolor\": \"white\", \"ticks\": \"\"}, \"bgcolor\": \"#E5ECF6\", \"caxis\": {\"gridcolor\": \"white\", \"linecolor\": \"white\", \"ticks\": \"\"}}, \"title\": {\"x\": 0.05}, \"xaxis\": {\"automargin\": true, \"gridcolor\": \"white\", \"linecolor\": \"white\", \"ticks\": \"\", \"title\": {\"standoff\": 15}, \"zerolinecolor\": \"white\", \"zerolinewidth\": 2}, \"yaxis\": {\"automargin\": true, \"gridcolor\": \"white\", \"linecolor\": \"white\", \"ticks\": \"\", \"title\": {\"standoff\": 15}, \"zerolinecolor\": \"white\", \"zerolinewidth\": 2}}}, \"title\": {\"text\": \"velocidad del seguidor respecto al giro de leva\"}, \"xaxis\": {\"anchor\": \"y\", \"domain\": [0.0, 1.0], \"title\": {\"text\": \"theta[deg]\"}}, \"yaxis\": {\"anchor\": \"x\", \"domain\": [0.0, 1.0], \"title\": {\"text\": \"velocidad seguidor[m/s]\"}}},                        {\"responsive\": true}                    ).then(function(){\n",
       "                            \n",
       "var gd = document.getElementById('b30a78a9-52d1-4444-948a-64657b456176');\n",
       "var x = new MutationObserver(function (mutations, observer) {{\n",
       "        var display = window.getComputedStyle(gd).display;\n",
       "        if (!display || display === 'none') {{\n",
       "            console.log([gd, 'removed!']);\n",
       "            Plotly.purge(gd);\n",
       "            observer.disconnect();\n",
       "        }}\n",
       "}});\n",
       "\n",
       "// Listen for the removal of the full notebook cells\n",
       "var notebookContainer = gd.closest('#notebook-container');\n",
       "if (notebookContainer) {{\n",
       "    x.observe(notebookContainer, {childList: true});\n",
       "}}\n",
       "\n",
       "// Listen for the clearing of the current output cell\n",
       "var outputEl = gd.closest('.output');\n",
       "if (outputEl) {{\n",
       "    x.observe(outputEl, {childList: true});\n",
       "}}\n",
       "\n",
       "                        })                };                });            </script>        </div>"
      ]
     },
     "metadata": {},
     "output_type": "display_data"
    }
   ],
   "source": [
    "#datos\n",
    "R = 16/1000 #[m]\n",
    "O=2000*((2*np.pi)/60) #[rad/s]\n",
    "#análisis\n",
    "th=np.arange(0,180,1) #creando lista numérica\n",
    "vth = np.array(np.deg2rad(th)) #transformado a una matriz\n",
    "vs=-(R/2)*np.sin(vth)*(1+((np.cos(vth))/np.sqrt(((np.cos(vth))**2)+3)))*O\n",
    "#plot\n",
    "fig=px.line(x=th,y=vs,labels={'x':'theta[deg]','y':'velocidad seguidor[m/s]'},title=\"velocidad del seguidor respecto al giro de leva\")\n",
    "fig.show()"
   ]
  },
  {
   "cell_type": "markdown",
   "metadata": {},
   "source": [
    "## coordendas normal tangencial\n",
    "![title](E-rectP_13-2.png)\n",
    "> El auto de carreras mostrado viaja a 90[km/h] cuando empieza la curva semicircular en A. El conductor incrementea su velocidad de manera uniforme hasta llegar a C a una velocidad de 144[km/h]. Cuál es la aceleración máxima del auto.\n",
    "Dado que la rapidez aumenta de manera uniforme, la aceleración tangencial es la que se mantiene constante.<br> Integrando $a_{t}ds=vdv$ se obtiene $$\\frac{v^2}{2}=a_{t}s+C$$<br>Evaluando para $$\\begin{vmatrix} \n",
    "   A: s=0, v=25[m/s]  \\\\\n",
    "   C:s=\\pi R, v=40[m/s]  \\\\\n",
    "      \\end{vmatrix} $$\n",
    "Luego, se tiene $$\\frac{v^2}{2}=1.55*s+312.5$$\n",
    "la aceleración normal, cambia respecto a la velocidad $$a_{n}=\\frac{v^2}{R}$$\n"
   ]
  },
  {
   "cell_type": "code",
   "execution_count": 40,
   "metadata": {},
   "outputs": [
    {
     "data": {
      "application/vnd.plotly.v1+json": {
       "config": {
        "plotlyServerURL": "https://plot.ly"
       },
       "data": [
        {
         "mode": "lines",
         "name": "a normal",
         "type": "scatter",
         "x": [
          0,
          1,
          2,
          3,
          4,
          5,
          6,
          7,
          8,
          9,
          10,
          11,
          12,
          13,
          14,
          15,
          16,
          17,
          18,
          19,
          20,
          21,
          22,
          23,
          24,
          25,
          26,
          27,
          28,
          29,
          30,
          31,
          32,
          33,
          34,
          35,
          36,
          37,
          38,
          39,
          40,
          41,
          42,
          43,
          44,
          45,
          46,
          47,
          48,
          49,
          50,
          51,
          52,
          53,
          54,
          55,
          56,
          57,
          58,
          59,
          60,
          61,
          62,
          63,
          64,
          65,
          66,
          67,
          68,
          69,
          70,
          71,
          72,
          73,
          74,
          75,
          76,
          77,
          78,
          79,
          80,
          81,
          82,
          83,
          84,
          85,
          86,
          87,
          88,
          89,
          90,
          91,
          92,
          93,
          94,
          95,
          96,
          97,
          98,
          99,
          100,
          101,
          102,
          103,
          104,
          105,
          106,
          107,
          108,
          109,
          110,
          111,
          112,
          113,
          114,
          115,
          116,
          117,
          118,
          119,
          120,
          121,
          122,
          123,
          124,
          125,
          126,
          127,
          128,
          129,
          130,
          131,
          132,
          133,
          134,
          135,
          136,
          137,
          138,
          139,
          140,
          141,
          142,
          143,
          144,
          145,
          146,
          147,
          148,
          149,
          150,
          151,
          152,
          153,
          154,
          155,
          156,
          157,
          158,
          159,
          160,
          161,
          162,
          163,
          164,
          165,
          166,
          167,
          168,
          169,
          170,
          171,
          172,
          173,
          174,
          175,
          176,
          177,
          178,
          179,
          180,
          181,
          182,
          183,
          184,
          185,
          186,
          187,
          188,
          189,
          190,
          191,
          192,
          193,
          194,
          195,
          196,
          197,
          198,
          199,
          200,
          201,
          202,
          203,
          204,
          205,
          206,
          207,
          208,
          209,
          210,
          211,
          212,
          213,
          214,
          215,
          216,
          217,
          218,
          219,
          220,
          221,
          222,
          223,
          224,
          225,
          226,
          227,
          228,
          229,
          230,
          231,
          232,
          233,
          234,
          235,
          236,
          237,
          238,
          239,
          240,
          241,
          242,
          243,
          244,
          245,
          246,
          247,
          248,
          249,
          250,
          251,
          252,
          253,
          254,
          255,
          256,
          257,
          258,
          259,
          260,
          261,
          262,
          263,
          264,
          265,
          266,
          267,
          268,
          269,
          270,
          271,
          272,
          273,
          274,
          275,
          276,
          277,
          278,
          279,
          280,
          281,
          282,
          283,
          284,
          285,
          286,
          287,
          288,
          289,
          290,
          291,
          292,
          293,
          294,
          295,
          296,
          297,
          298,
          299,
          300,
          301,
          302,
          303,
          304,
          305,
          306,
          307,
          308,
          309,
          310,
          311,
          312,
          313,
          314
         ],
         "y": [
          6.25,
          6.2810000000000015,
          6.312,
          6.343,
          6.374,
          6.405,
          6.436,
          6.467,
          6.497999999999999,
          6.529,
          6.56,
          6.591,
          6.622000000000001,
          6.652999999999999,
          6.684000000000001,
          6.715,
          6.746,
          6.777000000000002,
          6.808,
          6.8389999999999995,
          6.869999999999999,
          6.901,
          6.932,
          6.962999999999998,
          6.994000000000001,
          7.025,
          7.056000000000001,
          7.087000000000001,
          7.1179999999999986,
          7.149,
          7.18,
          7.211,
          7.242000000000002,
          7.272999999999999,
          7.303999999999999,
          7.335,
          7.3660000000000005,
          7.397,
          7.428,
          7.459,
          7.49,
          7.521,
          7.552,
          7.582999999999999,
          7.614,
          7.645000000000001,
          7.676,
          7.707000000000001,
          7.738,
          7.768999999999998,
          7.8,
          7.831,
          7.862,
          7.893000000000001,
          7.9239999999999995,
          7.955,
          7.985999999999999,
          8.017000000000001,
          8.048,
          8.079,
          8.11,
          8.141000000000002,
          8.172,
          8.203,
          8.234000000000002,
          8.264999999999999,
          8.296000000000001,
          8.327000000000002,
          8.358,
          8.389,
          8.42,
          8.451,
          8.482000000000001,
          8.513,
          8.544,
          8.575,
          8.606,
          8.637000000000002,
          8.668,
          8.699000000000002,
          8.73,
          8.761000000000001,
          8.792,
          8.823,
          8.854000000000001,
          8.884999999999998,
          8.916,
          8.947000000000001,
          8.978,
          9.009000000000002,
          9.04,
          9.071000000000002,
          9.102,
          9.133,
          9.164000000000001,
          9.195,
          9.226,
          9.257,
          9.288,
          9.319,
          9.350000000000001,
          9.381000000000002,
          9.412,
          9.443000000000001,
          9.474,
          9.505,
          9.536000000000001,
          9.567,
          9.597999999999999,
          9.629,
          9.660000000000002,
          9.691,
          9.722000000000001,
          9.753,
          9.783999999999999,
          9.815,
          9.846,
          9.877,
          9.907999999999998,
          9.939,
          9.97,
          10.001,
          10.032000000000002,
          10.062999999999999,
          10.094000000000001,
          10.125000000000002,
          10.156,
          10.187000000000001,
          10.218,
          10.248999999999999,
          10.280000000000003,
          10.311000000000002,
          10.342,
          10.372999999999998,
          10.404000000000002,
          10.435,
          10.466,
          10.497000000000003,
          10.528000000000002,
          10.559000000000001,
          10.59,
          10.620999999999999,
          10.652000000000001,
          10.683000000000002,
          10.714,
          10.745000000000003,
          10.775999999999996,
          10.807,
          10.838,
          10.869000000000003,
          10.9,
          10.931000000000001,
          10.962000000000003,
          10.992999999999997,
          11.024000000000001,
          11.055,
          11.086000000000002,
          11.116999999999997,
          11.148000000000001,
          11.179,
          11.21,
          11.240999999999996,
          11.272000000000002,
          11.302999999999999,
          11.334000000000001,
          11.365,
          11.395999999999999,
          11.427000000000003,
          11.458,
          11.489000000000003,
          11.519999999999998,
          11.550999999999997,
          11.582000000000003,
          11.613000000000001,
          11.644,
          11.675000000000002,
          11.705999999999996,
          11.736999999999998,
          11.768000000000004,
          11.799,
          11.83,
          11.861,
          11.892000000000003,
          11.923000000000002,
          11.953999999999999,
          11.984999999999998,
          12.015999999999996,
          12.047000000000002,
          12.078,
          12.109000000000002,
          12.14,
          12.171,
          12.202,
          12.233000000000004,
          12.264000000000003,
          12.295,
          12.325999999999999,
          12.357000000000003,
          12.388000000000002,
          12.419,
          12.450000000000003,
          12.481,
          12.512000000000002,
          12.543000000000005,
          12.574000000000002,
          12.605,
          12.636,
          12.667,
          12.698,
          12.729000000000001,
          12.759999999999998,
          12.790999999999997,
          12.822000000000001,
          12.853000000000003,
          12.884,
          12.914999999999997,
          12.946000000000002,
          12.976999999999999,
          13.008000000000003,
          13.038999999999998,
          13.07,
          13.100999999999997,
          13.132,
          13.163000000000004,
          13.193999999999999,
          13.224999999999998,
          13.255999999999997,
          13.287,
          13.318000000000005,
          13.349,
          13.380000000000003,
          13.410999999999996,
          13.441999999999998,
          13.473000000000003,
          13.503999999999998,
          13.535,
          13.566,
          13.596999999999998,
          13.628000000000004,
          13.659000000000002,
          13.69,
          13.720999999999998,
          13.752,
          13.783000000000005,
          13.814000000000004,
          13.844999999999997,
          13.876,
          13.907000000000004,
          13.938000000000002,
          13.969000000000001,
          14.000000000000002,
          14.030999999999997,
          14.061999999999998,
          14.093,
          14.124000000000002,
          14.155,
          14.186,
          14.216999999999999,
          14.248000000000005,
          14.279000000000003,
          14.310000000000002,
          14.341000000000001,
          14.372,
          14.402999999999999,
          14.434000000000001,
          14.465000000000002,
          14.495999999999997,
          14.527000000000001,
          14.558,
          14.588999999999999,
          14.62,
          14.650999999999996,
          14.682000000000002,
          14.713,
          14.743999999999998,
          14.774999999999999,
          14.806,
          14.837000000000003,
          14.868000000000002,
          14.899000000000001,
          14.929999999999998,
          14.960999999999999,
          14.991999999999997,
          15.023000000000001,
          15.053999999999998,
          15.085,
          15.115999999999996,
          15.146999999999998,
          15.178000000000003,
          15.208999999999998,
          15.240000000000002,
          15.270999999999997,
          15.302000000000003,
          15.333000000000002,
          15.364,
          15.395,
          15.425999999999998,
          15.457000000000003,
          15.488000000000005,
          15.519,
          15.549999999999997,
          15.580999999999996,
          15.611999999999998,
          15.643000000000004,
          15.674,
          15.704999999999998,
          15.735999999999997,
          15.767000000000001,
          15.798000000000004,
          15.829000000000002,
          15.86,
          15.890999999999998,
          15.921999999999999,
          15.953,
          15.984000000000002
         ]
        },
        {
         "mode": "lines",
         "name": "a total",
         "type": "scatter",
         "x": [
          0,
          1,
          2,
          3,
          4,
          5,
          6,
          7,
          8,
          9,
          10,
          11,
          12,
          13,
          14,
          15,
          16,
          17,
          18,
          19,
          20,
          21,
          22,
          23,
          24,
          25,
          26,
          27,
          28,
          29,
          30,
          31,
          32,
          33,
          34,
          35,
          36,
          37,
          38,
          39,
          40,
          41,
          42,
          43,
          44,
          45,
          46,
          47,
          48,
          49,
          50,
          51,
          52,
          53,
          54,
          55,
          56,
          57,
          58,
          59,
          60,
          61,
          62,
          63,
          64,
          65,
          66,
          67,
          68,
          69,
          70,
          71,
          72,
          73,
          74,
          75,
          76,
          77,
          78,
          79,
          80,
          81,
          82,
          83,
          84,
          85,
          86,
          87,
          88,
          89,
          90,
          91,
          92,
          93,
          94,
          95,
          96,
          97,
          98,
          99,
          100,
          101,
          102,
          103,
          104,
          105,
          106,
          107,
          108,
          109,
          110,
          111,
          112,
          113,
          114,
          115,
          116,
          117,
          118,
          119,
          120,
          121,
          122,
          123,
          124,
          125,
          126,
          127,
          128,
          129,
          130,
          131,
          132,
          133,
          134,
          135,
          136,
          137,
          138,
          139,
          140,
          141,
          142,
          143,
          144,
          145,
          146,
          147,
          148,
          149,
          150,
          151,
          152,
          153,
          154,
          155,
          156,
          157,
          158,
          159,
          160,
          161,
          162,
          163,
          164,
          165,
          166,
          167,
          168,
          169,
          170,
          171,
          172,
          173,
          174,
          175,
          176,
          177,
          178,
          179,
          180,
          181,
          182,
          183,
          184,
          185,
          186,
          187,
          188,
          189,
          190,
          191,
          192,
          193,
          194,
          195,
          196,
          197,
          198,
          199,
          200,
          201,
          202,
          203,
          204,
          205,
          206,
          207,
          208,
          209,
          210,
          211,
          212,
          213,
          214,
          215,
          216,
          217,
          218,
          219,
          220,
          221,
          222,
          223,
          224,
          225,
          226,
          227,
          228,
          229,
          230,
          231,
          232,
          233,
          234,
          235,
          236,
          237,
          238,
          239,
          240,
          241,
          242,
          243,
          244,
          245,
          246,
          247,
          248,
          249,
          250,
          251,
          252,
          253,
          254,
          255,
          256,
          257,
          258,
          259,
          260,
          261,
          262,
          263,
          264,
          265,
          266,
          267,
          268,
          269,
          270,
          271,
          272,
          273,
          274,
          275,
          276,
          277,
          278,
          279,
          280,
          281,
          282,
          283,
          284,
          285,
          286,
          287,
          288,
          289,
          290,
          291,
          292,
          293,
          294,
          295,
          296,
          297,
          298,
          299,
          300,
          301,
          302,
          303,
          304,
          305,
          306,
          307,
          308,
          309,
          310,
          311,
          312,
          313,
          314
         ],
         "y": [
          6.439332263519255,
          6.469425090377044,
          6.499526444288077,
          6.529636207324264,
          6.559754263690066,
          6.589880499675241,
          6.620014803608826,
          6.6501570658143105,
          6.680307178565967,
          6.71046503604631,
          6.7406305343046355,
          6.77080357121664,
          6.800984046445045,
          6.831171861401233,
          6.861366919207865,
          6.891569124662395,
          6.921778384201564,
          6.951994605866724,
          6.982217699270054,
          7.012447575561617,
          7.042684147397212,
          7.072927328907035,
          7.103177035665098,
          7.133433184659402,
          7.163695694262844,
          7.193964484204798,
          7.22423947554343,
          7.2545205906386405,
          7.284807753125678,
          7.315100887889381,
          7.345399921039017,
          7.37570477988375,
          7.406015392908661,
          7.436331689751338,
          7.466653601179044,
          7.496981059066377,
          7.527313996373475,
          7.557652347124734,
          7.587996046388006,
          7.618345030254274,
          7.648699235817814,
          7.679058601156785,
          7.709423065314291,
          7.73979256827985,
          7.770167050971298,
          7.8005464552170976,
          7.830930723739038,
          7.861319800135345,
          7.89171362886414,
          7.92211215522729,
          7.9525153253546135,
          7.982923086188418,
          8.0133353854684,
          8.043752171716879,
          8.074173394224328,
          8.104599003035252,
          8.135028948934355,
          8.165463183433014,
          8.19590165875604,
          8.226344327828736,
          8.256791144264216,
          8.287242062351023,
          8.317697037040963,
          8.348156023937262,
          8.378618979282924,
          8.409085859949343,
          8.439556623425192,
          8.470031227805482,
          8.50050963178091,
          8.530991794627397,
          8.561477676195857,
          8.591967236902153,
          8.6224604377173,
          8.652957240157841,
          8.68345760627643,
          8.713961498652607,
          8.74446888038376,
          8.774979715076272,
          8.80549396683684,
          8.836011600264003,
          8.866532580439774,
          8.897056872921517,
          8.927584443733926,
          8.958115259361202,
          8.98864928673936,
          9.01918649324871,
          9.04972684670648,
          9.080270315359561,
          9.110816867877435,
          9.14136647334522,
          9.171919101256835,
          9.202474721508342,
          9.233033304391359,
          9.26359482058666,
          9.294159241157859,
          9.324726537545217,
          9.355296681559597,
          9.3858696453765,
          9.41644540153024,
          9.44702392290821,
          9.477605182745272,
          9.508189154618247,
          9.538775812440505,
          9.56936513045667,
          9.599957083237404,
          9.630551645674302,
          9.661148792974883,
          9.69174850065766,
          9.722350744547327,
          9.75295550077001,
          9.783562745748608,
          9.81417245619823,
          9.844784609121726,
          9.87539918180526,
          9.906016151814006,
          9.9366354969879,
          9.967257195437469,
          9.99788122553974,
          10.028507565934223,
          10.059136195518978,
          10.089767093446707,
          10.12040023912098,
          10.151035612192484,
          10.181673192555337,
          10.21231296034351,
          10.242954895927252,
          10.273598979909622,
          10.304245193123077,
          10.33489351662609,
          10.365543931699868,
          10.396196419845099,
          10.426850962778744,
          10.45750754243094,
          10.488166140941892,
          10.518826740658866,
          10.549489324133184,
          10.580153874117332,
          10.610820373562078,
          10.641488805613623,
          10.672159153610858,
          10.702831401082612,
          10.733505531744974,
          10.764181529498655,
          10.794859378426382,
          10.82553906279036,
          10.856220567029764,
          10.886903875758247,
          10.91758897376156,
          10.948275845995113,
          10.978964477581666,
          11.009654853808996,
          11.040346960127659,
          11.071040782148717,
          11.10173630564156,
          11.132433516531774,
          11.163132400898952,
          11.193832944974659,
          11.22453513514034,
          11.255238957925329,
          11.285944400004814,
          11.316651448197918,
          11.347360089465738,
          11.378070310909493,
          11.408782099768581,
          11.439495443418824,
          11.4702103293706,
          11.500926745267096,
          11.531644678882543,
          11.562364118120481,
          11.593085051012093,
          11.62380746571449,
          11.654531350509119,
          11.6852566938001,
          11.715983484112636,
          11.746711710091468,
          11.777441360499319,
          11.808172424215353,
          11.838904890233723,
          11.86963874766204,
          11.900373985719945,
          11.931110593737701,
          11.961848561154753,
          11.99258787751835,
          12.023328532482179,
          12.054070515805023,
          12.08481381734944,
          12.115558427080442,
          12.146304335064228,
          12.177051531466883,
          12.207800006553189,
          12.238549750685333,
          12.269300754321739,
          12.30005300801586,
          12.330806502415003,
          12.361561228259157,
          12.392317176379889,
          12.423074337699182,
          12.453832703228356,
          12.484592264066938,
          12.515353011401636,
          12.546114936505248,
          12.576878030735609,
          12.607642285534597,
          12.638407692427085,
          12.669174243019947,
          12.699941929001094,
          12.730710742138475,
          12.761480674279142,
          12.792251717348279,
          12.823023863348304,
          12.853797104357916,
          12.884571432531231,
          12.915346840096863,
          12.946123319357039,
          12.976900862686746,
          13.00767946253289,
          13.038459111413436,
          13.069239801916558,
          13.100021526699873,
          13.130804278489569,
          13.161588050079672,
          13.192372834331206,
          13.223158624171457,
          13.253945412593191,
          13.284733192653889,
          13.31552195747504,
          13.346311700241378,
          13.37710241420017,
          13.407894092660493,
          13.438686728992533,
          13.469480316626921,
          13.500274849053996,
          13.531070319823186,
          13.561866722542295,
          13.592664050876852,
          13.623462298549514,
          13.654261459339352,
          13.68506152708127,
          13.715862495665379,
          13.746664359036343,
          13.777467111192827,
          13.808270746186865,
          13.839075258123284,
          13.869880641159106,
          13.900686889502984,
          13.931493997414632,
          13.962301959204291,
          13.993110769232127,
          14.023920421907707,
          14.054730911689488,
          14.08554223308425,
          14.116354380646582,
          14.147167348978378,
          14.177981132728313,
          14.208795726591331,
          14.239611125308162,
          14.270427323664839,
          14.301244316492182,
          14.33206209866536,
          14.362880665103367,
          14.393700010768603,
          14.424520130666393,
          14.455341019844534,
          14.486162673392839,
          14.516985086442709,
          14.547808254166675,
          14.57863217177798,
          14.60945683453016,
          14.640282237716594,
          14.671108376670114,
          14.701935246762584,
          14.732762843404489,
          14.763591162044554,
          14.794420198169307,
          14.825249947302742,
          14.85608040500589,
          14.886911566876455,
          14.917743428548437,
          14.948575985691749,
          14.979409234011868,
          15.010243169249456,
          15.041077787180011,
          15.071913083613504,
          15.102749054394039,
          15.133585695399486,
          15.164423002541179,
          15.19526097176353,
          15.22609959904374,
          15.256938880391441,
          15.28777881184837,
          15.318619389488077,
          15.34946060941556,
          15.380302467767013,
          15.411144960709443,
          15.441988084440423,
          15.472831835187765,
          15.50367620920922,
          15.53452120279219,
          15.56536681225342,
          15.596213033938719,
          15.627059864222698,
          15.657907299508446,
          15.68875533622728,
          15.719603970838454,
          15.750453199828886,
          15.781303019712915,
          15.812153427032003,
          15.843004418354495,
          15.873855990275334,
          15.904708139415828,
          15.935560862423387,
          15.966414155971275,
          15.99726801675836,
          16.02812244150886,
          16.05897742697212
         ]
        }
       ],
       "layout": {
        "autosize": true,
        "shapes": [
         {
          "type": "line",
          "x0": 0,
          "x1": 1,
          "xref": "x domain",
          "y0": 1.55,
          "y1": 1.55,
          "yref": "y"
         },
         {
          "type": "line",
          "x0": 0,
          "x1": 1,
          "xref": "x domain",
          "y0": 0,
          "y1": 0,
          "yref": "y"
         }
        ],
        "template": {
         "data": {
          "bar": [
           {
            "error_x": {
             "color": "#2a3f5f"
            },
            "error_y": {
             "color": "#2a3f5f"
            },
            "marker": {
             "line": {
              "color": "#E5ECF6",
              "width": 0.5
             }
            },
            "type": "bar"
           }
          ],
          "barpolar": [
           {
            "marker": {
             "line": {
              "color": "#E5ECF6",
              "width": 0.5
             }
            },
            "type": "barpolar"
           }
          ],
          "carpet": [
           {
            "aaxis": {
             "endlinecolor": "#2a3f5f",
             "gridcolor": "white",
             "linecolor": "white",
             "minorgridcolor": "white",
             "startlinecolor": "#2a3f5f"
            },
            "baxis": {
             "endlinecolor": "#2a3f5f",
             "gridcolor": "white",
             "linecolor": "white",
             "minorgridcolor": "white",
             "startlinecolor": "#2a3f5f"
            },
            "type": "carpet"
           }
          ],
          "choropleth": [
           {
            "colorbar": {
             "outlinewidth": 0,
             "ticks": ""
            },
            "type": "choropleth"
           }
          ],
          "contour": [
           {
            "colorbar": {
             "outlinewidth": 0,
             "ticks": ""
            },
            "colorscale": [
             [
              0,
              "#0d0887"
             ],
             [
              0.1111111111111111,
              "#46039f"
             ],
             [
              0.2222222222222222,
              "#7201a8"
             ],
             [
              0.3333333333333333,
              "#9c179e"
             ],
             [
              0.4444444444444444,
              "#bd3786"
             ],
             [
              0.5555555555555556,
              "#d8576b"
             ],
             [
              0.6666666666666666,
              "#ed7953"
             ],
             [
              0.7777777777777778,
              "#fb9f3a"
             ],
             [
              0.8888888888888888,
              "#fdca26"
             ],
             [
              1,
              "#f0f921"
             ]
            ],
            "type": "contour"
           }
          ],
          "contourcarpet": [
           {
            "colorbar": {
             "outlinewidth": 0,
             "ticks": ""
            },
            "type": "contourcarpet"
           }
          ],
          "heatmap": [
           {
            "colorbar": {
             "outlinewidth": 0,
             "ticks": ""
            },
            "colorscale": [
             [
              0,
              "#0d0887"
             ],
             [
              0.1111111111111111,
              "#46039f"
             ],
             [
              0.2222222222222222,
              "#7201a8"
             ],
             [
              0.3333333333333333,
              "#9c179e"
             ],
             [
              0.4444444444444444,
              "#bd3786"
             ],
             [
              0.5555555555555556,
              "#d8576b"
             ],
             [
              0.6666666666666666,
              "#ed7953"
             ],
             [
              0.7777777777777778,
              "#fb9f3a"
             ],
             [
              0.8888888888888888,
              "#fdca26"
             ],
             [
              1,
              "#f0f921"
             ]
            ],
            "type": "heatmap"
           }
          ],
          "heatmapgl": [
           {
            "colorbar": {
             "outlinewidth": 0,
             "ticks": ""
            },
            "colorscale": [
             [
              0,
              "#0d0887"
             ],
             [
              0.1111111111111111,
              "#46039f"
             ],
             [
              0.2222222222222222,
              "#7201a8"
             ],
             [
              0.3333333333333333,
              "#9c179e"
             ],
             [
              0.4444444444444444,
              "#bd3786"
             ],
             [
              0.5555555555555556,
              "#d8576b"
             ],
             [
              0.6666666666666666,
              "#ed7953"
             ],
             [
              0.7777777777777778,
              "#fb9f3a"
             ],
             [
              0.8888888888888888,
              "#fdca26"
             ],
             [
              1,
              "#f0f921"
             ]
            ],
            "type": "heatmapgl"
           }
          ],
          "histogram": [
           {
            "marker": {
             "colorbar": {
              "outlinewidth": 0,
              "ticks": ""
             }
            },
            "type": "histogram"
           }
          ],
          "histogram2d": [
           {
            "colorbar": {
             "outlinewidth": 0,
             "ticks": ""
            },
            "colorscale": [
             [
              0,
              "#0d0887"
             ],
             [
              0.1111111111111111,
              "#46039f"
             ],
             [
              0.2222222222222222,
              "#7201a8"
             ],
             [
              0.3333333333333333,
              "#9c179e"
             ],
             [
              0.4444444444444444,
              "#bd3786"
             ],
             [
              0.5555555555555556,
              "#d8576b"
             ],
             [
              0.6666666666666666,
              "#ed7953"
             ],
             [
              0.7777777777777778,
              "#fb9f3a"
             ],
             [
              0.8888888888888888,
              "#fdca26"
             ],
             [
              1,
              "#f0f921"
             ]
            ],
            "type": "histogram2d"
           }
          ],
          "histogram2dcontour": [
           {
            "colorbar": {
             "outlinewidth": 0,
             "ticks": ""
            },
            "colorscale": [
             [
              0,
              "#0d0887"
             ],
             [
              0.1111111111111111,
              "#46039f"
             ],
             [
              0.2222222222222222,
              "#7201a8"
             ],
             [
              0.3333333333333333,
              "#9c179e"
             ],
             [
              0.4444444444444444,
              "#bd3786"
             ],
             [
              0.5555555555555556,
              "#d8576b"
             ],
             [
              0.6666666666666666,
              "#ed7953"
             ],
             [
              0.7777777777777778,
              "#fb9f3a"
             ],
             [
              0.8888888888888888,
              "#fdca26"
             ],
             [
              1,
              "#f0f921"
             ]
            ],
            "type": "histogram2dcontour"
           }
          ],
          "mesh3d": [
           {
            "colorbar": {
             "outlinewidth": 0,
             "ticks": ""
            },
            "type": "mesh3d"
           }
          ],
          "parcoords": [
           {
            "line": {
             "colorbar": {
              "outlinewidth": 0,
              "ticks": ""
             }
            },
            "type": "parcoords"
           }
          ],
          "pie": [
           {
            "automargin": true,
            "type": "pie"
           }
          ],
          "scatter": [
           {
            "marker": {
             "colorbar": {
              "outlinewidth": 0,
              "ticks": ""
             }
            },
            "type": "scatter"
           }
          ],
          "scatter3d": [
           {
            "line": {
             "colorbar": {
              "outlinewidth": 0,
              "ticks": ""
             }
            },
            "marker": {
             "colorbar": {
              "outlinewidth": 0,
              "ticks": ""
             }
            },
            "type": "scatter3d"
           }
          ],
          "scattercarpet": [
           {
            "marker": {
             "colorbar": {
              "outlinewidth": 0,
              "ticks": ""
             }
            },
            "type": "scattercarpet"
           }
          ],
          "scattergeo": [
           {
            "marker": {
             "colorbar": {
              "outlinewidth": 0,
              "ticks": ""
             }
            },
            "type": "scattergeo"
           }
          ],
          "scattergl": [
           {
            "marker": {
             "colorbar": {
              "outlinewidth": 0,
              "ticks": ""
             }
            },
            "type": "scattergl"
           }
          ],
          "scattermapbox": [
           {
            "marker": {
             "colorbar": {
              "outlinewidth": 0,
              "ticks": ""
             }
            },
            "type": "scattermapbox"
           }
          ],
          "scatterpolar": [
           {
            "marker": {
             "colorbar": {
              "outlinewidth": 0,
              "ticks": ""
             }
            },
            "type": "scatterpolar"
           }
          ],
          "scatterpolargl": [
           {
            "marker": {
             "colorbar": {
              "outlinewidth": 0,
              "ticks": ""
             }
            },
            "type": "scatterpolargl"
           }
          ],
          "scatterternary": [
           {
            "marker": {
             "colorbar": {
              "outlinewidth": 0,
              "ticks": ""
             }
            },
            "type": "scatterternary"
           }
          ],
          "surface": [
           {
            "colorbar": {
             "outlinewidth": 0,
             "ticks": ""
            },
            "colorscale": [
             [
              0,
              "#0d0887"
             ],
             [
              0.1111111111111111,
              "#46039f"
             ],
             [
              0.2222222222222222,
              "#7201a8"
             ],
             [
              0.3333333333333333,
              "#9c179e"
             ],
             [
              0.4444444444444444,
              "#bd3786"
             ],
             [
              0.5555555555555556,
              "#d8576b"
             ],
             [
              0.6666666666666666,
              "#ed7953"
             ],
             [
              0.7777777777777778,
              "#fb9f3a"
             ],
             [
              0.8888888888888888,
              "#fdca26"
             ],
             [
              1,
              "#f0f921"
             ]
            ],
            "type": "surface"
           }
          ],
          "table": [
           {
            "cells": {
             "fill": {
              "color": "#EBF0F8"
             },
             "line": {
              "color": "white"
             }
            },
            "header": {
             "fill": {
              "color": "#C8D4E3"
             },
             "line": {
              "color": "white"
             }
            },
            "type": "table"
           }
          ]
         },
         "layout": {
          "annotationdefaults": {
           "arrowcolor": "#2a3f5f",
           "arrowhead": 0,
           "arrowwidth": 1
          },
          "autotypenumbers": "strict",
          "coloraxis": {
           "colorbar": {
            "outlinewidth": 0,
            "ticks": ""
           }
          },
          "colorscale": {
           "diverging": [
            [
             0,
             "#8e0152"
            ],
            [
             0.1,
             "#c51b7d"
            ],
            [
             0.2,
             "#de77ae"
            ],
            [
             0.3,
             "#f1b6da"
            ],
            [
             0.4,
             "#fde0ef"
            ],
            [
             0.5,
             "#f7f7f7"
            ],
            [
             0.6,
             "#e6f5d0"
            ],
            [
             0.7,
             "#b8e186"
            ],
            [
             0.8,
             "#7fbc41"
            ],
            [
             0.9,
             "#4d9221"
            ],
            [
             1,
             "#276419"
            ]
           ],
           "sequential": [
            [
             0,
             "#0d0887"
            ],
            [
             0.1111111111111111,
             "#46039f"
            ],
            [
             0.2222222222222222,
             "#7201a8"
            ],
            [
             0.3333333333333333,
             "#9c179e"
            ],
            [
             0.4444444444444444,
             "#bd3786"
            ],
            [
             0.5555555555555556,
             "#d8576b"
            ],
            [
             0.6666666666666666,
             "#ed7953"
            ],
            [
             0.7777777777777778,
             "#fb9f3a"
            ],
            [
             0.8888888888888888,
             "#fdca26"
            ],
            [
             1,
             "#f0f921"
            ]
           ],
           "sequentialminus": [
            [
             0,
             "#0d0887"
            ],
            [
             0.1111111111111111,
             "#46039f"
            ],
            [
             0.2222222222222222,
             "#7201a8"
            ],
            [
             0.3333333333333333,
             "#9c179e"
            ],
            [
             0.4444444444444444,
             "#bd3786"
            ],
            [
             0.5555555555555556,
             "#d8576b"
            ],
            [
             0.6666666666666666,
             "#ed7953"
            ],
            [
             0.7777777777777778,
             "#fb9f3a"
            ],
            [
             0.8888888888888888,
             "#fdca26"
            ],
            [
             1,
             "#f0f921"
            ]
           ]
          },
          "colorway": [
           "#636efa",
           "#EF553B",
           "#00cc96",
           "#ab63fa",
           "#FFA15A",
           "#19d3f3",
           "#FF6692",
           "#B6E880",
           "#FF97FF",
           "#FECB52"
          ],
          "font": {
           "color": "#2a3f5f"
          },
          "geo": {
           "bgcolor": "white",
           "lakecolor": "white",
           "landcolor": "#E5ECF6",
           "showlakes": true,
           "showland": true,
           "subunitcolor": "white"
          },
          "hoverlabel": {
           "align": "left"
          },
          "hovermode": "closest",
          "mapbox": {
           "style": "light"
          },
          "paper_bgcolor": "white",
          "plot_bgcolor": "#E5ECF6",
          "polar": {
           "angularaxis": {
            "gridcolor": "white",
            "linecolor": "white",
            "ticks": ""
           },
           "bgcolor": "#E5ECF6",
           "radialaxis": {
            "gridcolor": "white",
            "linecolor": "white",
            "ticks": ""
           }
          },
          "scene": {
           "xaxis": {
            "backgroundcolor": "#E5ECF6",
            "gridcolor": "white",
            "gridwidth": 2,
            "linecolor": "white",
            "showbackground": true,
            "ticks": "",
            "zerolinecolor": "white"
           },
           "yaxis": {
            "backgroundcolor": "#E5ECF6",
            "gridcolor": "white",
            "gridwidth": 2,
            "linecolor": "white",
            "showbackground": true,
            "ticks": "",
            "zerolinecolor": "white"
           },
           "zaxis": {
            "backgroundcolor": "#E5ECF6",
            "gridcolor": "white",
            "gridwidth": 2,
            "linecolor": "white",
            "showbackground": true,
            "ticks": "",
            "zerolinecolor": "white"
           }
          },
          "shapedefaults": {
           "line": {
            "color": "#2a3f5f"
           }
          },
          "ternary": {
           "aaxis": {
            "gridcolor": "white",
            "linecolor": "white",
            "ticks": ""
           },
           "baxis": {
            "gridcolor": "white",
            "linecolor": "white",
            "ticks": ""
           },
           "bgcolor": "#E5ECF6",
           "caxis": {
            "gridcolor": "white",
            "linecolor": "white",
            "ticks": ""
           }
          },
          "title": {
           "x": 0.05
          },
          "xaxis": {
           "automargin": true,
           "gridcolor": "white",
           "linecolor": "white",
           "ticks": "",
           "title": {
            "standoff": 15
           },
           "zerolinecolor": "white",
           "zerolinewidth": 2
          },
          "yaxis": {
           "automargin": true,
           "gridcolor": "white",
           "linecolor": "white",
           "ticks": "",
           "title": {
            "standoff": 15
           },
           "zerolinecolor": "white",
           "zerolinewidth": 2
          }
         }
        },
        "title": {
         "text": "aceleración con respecto a la distancia"
        },
        "xaxis": {
         "autorange": true,
         "range": [
          0,
          314
         ],
         "title": {
          "text": "s[m]"
         },
         "type": "linear"
        },
        "yaxis": {
         "autorange": true,
         "range": [
          -0.06285314061437229,
          16.907494825266145
         ],
         "title": {
          "text": "[m/s^2]"
         },
         "type": "linear"
        }
       }
      },
      "image/png": "[encoded data removed]",
      "text/html": [
       "<div>                            <div id=\"aaa6a693-3145-4016-8b8b-5408cf4b0515\" class=\"plotly-graph-div\" style=\"height:525px; width:100%;\"></div>            <script type=\"text/javascript\">                require([\"plotly\"], function(Plotly) {                    window.PLOTLYENV=window.PLOTLYENV || {};                                    if (document.getElementById(\"aaa6a693-3145-4016-8b8b-5408cf4b0515\")) {                    Plotly.newPlot(                        \"aaa6a693-3145-4016-8b8b-5408cf4b0515\",                        [{\"mode\": \"lines\", \"name\": \"a normal\", \"type\": \"scatter\", \"x\": [0.0, 1.0, 2.0, 3.0, 4.0, 5.0, 6.0, 7.0, 8.0, 9.0, 10.0, 11.0, 12.0, 13.0, 14.0, 15.0, 16.0, 17.0, 18.0, 19.0, 20.0, 21.0, 22.0, 23.0, 24.0, 25.0, 26.0, 27.0, 28.0, 29.0, 30.0, 31.0, 32.0, 33.0, 34.0, 35.0, 36.0, 37.0, 38.0, 39.0, 40.0, 41.0, 42.0, 43.0, 44.0, 45.0, 46.0, 47.0, 48.0, 49.0, 50.0, 51.0, 52.0, 53.0, 54.0, 55.0, 56.0, 57.0, 58.0, 59.0, 60.0, 61.0, 62.0, 63.0, 64.0, 65.0, 66.0, 67.0, 68.0, 69.0, 70.0, 71.0, 72.0, 73.0, 74.0, 75.0, 76.0, 77.0, 78.0, 79.0, 80.0, 81.0, 82.0, 83.0, 84.0, 85.0, 86.0, 87.0, 88.0, 89.0, 90.0, 91.0, 92.0, 93.0, 94.0, 95.0, 96.0, 97.0, 98.0, 99.0, 100.0, 101.0, 102.0, 103.0, 104.0, 105.0, 106.0, 107.0, 108.0, 109.0, 110.0, 111.0, 112.0, 113.0, 114.0, 115.0, 116.0, 117.0, 118.0, 119.0, 120.0, 121.0, 122.0, 123.0, 124.0, 125.0, 126.0, 127.0, 128.0, 129.0, 130.0, 131.0, 132.0, 133.0, 134.0, 135.0, 136.0, 137.0, 138.0, 139.0, 140.0, 141.0, 142.0, 143.0, 144.0, 145.0, 146.0, 147.0, 148.0, 149.0, 150.0, 151.0, 152.0, 153.0, 154.0, 155.0, 156.0, 157.0, 158.0, 159.0, 160.0, 161.0, 162.0, 163.0, 164.0, 165.0, 166.0, 167.0, 168.0, 169.0, 170.0, 171.0, 172.0, 173.0, 174.0, 175.0, 176.0, 177.0, 178.0, 179.0, 180.0, 181.0, 182.0, 183.0, 184.0, 185.0, 186.0, 187.0, 188.0, 189.0, 190.0, 191.0, 192.0, 193.0, 194.0, 195.0, 196.0, 197.0, 198.0, 199.0, 200.0, 201.0, 202.0, 203.0, 204.0, 205.0, 206.0, 207.0, 208.0, 209.0, 210.0, 211.0, 212.0, 213.0, 214.0, 215.0, 216.0, 217.0, 218.0, 219.0, 220.0, 221.0, 222.0, 223.0, 224.0, 225.0, 226.0, 227.0, 228.0, 229.0, 230.0, 231.0, 232.0, 233.0, 234.0, 235.0, 236.0, 237.0, 238.0, 239.0, 240.0, 241.0, 242.0, 243.0, 244.0, 245.0, 246.0, 247.0, 248.0, 249.0, 250.0, 251.0, 252.0, 253.0, 254.0, 255.0, 256.0, 257.0, 258.0, 259.0, 260.0, 261.0, 262.0, 263.0, 264.0, 265.0, 266.0, 267.0, 268.0, 269.0, 270.0, 271.0, 272.0, 273.0, 274.0, 275.0, 276.0, 277.0, 278.0, 279.0, 280.0, 281.0, 282.0, 283.0, 284.0, 285.0, 286.0, 287.0, 288.0, 289.0, 290.0, 291.0, 292.0, 293.0, 294.0, 295.0, 296.0, 297.0, 298.0, 299.0, 300.0, 301.0, 302.0, 303.0, 304.0, 305.0, 306.0, 307.0, 308.0, 309.0, 310.0, 311.0, 312.0, 313.0, 314.0], \"y\": [6.25, 6.2810000000000015, 6.312, 6.343, 6.374, 6.405, 6.436, 6.467, 6.497999999999999, 6.529, 6.56, 6.591, 6.622000000000001, 6.652999999999999, 6.684000000000001, 6.715, 6.746, 6.777000000000002, 6.808, 6.8389999999999995, 6.869999999999999, 6.901, 6.932, 6.962999999999998, 6.994000000000001, 7.025, 7.056000000000001, 7.087000000000001, 7.1179999999999986, 7.149, 7.18, 7.211, 7.242000000000002, 7.272999999999999, 7.303999999999999, 7.335, 7.3660000000000005, 7.397, 7.428, 7.459, 7.49, 7.521, 7.552, 7.582999999999999, 7.614, 7.645000000000001, 7.676, 7.707000000000001, 7.738, 7.768999999999998, 7.8, 7.831, 7.862, 7.893000000000001, 7.9239999999999995, 7.955, 7.985999999999999, 8.017000000000001, 8.048, 8.079, 8.11, 8.141000000000002, 8.172, 8.203, 8.234000000000002, 8.264999999999999, 8.296000000000001, 8.327000000000002, 8.358, 8.389, 8.42, 8.451, 8.482000000000001, 8.513, 8.544, 8.575, 8.606, 8.637000000000002, 8.668, 8.699000000000002, 8.73, 8.761000000000001, 8.792, 8.823, 8.854000000000001, 8.884999999999998, 8.916, 8.947000000000001, 8.978, 9.009000000000002, 9.04, 9.071000000000002, 9.102, 9.133, 9.164000000000001, 9.195, 9.226, 9.257, 9.288, 9.319, 9.350000000000001, 9.381000000000002, 9.412, 9.443000000000001, 9.474, 9.505, 9.536000000000001, 9.567, 9.597999999999999, 9.629, 9.660000000000002, 9.691, 9.722000000000001, 9.753, 9.783999999999999, 9.815, 9.846, 9.877, 9.907999999999998, 9.939, 9.97, 10.001, 10.032000000000002, 10.062999999999999, 10.094000000000001, 10.125000000000002, 10.156, 10.187000000000001, 10.218, 10.248999999999999, 10.280000000000003, 10.311000000000002, 10.342, 10.372999999999998, 10.404000000000002, 10.435, 10.466, 10.497000000000003, 10.528000000000002, 10.559000000000001, 10.59, 10.620999999999999, 10.652000000000001, 10.683000000000002, 10.714, 10.745000000000003, 10.775999999999996, 10.807, 10.838, 10.869000000000003, 10.9, 10.931000000000001, 10.962000000000003, 10.992999999999997, 11.024000000000001, 11.055, 11.086000000000002, 11.116999999999997, 11.148000000000001, 11.179, 11.21, 11.240999999999996, 11.272000000000002, 11.302999999999999, 11.334000000000001, 11.365, 11.395999999999999, 11.427000000000003, 11.458, 11.489000000000003, 11.519999999999998, 11.550999999999997, 11.582000000000003, 11.613000000000001, 11.644, 11.675000000000002, 11.705999999999996, 11.736999999999998, 11.768000000000004, 11.799, 11.83, 11.861, 11.892000000000003, 11.923000000000002, 11.953999999999999, 11.984999999999998, 12.015999999999996, 12.047000000000002, 12.078, 12.109000000000002, 12.14, 12.171, 12.202, 12.233000000000004, 12.264000000000003, 12.295, 12.325999999999999, 12.357000000000003, 12.388000000000002, 12.419, 12.450000000000003, 12.481, 12.512000000000002, 12.543000000000005, 12.574000000000002, 12.605, 12.636, 12.667, 12.698, 12.729000000000001, 12.759999999999998, 12.790999999999997, 12.822000000000001, 12.853000000000003, 12.884, 12.914999999999997, 12.946000000000002, 12.976999999999999, 13.008000000000003, 13.038999999999998, 13.07, 13.100999999999997, 13.132, 13.163000000000004, 13.193999999999999, 13.224999999999998, 13.255999999999997, 13.287, 13.318000000000005, 13.349, 13.380000000000003, 13.410999999999996, 13.441999999999998, 13.473000000000003, 13.503999999999998, 13.535, 13.566, 13.596999999999998, 13.628000000000004, 13.659000000000002, 13.69, 13.720999999999998, 13.752, 13.783000000000005, 13.814000000000004, 13.844999999999997, 13.876, 13.907000000000004, 13.938000000000002, 13.969000000000001, 14.000000000000002, 14.030999999999997, 14.061999999999998, 14.093, 14.124000000000002, 14.155, 14.186, 14.216999999999999, 14.248000000000005, 14.279000000000003, 14.310000000000002, 14.341000000000001, 14.372, 14.402999999999999, 14.434000000000001, 14.465000000000002, 14.495999999999997, 14.527000000000001, 14.558, 14.588999999999999, 14.62, 14.650999999999996, 14.682000000000002, 14.713, 14.743999999999998, 14.774999999999999, 14.806, 14.837000000000003, 14.868000000000002, 14.899000000000001, 14.929999999999998, 14.960999999999999, 14.991999999999997, 15.023000000000001, 15.053999999999998, 15.085, 15.115999999999996, 15.146999999999998, 15.178000000000003, 15.208999999999998, 15.240000000000002, 15.270999999999997, 15.302000000000003, 15.333000000000002, 15.364, 15.395, 15.425999999999998, 15.457000000000003, 15.488000000000005, 15.519, 15.549999999999997, 15.580999999999996, 15.611999999999998, 15.643000000000004, 15.674, 15.704999999999998, 15.735999999999997, 15.767000000000001, 15.798000000000004, 15.829000000000002, 15.86, 15.890999999999998, 15.921999999999999, 15.953, 15.984000000000002]}, {\"mode\": \"lines\", \"name\": \"a total\", \"type\": \"scatter\", \"x\": [0.0, 1.0, 2.0, 3.0, 4.0, 5.0, 6.0, 7.0, 8.0, 9.0, 10.0, 11.0, 12.0, 13.0, 14.0, 15.0, 16.0, 17.0, 18.0, 19.0, 20.0, 21.0, 22.0, 23.0, 24.0, 25.0, 26.0, 27.0, 28.0, 29.0, 30.0, 31.0, 32.0, 33.0, 34.0, 35.0, 36.0, 37.0, 38.0, 39.0, 40.0, 41.0, 42.0, 43.0, 44.0, 45.0, 46.0, 47.0, 48.0, 49.0, 50.0, 51.0, 52.0, 53.0, 54.0, 55.0, 56.0, 57.0, 58.0, 59.0, 60.0, 61.0, 62.0, 63.0, 64.0, 65.0, 66.0, 67.0, 68.0, 69.0, 70.0, 71.0, 72.0, 73.0, 74.0, 75.0, 76.0, 77.0, 78.0, 79.0, 80.0, 81.0, 82.0, 83.0, 84.0, 85.0, 86.0, 87.0, 88.0, 89.0, 90.0, 91.0, 92.0, 93.0, 94.0, 95.0, 96.0, 97.0, 98.0, 99.0, 100.0, 101.0, 102.0, 103.0, 104.0, 105.0, 106.0, 107.0, 108.0, 109.0, 110.0, 111.0, 112.0, 113.0, 114.0, 115.0, 116.0, 117.0, 118.0, 119.0, 120.0, 121.0, 122.0, 123.0, 124.0, 125.0, 126.0, 127.0, 128.0, 129.0, 130.0, 131.0, 132.0, 133.0, 134.0, 135.0, 136.0, 137.0, 138.0, 139.0, 140.0, 141.0, 142.0, 143.0, 144.0, 145.0, 146.0, 147.0, 148.0, 149.0, 150.0, 151.0, 152.0, 153.0, 154.0, 155.0, 156.0, 157.0, 158.0, 159.0, 160.0, 161.0, 162.0, 163.0, 164.0, 165.0, 166.0, 167.0, 168.0, 169.0, 170.0, 171.0, 172.0, 173.0, 174.0, 175.0, 176.0, 177.0, 178.0, 179.0, 180.0, 181.0, 182.0, 183.0, 184.0, 185.0, 186.0, 187.0, 188.0, 189.0, 190.0, 191.0, 192.0, 193.0, 194.0, 195.0, 196.0, 197.0, 198.0, 199.0, 200.0, 201.0, 202.0, 203.0, 204.0, 205.0, 206.0, 207.0, 208.0, 209.0, 210.0, 211.0, 212.0, 213.0, 214.0, 215.0, 216.0, 217.0, 218.0, 219.0, 220.0, 221.0, 222.0, 223.0, 224.0, 225.0, 226.0, 227.0, 228.0, 229.0, 230.0, 231.0, 232.0, 233.0, 234.0, 235.0, 236.0, 237.0, 238.0, 239.0, 240.0, 241.0, 242.0, 243.0, 244.0, 245.0, 246.0, 247.0, 248.0, 249.0, 250.0, 251.0, 252.0, 253.0, 254.0, 255.0, 256.0, 257.0, 258.0, 259.0, 260.0, 261.0, 262.0, 263.0, 264.0, 265.0, 266.0, 267.0, 268.0, 269.0, 270.0, 271.0, 272.0, 273.0, 274.0, 275.0, 276.0, 277.0, 278.0, 279.0, 280.0, 281.0, 282.0, 283.0, 284.0, 285.0, 286.0, 287.0, 288.0, 289.0, 290.0, 291.0, 292.0, 293.0, 294.0, 295.0, 296.0, 297.0, 298.0, 299.0, 300.0, 301.0, 302.0, 303.0, 304.0, 305.0, 306.0, 307.0, 308.0, 309.0, 310.0, 311.0, 312.0, 313.0, 314.0], \"y\": [6.439332263519255, 6.469425090377044, 6.499526444288077, 6.529636207324264, 6.559754263690066, 6.589880499675241, 6.620014803608826, 6.6501570658143105, 6.680307178565967, 6.71046503604631, 6.7406305343046355, 6.77080357121664, 6.800984046445045, 6.831171861401233, 6.861366919207865, 6.891569124662395, 6.921778384201564, 6.951994605866724, 6.982217699270054, 7.012447575561617, 7.042684147397212, 7.072927328907035, 7.103177035665098, 7.133433184659402, 7.163695694262844, 7.193964484204798, 7.22423947554343, 7.2545205906386405, 7.284807753125678, 7.315100887889381, 7.345399921039017, 7.37570477988375, 7.406015392908661, 7.436331689751338, 7.466653601179044, 7.496981059066377, 7.527313996373475, 7.557652347124734, 7.587996046388006, 7.618345030254274, 7.648699235817814, 7.679058601156785, 7.709423065314291, 7.73979256827985, 7.770167050971298, 7.8005464552170976, 7.830930723739038, 7.861319800135345, 7.89171362886414, 7.92211215522729, 7.9525153253546135, 7.982923086188418, 8.0133353854684, 8.043752171716879, 8.074173394224328, 8.104599003035252, 8.135028948934355, 8.165463183433014, 8.19590165875604, 8.226344327828736, 8.256791144264216, 8.287242062351023, 8.317697037040963, 8.348156023937262, 8.378618979282924, 8.409085859949343, 8.439556623425192, 8.470031227805482, 8.50050963178091, 8.530991794627397, 8.561477676195857, 8.591967236902153, 8.6224604377173, 8.652957240157841, 8.68345760627643, 8.713961498652607, 8.74446888038376, 8.774979715076272, 8.80549396683684, 8.836011600264003, 8.866532580439774, 8.897056872921517, 8.927584443733926, 8.958115259361202, 8.98864928673936, 9.01918649324871, 9.04972684670648, 9.080270315359561, 9.110816867877435, 9.14136647334522, 9.171919101256835, 9.202474721508342, 9.233033304391359, 9.26359482058666, 9.294159241157859, 9.324726537545217, 9.355296681559597, 9.3858696453765, 9.41644540153024, 9.44702392290821, 9.477605182745272, 9.508189154618247, 9.538775812440505, 9.56936513045667, 9.599957083237404, 9.630551645674302, 9.661148792974883, 9.69174850065766, 9.722350744547327, 9.75295550077001, 9.783562745748608, 9.81417245619823, 9.844784609121726, 9.87539918180526, 9.906016151814006, 9.9366354969879, 9.967257195437469, 9.99788122553974, 10.028507565934223, 10.059136195518978, 10.089767093446707, 10.12040023912098, 10.151035612192484, 10.181673192555337, 10.21231296034351, 10.242954895927252, 10.273598979909622, 10.304245193123077, 10.33489351662609, 10.365543931699868, 10.396196419845099, 10.426850962778744, 10.45750754243094, 10.488166140941892, 10.518826740658866, 10.549489324133184, 10.580153874117332, 10.610820373562078, 10.641488805613623, 10.672159153610858, 10.702831401082612, 10.733505531744974, 10.764181529498655, 10.794859378426382, 10.82553906279036, 10.856220567029764, 10.886903875758247, 10.91758897376156, 10.948275845995113, 10.978964477581666, 11.009654853808996, 11.040346960127659, 11.071040782148717, 11.10173630564156, 11.132433516531774, 11.163132400898952, 11.193832944974659, 11.22453513514034, 11.255238957925329, 11.285944400004814, 11.316651448197918, 11.347360089465738, 11.378070310909493, 11.408782099768581, 11.439495443418824, 11.4702103293706, 11.500926745267096, 11.531644678882543, 11.562364118120481, 11.593085051012093, 11.62380746571449, 11.654531350509119, 11.6852566938001, 11.715983484112636, 11.746711710091468, 11.777441360499319, 11.808172424215353, 11.838904890233723, 11.86963874766204, 11.900373985719945, 11.931110593737701, 11.961848561154753, 11.99258787751835, 12.023328532482179, 12.054070515805023, 12.08481381734944, 12.115558427080442, 12.146304335064228, 12.177051531466883, 12.207800006553189, 12.238549750685333, 12.269300754321739, 12.30005300801586, 12.330806502415003, 12.361561228259157, 12.392317176379889, 12.423074337699182, 12.453832703228356, 12.484592264066938, 12.515353011401636, 12.546114936505248, 12.576878030735609, 12.607642285534597, 12.638407692427085, 12.669174243019947, 12.699941929001094, 12.730710742138475, 12.761480674279142, 12.792251717348279, 12.823023863348304, 12.853797104357916, 12.884571432531231, 12.915346840096863, 12.946123319357039, 12.976900862686746, 13.00767946253289, 13.038459111413436, 13.069239801916558, 13.100021526699873, 13.130804278489569, 13.161588050079672, 13.192372834331206, 13.223158624171457, 13.253945412593191, 13.284733192653889, 13.31552195747504, 13.346311700241378, 13.37710241420017, 13.407894092660493, 13.438686728992533, 13.469480316626921, 13.500274849053996, 13.531070319823186, 13.561866722542295, 13.592664050876852, 13.623462298549514, 13.654261459339352, 13.68506152708127, 13.715862495665379, 13.746664359036343, 13.777467111192827, 13.808270746186865, 13.839075258123284, 13.869880641159106, 13.900686889502984, 13.931493997414632, 13.962301959204291, 13.993110769232127, 14.023920421907707, 14.054730911689488, 14.08554223308425, 14.116354380646582, 14.147167348978378, 14.177981132728313, 14.208795726591331, 14.239611125308162, 14.270427323664839, 14.301244316492182, 14.33206209866536, 14.362880665103367, 14.393700010768603, 14.424520130666393, 14.455341019844534, 14.486162673392839, 14.516985086442709, 14.547808254166675, 14.57863217177798, 14.60945683453016, 14.640282237716594, 14.671108376670114, 14.701935246762584, 14.732762843404489, 14.763591162044554, 14.794420198169307, 14.825249947302742, 14.85608040500589, 14.886911566876455, 14.917743428548437, 14.948575985691749, 14.979409234011868, 15.010243169249456, 15.041077787180011, 15.071913083613504, 15.102749054394039, 15.133585695399486, 15.164423002541179, 15.19526097176353, 15.22609959904374, 15.256938880391441, 15.28777881184837, 15.318619389488077, 15.34946060941556, 15.380302467767013, 15.411144960709443, 15.441988084440423, 15.472831835187765, 15.50367620920922, 15.53452120279219, 15.56536681225342, 15.596213033938719, 15.627059864222698, 15.657907299508446, 15.68875533622728, 15.719603970838454, 15.750453199828886, 15.781303019712915, 15.812153427032003, 15.843004418354495, 15.873855990275334, 15.904708139415828, 15.935560862423387, 15.966414155971275, 15.99726801675836, 16.02812244150886, 16.05897742697212]}],                        {\"shapes\": [{\"type\": \"line\", \"x0\": 0, \"x1\": 1, \"xref\": \"x domain\", \"y0\": 1.55, \"y1\": 1.55, \"yref\": \"y\"}, {\"type\": \"line\", \"x0\": 0, \"x1\": 1, \"xref\": \"x domain\", \"y0\": 0, \"y1\": 0, \"yref\": \"y\"}], \"template\": {\"data\": {\"bar\": [{\"error_x\": {\"color\": \"#2a3f5f\"}, \"error_y\": {\"color\": \"#2a3f5f\"}, \"marker\": {\"line\": {\"color\": \"#E5ECF6\", \"width\": 0.5}}, \"type\": \"bar\"}], \"barpolar\": [{\"marker\": {\"line\": {\"color\": \"#E5ECF6\", \"width\": 0.5}}, \"type\": \"barpolar\"}], \"carpet\": [{\"aaxis\": {\"endlinecolor\": \"#2a3f5f\", \"gridcolor\": \"white\", \"linecolor\": \"white\", \"minorgridcolor\": \"white\", \"startlinecolor\": \"#2a3f5f\"}, \"baxis\": {\"endlinecolor\": \"#2a3f5f\", \"gridcolor\": \"white\", \"linecolor\": \"white\", \"minorgridcolor\": \"white\", \"startlinecolor\": \"#2a3f5f\"}, \"type\": \"carpet\"}], \"choropleth\": [{\"colorbar\": {\"outlinewidth\": 0, \"ticks\": \"\"}, \"type\": \"choropleth\"}], \"contour\": [{\"colorbar\": {\"outlinewidth\": 0, \"ticks\": \"\"}, \"colorscale\": [[0.0, \"#0d0887\"], [0.1111111111111111, \"#46039f\"], [0.2222222222222222, \"#7201a8\"], [0.3333333333333333, \"#9c179e\"], [0.4444444444444444, \"#bd3786\"], [0.5555555555555556, \"#d8576b\"], [0.6666666666666666, \"#ed7953\"], [0.7777777777777778, \"#fb9f3a\"], [0.8888888888888888, \"#fdca26\"], [1.0, \"#f0f921\"]], \"type\": \"contour\"}], \"contourcarpet\": [{\"colorbar\": {\"outlinewidth\": 0, \"ticks\": \"\"}, \"type\": \"contourcarpet\"}], \"heatmap\": [{\"colorbar\": {\"outlinewidth\": 0, \"ticks\": \"\"}, \"colorscale\": [[0.0, \"#0d0887\"], [0.1111111111111111, \"#46039f\"], [0.2222222222222222, \"#7201a8\"], [0.3333333333333333, \"#9c179e\"], [0.4444444444444444, \"#bd3786\"], [0.5555555555555556, \"#d8576b\"], [0.6666666666666666, \"#ed7953\"], [0.7777777777777778, \"#fb9f3a\"], [0.8888888888888888, \"#fdca26\"], [1.0, \"#f0f921\"]], \"type\": \"heatmap\"}], \"heatmapgl\": [{\"colorbar\": {\"outlinewidth\": 0, \"ticks\": \"\"}, \"colorscale\": [[0.0, \"#0d0887\"], [0.1111111111111111, \"#46039f\"], [0.2222222222222222, \"#7201a8\"], [0.3333333333333333, \"#9c179e\"], [0.4444444444444444, \"#bd3786\"], [0.5555555555555556, \"#d8576b\"], [0.6666666666666666, \"#ed7953\"], [0.7777777777777778, \"#fb9f3a\"], [0.8888888888888888, \"#fdca26\"], [1.0, \"#f0f921\"]], \"type\": \"heatmapgl\"}], \"histogram\": [{\"marker\": {\"colorbar\": {\"outlinewidth\": 0, \"ticks\": \"\"}}, \"type\": \"histogram\"}], \"histogram2d\": [{\"colorbar\": {\"outlinewidth\": 0, \"ticks\": \"\"}, \"colorscale\": [[0.0, \"#0d0887\"], [0.1111111111111111, \"#46039f\"], [0.2222222222222222, \"#7201a8\"], [0.3333333333333333, \"#9c179e\"], [0.4444444444444444, \"#bd3786\"], [0.5555555555555556, \"#d8576b\"], [0.6666666666666666, \"#ed7953\"], [0.7777777777777778, \"#fb9f3a\"], [0.8888888888888888, \"#fdca26\"], [1.0, \"#f0f921\"]], \"type\": \"histogram2d\"}], \"histogram2dcontour\": [{\"colorbar\": {\"outlinewidth\": 0, \"ticks\": \"\"}, \"colorscale\": [[0.0, \"#0d0887\"], [0.1111111111111111, \"#46039f\"], [0.2222222222222222, \"#7201a8\"], [0.3333333333333333, \"#9c179e\"], [0.4444444444444444, \"#bd3786\"], [0.5555555555555556, \"#d8576b\"], [0.6666666666666666, \"#ed7953\"], [0.7777777777777778, \"#fb9f3a\"], [0.8888888888888888, \"#fdca26\"], [1.0, \"#f0f921\"]], \"type\": \"histogram2dcontour\"}], \"mesh3d\": [{\"colorbar\": {\"outlinewidth\": 0, \"ticks\": \"\"}, \"type\": \"mesh3d\"}], \"parcoords\": [{\"line\": {\"colorbar\": {\"outlinewidth\": 0, \"ticks\": \"\"}}, \"type\": \"parcoords\"}], \"pie\": [{\"automargin\": true, \"type\": \"pie\"}], \"scatter\": [{\"marker\": {\"colorbar\": {\"outlinewidth\": 0, \"ticks\": \"\"}}, \"type\": \"scatter\"}], \"scatter3d\": [{\"line\": {\"colorbar\": {\"outlinewidth\": 0, \"ticks\": \"\"}}, \"marker\": {\"colorbar\": {\"outlinewidth\": 0, \"ticks\": \"\"}}, \"type\": \"scatter3d\"}], \"scattercarpet\": [{\"marker\": {\"colorbar\": {\"outlinewidth\": 0, \"ticks\": \"\"}}, \"type\": \"scattercarpet\"}], \"scattergeo\": [{\"marker\": {\"colorbar\": {\"outlinewidth\": 0, \"ticks\": \"\"}}, \"type\": \"scattergeo\"}], \"scattergl\": [{\"marker\": {\"colorbar\": {\"outlinewidth\": 0, \"ticks\": \"\"}}, \"type\": \"scattergl\"}], \"scattermapbox\": [{\"marker\": {\"colorbar\": {\"outlinewidth\": 0, \"ticks\": \"\"}}, \"type\": \"scattermapbox\"}], \"scatterpolar\": [{\"marker\": {\"colorbar\": {\"outlinewidth\": 0, \"ticks\": \"\"}}, \"type\": \"scatterpolar\"}], \"scatterpolargl\": [{\"marker\": {\"colorbar\": {\"outlinewidth\": 0, \"ticks\": \"\"}}, \"type\": \"scatterpolargl\"}], \"scatterternary\": [{\"marker\": {\"colorbar\": {\"outlinewidth\": 0, \"ticks\": \"\"}}, \"type\": \"scatterternary\"}], \"surface\": [{\"colorbar\": {\"outlinewidth\": 0, \"ticks\": \"\"}, \"colorscale\": [[0.0, \"#0d0887\"], [0.1111111111111111, \"#46039f\"], [0.2222222222222222, \"#7201a8\"], [0.3333333333333333, \"#9c179e\"], [0.4444444444444444, \"#bd3786\"], [0.5555555555555556, \"#d8576b\"], [0.6666666666666666, \"#ed7953\"], [0.7777777777777778, \"#fb9f3a\"], [0.8888888888888888, \"#fdca26\"], [1.0, \"#f0f921\"]], \"type\": \"surface\"}], \"table\": [{\"cells\": {\"fill\": {\"color\": \"#EBF0F8\"}, \"line\": {\"color\": \"white\"}}, \"header\": {\"fill\": {\"color\": \"#C8D4E3\"}, \"line\": {\"color\": \"white\"}}, \"type\": \"table\"}]}, \"layout\": {\"annotationdefaults\": {\"arrowcolor\": \"#2a3f5f\", \"arrowhead\": 0, \"arrowwidth\": 1}, \"autotypenumbers\": \"strict\", \"coloraxis\": {\"colorbar\": {\"outlinewidth\": 0, \"ticks\": \"\"}}, \"colorscale\": {\"diverging\": [[0, \"#8e0152\"], [0.1, \"#c51b7d\"], [0.2, \"#de77ae\"], [0.3, \"#f1b6da\"], [0.4, \"#fde0ef\"], [0.5, \"#f7f7f7\"], [0.6, \"#e6f5d0\"], [0.7, \"#b8e186\"], [0.8, \"#7fbc41\"], [0.9, \"#4d9221\"], [1, \"#276419\"]], \"sequential\": [[0.0, \"#0d0887\"], [0.1111111111111111, \"#46039f\"], [0.2222222222222222, \"#7201a8\"], [0.3333333333333333, \"#9c179e\"], [0.4444444444444444, \"#bd3786\"], [0.5555555555555556, \"#d8576b\"], [0.6666666666666666, \"#ed7953\"], [0.7777777777777778, \"#fb9f3a\"], [0.8888888888888888, \"#fdca26\"], [1.0, \"#f0f921\"]], \"sequentialminus\": [[0.0, \"#0d0887\"], [0.1111111111111111, \"#46039f\"], [0.2222222222222222, \"#7201a8\"], [0.3333333333333333, \"#9c179e\"], [0.4444444444444444, \"#bd3786\"], [0.5555555555555556, \"#d8576b\"], [0.6666666666666666, \"#ed7953\"], [0.7777777777777778, \"#fb9f3a\"], [0.8888888888888888, \"#fdca26\"], [1.0, \"#f0f921\"]]}, \"colorway\": [\"#636efa\", \"#EF553B\", \"#00cc96\", \"#ab63fa\", \"#FFA15A\", \"#19d3f3\", \"#FF6692\", \"#B6E880\", \"#FF97FF\", \"#FECB52\"], \"font\": {\"color\": \"#2a3f5f\"}, \"geo\": {\"bgcolor\": \"white\", \"lakecolor\": \"white\", \"landcolor\": \"#E5ECF6\", \"showlakes\": true, \"showland\": true, \"subunitcolor\": \"white\"}, \"hoverlabel\": {\"align\": \"left\"}, \"hovermode\": \"closest\", \"mapbox\": {\"style\": \"light\"}, \"paper_bgcolor\": \"white\", \"plot_bgcolor\": \"#E5ECF6\", \"polar\": {\"angularaxis\": {\"gridcolor\": \"white\", \"linecolor\": \"white\", \"ticks\": \"\"}, \"bgcolor\": \"#E5ECF6\", \"radialaxis\": {\"gridcolor\": \"white\", \"linecolor\": \"white\", \"ticks\": \"\"}}, \"scene\": {\"xaxis\": {\"backgroundcolor\": \"#E5ECF6\", \"gridcolor\": \"white\", \"gridwidth\": 2, \"linecolor\": \"white\", \"showbackground\": true, \"ticks\": \"\", \"zerolinecolor\": \"white\"}, \"yaxis\": {\"backgroundcolor\": \"#E5ECF6\", \"gridcolor\": \"white\", \"gridwidth\": 2, \"linecolor\": \"white\", \"showbackground\": true, \"ticks\": \"\", \"zerolinecolor\": \"white\"}, \"zaxis\": {\"backgroundcolor\": \"#E5ECF6\", \"gridcolor\": \"white\", \"gridwidth\": 2, \"linecolor\": \"white\", \"showbackground\": true, \"ticks\": \"\", \"zerolinecolor\": \"white\"}}, \"shapedefaults\": {\"line\": {\"color\": \"#2a3f5f\"}}, \"ternary\": {\"aaxis\": {\"gridcolor\": \"white\", \"linecolor\": \"white\", \"ticks\": \"\"}, \"baxis\": {\"gridcolor\": \"white\", \"linecolor\": \"white\", \"ticks\": \"\"}, \"bgcolor\": \"#E5ECF6\", \"caxis\": {\"gridcolor\": \"white\", \"linecolor\": \"white\", \"ticks\": \"\"}}, \"title\": {\"x\": 0.05}, \"xaxis\": {\"automargin\": true, \"gridcolor\": \"white\", \"linecolor\": \"white\", \"ticks\": \"\", \"title\": {\"standoff\": 15}, \"zerolinecolor\": \"white\", \"zerolinewidth\": 2}, \"yaxis\": {\"automargin\": true, \"gridcolor\": \"white\", \"linecolor\": \"white\", \"ticks\": \"\", \"title\": {\"standoff\": 15}, \"zerolinecolor\": \"white\", \"zerolinewidth\": 2}}}, \"title\": {\"text\": \"aceleraci\\u00f3n con respecto a la distancia\"}, \"xaxis\": {\"title\": {\"text\": \"s[m]\"}}, \"yaxis\": {\"title\": {\"text\": \"[m/s^2]\"}}},                        {\"responsive\": true}                    ).then(function(){\n",
       "                            \n",
       "var gd = document.getElementById('aaa6a693-3145-4016-8b8b-5408cf4b0515');\n",
       "var x = new MutationObserver(function (mutations, observer) {{\n",
       "        var display = window.getComputedStyle(gd).display;\n",
       "        if (!display || display === 'none') {{\n",
       "            console.log([gd, 'removed!']);\n",
       "            Plotly.purge(gd);\n",
       "            observer.disconnect();\n",
       "        }}\n",
       "}});\n",
       "\n",
       "// Listen for the removal of the full notebook cells\n",
       "var notebookContainer = gd.closest('#notebook-container');\n",
       "if (notebookContainer) {{\n",
       "    x.observe(notebookContainer, {childList: true});\n",
       "}}\n",
       "\n",
       "// Listen for the clearing of the current output cell\n",
       "var outputEl = gd.closest('.output');\n",
       "if (outputEl) {{\n",
       "    x.observe(outputEl, {childList: true});\n",
       "}}\n",
       "\n",
       "                        })                };                });            </script>        </div>"
      ]
     },
     "metadata": {},
     "output_type": "display_data"
    }
   ],
   "source": [
    "#datos\n",
    "R=100 #[m]\n",
    "s=np.arange(0,R*np.pi,1) #creando lista numérica\n",
    "at=1.55 #[m/s^2]\n",
    "#análisis \n",
    "vt=np.sqrt(2*(1.55*s+312.5)) #velocidad tangencial\n",
    "an=(vt**2)/R\n",
    "aa=np.sqrt((at**2)+(an**2))\n",
    "#plot\n",
    "fig=go.Figure()\n",
    "\n",
    "fig.add_trace(go.Scatter(x=s, y=an, \n",
    "                         mode='lines', \n",
    "                         name='a normal'))\n",
    "fig.add_trace(go.Scatter(x=s, y=aa, \n",
    "                         mode='lines', \n",
    "                         name='a total'))\n",
    "fig.add_hline(y=at)\n",
    "fig.add_hline(y=0)\n",
    "\n",
    "fig.update_layout(title='aceleración con respecto a la distancia recorrida',\n",
    "                   xaxis_title='s[m]',\n",
    "                   yaxis_title='[m/s^2]')\n",
    "fig.show()"
   ]
  },
  {
   "cell_type": "markdown",
   "metadata": {},
   "source": [
    "## coordenadas polares (radial transversal)\n",
    "\n",
    "![title](E-rectM_2-141.png)\n",
    "\n",
    "> La posición radial de la partícula de fluido P en una bomba centrífuga con álabe radiales es aproximadamente $r=r_{0}cos(h)Kt$ donde $t$ es tiempo y $K=\\dot{\\theta}$ es la variación constante angular a la cual gira la bomba. <br> Cuando la bomba gira a 1200[rpm], la distancia recorrida es de 10[cm] y el cilindro de alimentación tiene un radio de 2[cm]. Cuál es la variación d ela velocidad de la partícula de fluido mientras se encuentra en la bomba. \n",
    "\n",
    "Por lo que se tiene para las fuerzas en el eje transversal $$\\Sigma F e_{\\theta}=2*\\dot{r}\\dot{\\theta}*m = N$$\n",
    "<br>Y en el eje radial se tiene $$\\Sigma F e_{r}=0=\\ddot{r}-\\dot{r}*\\dot{\\theta}^2$$\n",
    "\n",
    "La velocidad de la partícula que se encuentra en el eje radial $$v_r=\\dot{r}=r_{0}sinh(K)$$\n",
    "\n",
    "La velocidad de la partícula en el eje transversal $$v_{\\theta}=r*\\dot{\\theta}$$\n",
    "\n",
    "Y las aceleraciones $$\\vec{a}=corriolis+euler+centripeta+radial=2*\\dot{r}*\\dot{\\theta}\\vec{e_{\\theta}}+r*\\ddot{r}\\vec{e_{\\theta}}-r*\\dot{\\theta}^2\\vec{e_{r}}+\\ddot{r}\\vec{e_{r}}$$\n",
    "\n",
    "**La partícula es impulsada por la fuerza normal del álabe de la bomba.**\n",
    "\n",
    "**La fuerza de expulsión (generada) es debido a la aceleración centrípeta.**"
   ]
  },
  {
   "cell_type": "code",
   "execution_count": 58,
   "metadata": {},
   "outputs": [
    {
     "data": {
      "application/vnd.plotly.v1+json": {
       "config": {
        "plotlyServerURL": "https://plot.ly"
       },
       "data": [
        {
         "mode": "lines",
         "name": "vel radial",
         "type": "scatter",
         "x": [
          0.02,
          0.021,
          0.022000000000000002,
          0.023000000000000003,
          0.024000000000000004,
          0.025000000000000005,
          0.026000000000000006,
          0.027000000000000007,
          0.028000000000000008,
          0.02900000000000001,
          0.03000000000000001,
          0.03100000000000001,
          0.032000000000000015,
          0.033000000000000015,
          0.034000000000000016,
          0.03500000000000002,
          0.03600000000000002,
          0.03700000000000002,
          0.03800000000000002,
          0.03900000000000002,
          0.04000000000000002,
          0.04100000000000002,
          0.04200000000000002,
          0.043000000000000024,
          0.044000000000000025,
          0.045000000000000026,
          0.04600000000000003,
          0.04700000000000003,
          0.04800000000000003,
          0.04900000000000003,
          0.05000000000000003,
          0.05100000000000003,
          0.05200000000000003,
          0.05300000000000003,
          0.054000000000000034,
          0.055000000000000035,
          0.056000000000000036,
          0.05700000000000004,
          0.05800000000000004,
          0.05900000000000004,
          0.06000000000000004,
          0.06100000000000004,
          0.06200000000000004,
          0.06300000000000004,
          0.06400000000000004,
          0.06500000000000004,
          0.06600000000000004,
          0.06700000000000005,
          0.06800000000000005,
          0.06900000000000005,
          0.07000000000000005,
          0.07100000000000005,
          0.07200000000000005,
          0.07300000000000005,
          0.07400000000000005,
          0.07500000000000005,
          0.07600000000000005,
          0.07700000000000005,
          0.07800000000000006,
          0.07900000000000006,
          0.08000000000000006,
          0.08100000000000006,
          0.08200000000000006,
          0.08300000000000006,
          0.08400000000000006,
          0.08500000000000006,
          0.08600000000000006,
          0.08700000000000006,
          0.08800000000000006,
          0.08900000000000007,
          0.09000000000000007,
          0.09100000000000007,
          0.09200000000000007,
          0.09300000000000007,
          0.09400000000000007,
          0.09500000000000007,
          0.09600000000000007,
          0.09700000000000007,
          0.09800000000000007,
          0.09900000000000007
         ],
         "y": [
          3.758842716698643e+52,
          3.9467848525335755e+52,
          4.134726988368508e+52,
          4.3226691242034405e+52,
          4.5106112600383724e+52,
          4.698553395873305e+52,
          4.886495531708237e+52,
          5.07443766754317e+52,
          5.262379803378102e+52,
          5.450321939213035e+52,
          5.638264075047967e+52,
          5.826206210882899e+52,
          6.014148346717832e+52,
          6.202090482552765e+52,
          6.390032618387697e+52,
          6.577974754222629e+52,
          6.765916890057562e+52,
          6.953859025892494e+52,
          7.141801161727425e+52,
          7.329743297562358e+52,
          7.51768543339729e+52,
          7.705627569232223e+52,
          7.893569705067155e+52,
          8.081511840902087e+52,
          8.26945397673702e+52,
          8.457396112571952e+52,
          8.645338248406884e+52,
          8.833280384241817e+52,
          9.021222520076749e+52,
          9.209164655911681e+52,
          9.397106791746614e+52,
          9.585048927581546e+52,
          9.772991063416478e+52,
          9.96093319925141e+52,
          1.0148875335086344e+53,
          1.0336817470921276e+53,
          1.0524759606756208e+53,
          1.071270174259114e+53,
          1.0900643878426072e+53,
          1.1088586014261006e+53,
          1.1276528150095938e+53,
          1.146447028593087e+53,
          1.1652412421765802e+53,
          1.1840354557600734e+53,
          1.2028296693435666e+53,
          1.22162388292706e+53,
          1.2404180965105532e+53,
          1.2592123100940463e+53,
          1.2780065236775395e+53,
          1.2968007372610327e+53,
          1.3155949508445261e+53,
          1.3343891644280193e+53,
          1.3531833780115125e+53,
          1.3719775915950057e+53,
          1.390771805178499e+53,
          1.4095660187619921e+53,
          1.4283602323454855e+53,
          1.4471544459289787e+53,
          1.465948659512472e+53,
          1.484742873095965e+53,
          1.5035370866794583e+53,
          1.5223313002629517e+53,
          1.541125513846445e+53,
          1.559919727429938e+53,
          1.5787139410134313e+53,
          1.5975081545969245e+53,
          1.6163023681804177e+53,
          1.635096581763911e+53,
          1.6538907953474043e+53,
          1.6726850089308975e+53,
          1.6914792225143907e+53,
          1.7102734360978839e+53,
          1.7290676496813773e+53,
          1.7478618632648705e+53,
          1.7666560768483636e+53,
          1.7854502904318568e+53,
          1.80424450401535e+53,
          1.8230387175988432e+53,
          1.8418329311823366e+53,
          1.8606271447658298e+53
         ]
        },
        {
         "mode": "lines",
         "name": "vel tang",
         "type": "scatter",
         "x": [
          0.02,
          0.021,
          0.022000000000000002,
          0.023000000000000003,
          0.024000000000000004,
          0.025000000000000005,
          0.026000000000000006,
          0.027000000000000007,
          0.028000000000000008,
          0.02900000000000001,
          0.03000000000000001,
          0.03100000000000001,
          0.032000000000000015,
          0.033000000000000015,
          0.034000000000000016,
          0.03500000000000002,
          0.03600000000000002,
          0.03700000000000002,
          0.03800000000000002,
          0.03900000000000002,
          0.04000000000000002,
          0.04100000000000002,
          0.04200000000000002,
          0.043000000000000024,
          0.044000000000000025,
          0.045000000000000026,
          0.04600000000000003,
          0.04700000000000003,
          0.04800000000000003,
          0.04900000000000003,
          0.05000000000000003,
          0.05100000000000003,
          0.05200000000000003,
          0.05300000000000003,
          0.054000000000000034,
          0.055000000000000035,
          0.056000000000000036,
          0.05700000000000004,
          0.05800000000000004,
          0.05900000000000004,
          0.06000000000000004,
          0.06100000000000004,
          0.06200000000000004,
          0.06300000000000004,
          0.06400000000000004,
          0.06500000000000004,
          0.06600000000000004,
          0.06700000000000005,
          0.06800000000000005,
          0.06900000000000005,
          0.07000000000000005,
          0.07100000000000005,
          0.07200000000000005,
          0.07300000000000005,
          0.07400000000000005,
          0.07500000000000005,
          0.07600000000000005,
          0.07700000000000005,
          0.07800000000000006,
          0.07900000000000006,
          0.08000000000000006,
          0.08100000000000006,
          0.08200000000000006,
          0.08300000000000006,
          0.08400000000000006,
          0.08500000000000006,
          0.08600000000000006,
          0.08700000000000006,
          0.08800000000000006,
          0.08900000000000007,
          0.09000000000000007,
          0.09100000000000007,
          0.09200000000000007,
          0.09300000000000007,
          0.09400000000000007,
          0.09500000000000007,
          0.09600000000000007,
          0.09700000000000007,
          0.09800000000000007,
          0.09900000000000007
         ],
         "y": [
          2.5132741228718345,
          2.6389378290154264,
          2.7646015351590183,
          2.89026524130261,
          3.015928947446202,
          3.1415926535897936,
          3.2672563597333855,
          3.3929200658769774,
          3.5185837720205693,
          3.644247478164161,
          3.769911184307753,
          3.8955748904513445,
          4.021238596594937,
          4.146902302738529,
          4.272566008882121,
          4.398229715025712,
          4.523893421169304,
          4.649557127312896,
          4.775220833456488,
          4.90088453960008,
          5.026548245743672,
          5.1522119518872636,
          5.2778756580308555,
          5.403539364174447,
          5.529203070318039,
          5.654866776461631,
          5.780530482605223,
          5.906194188748815,
          6.031857894892406,
          6.157521601035998,
          6.28318530717959,
          6.408849013323182,
          6.534512719466774,
          6.6601764256103655,
          6.785840131753957,
          6.911503837897549,
          7.037167544041141,
          7.162831250184733,
          7.288494956328325,
          7.414158662471917,
          7.539822368615509,
          7.665486074759101,
          7.791149780902692,
          7.916813487046284,
          8.042477193189876,
          8.168140899333467,
          8.29380460547706,
          8.419468311620651,
          8.545132017764242,
          8.670795723907835,
          8.796459430051426,
          8.922123136195019,
          9.04778684233861,
          9.173450548482203,
          9.299114254625794,
          9.424777960769386,
          9.550441666912977,
          9.67610537305657,
          9.801769079200161,
          9.927432785343754,
          10.053096491487345,
          10.178760197630938,
          10.304423903774529,
          10.43008760991812,
          10.555751316061713,
          10.681415022205304,
          10.807078728348896,
          10.932742434492488,
          11.05840614063608,
          11.184069846779671,
          11.309733552923264,
          11.435397259066855,
          11.561060965210448,
          11.686724671354039,
          11.812388377497632,
          11.938052083641223,
          12.063715789784814,
          12.189379495928407,
          12.315043202071998,
          12.44070690821559
         ]
        },
        {
         "mode": "lines",
         "name": "vel total",
         "type": "scatter",
         "x": [
          0.02,
          0.021,
          0.022000000000000002,
          0.023000000000000003,
          0.024000000000000004,
          0.025000000000000005,
          0.026000000000000006,
          0.027000000000000007,
          0.028000000000000008,
          0.02900000000000001,
          0.03000000000000001,
          0.03100000000000001,
          0.032000000000000015,
          0.033000000000000015,
          0.034000000000000016,
          0.03500000000000002,
          0.03600000000000002,
          0.03700000000000002,
          0.03800000000000002,
          0.03900000000000002,
          0.04000000000000002,
          0.04100000000000002,
          0.04200000000000002,
          0.043000000000000024,
          0.044000000000000025,
          0.045000000000000026,
          0.04600000000000003,
          0.04700000000000003,
          0.04800000000000003,
          0.04900000000000003,
          0.05000000000000003,
          0.05100000000000003,
          0.05200000000000003,
          0.05300000000000003,
          0.054000000000000034,
          0.055000000000000035,
          0.056000000000000036,
          0.05700000000000004,
          0.05800000000000004,
          0.05900000000000004,
          0.06000000000000004,
          0.06100000000000004,
          0.06200000000000004,
          0.06300000000000004,
          0.06400000000000004,
          0.06500000000000004,
          0.06600000000000004,
          0.06700000000000005,
          0.06800000000000005,
          0.06900000000000005,
          0.07000000000000005,
          0.07100000000000005,
          0.07200000000000005,
          0.07300000000000005,
          0.07400000000000005,
          0.07500000000000005,
          0.07600000000000005,
          0.07700000000000005,
          0.07800000000000006,
          0.07900000000000006,
          0.08000000000000006,
          0.08100000000000006,
          0.08200000000000006,
          0.08300000000000006,
          0.08400000000000006,
          0.08500000000000006,
          0.08600000000000006,
          0.08700000000000006,
          0.08800000000000006,
          0.08900000000000007,
          0.09000000000000007,
          0.09100000000000007,
          0.09200000000000007,
          0.09300000000000007,
          0.09400000000000007,
          0.09500000000000007,
          0.09600000000000007,
          0.09700000000000007,
          0.09800000000000007,
          0.09900000000000007
         ],
         "y": [
          3.758842716698643e+52,
          3.9467848525335755e+52,
          4.134726988368508e+52,
          4.3226691242034405e+52,
          4.5106112600383724e+52,
          4.698553395873305e+52,
          4.886495531708237e+52,
          5.07443766754317e+52,
          5.262379803378102e+52,
          5.450321939213035e+52,
          5.638264075047967e+52,
          5.826206210882899e+52,
          6.014148346717832e+52,
          6.202090482552765e+52,
          6.390032618387697e+52,
          6.577974754222629e+52,
          6.765916890057562e+52,
          6.953859025892494e+52,
          7.141801161727425e+52,
          7.329743297562358e+52,
          7.51768543339729e+52,
          7.705627569232223e+52,
          7.893569705067155e+52,
          8.081511840902087e+52,
          8.26945397673702e+52,
          8.457396112571952e+52,
          8.645338248406884e+52,
          8.833280384241817e+52,
          9.021222520076749e+52,
          9.209164655911681e+52,
          9.397106791746614e+52,
          9.585048927581546e+52,
          9.772991063416478e+52,
          9.96093319925141e+52,
          1.0148875335086344e+53,
          1.0336817470921276e+53,
          1.0524759606756208e+53,
          1.071270174259114e+53,
          1.0900643878426072e+53,
          1.1088586014261006e+53,
          1.1276528150095938e+53,
          1.146447028593087e+53,
          1.1652412421765802e+53,
          1.1840354557600734e+53,
          1.2028296693435666e+53,
          1.22162388292706e+53,
          1.2404180965105532e+53,
          1.2592123100940463e+53,
          1.2780065236775395e+53,
          1.2968007372610327e+53,
          1.3155949508445261e+53,
          1.3343891644280193e+53,
          1.3531833780115125e+53,
          1.3719775915950057e+53,
          1.390771805178499e+53,
          1.4095660187619921e+53,
          1.4283602323454855e+53,
          1.4471544459289787e+53,
          1.465948659512472e+53,
          1.484742873095965e+53,
          1.5035370866794583e+53,
          1.5223313002629517e+53,
          1.541125513846445e+53,
          1.559919727429938e+53,
          1.5787139410134313e+53,
          1.5975081545969245e+53,
          1.6163023681804177e+53,
          1.635096581763911e+53,
          1.6538907953474043e+53,
          1.6726850089308975e+53,
          1.6914792225143907e+53,
          1.7102734360978839e+53,
          1.7290676496813773e+53,
          1.7478618632648705e+53,
          1.7666560768483636e+53,
          1.7854502904318568e+53,
          1.80424450401535e+53,
          1.8230387175988432e+53,
          1.8418329311823366e+53,
          1.8606271447658298e+53
         ]
        }
       ],
       "layout": {
        "autosize": true,
        "template": {
         "data": {
          "bar": [
           {
            "error_x": {
             "color": "#2a3f5f"
            },
            "error_y": {
             "color": "#2a3f5f"
            },
            "marker": {
             "line": {
              "color": "#E5ECF6",
              "width": 0.5
             }
            },
            "type": "bar"
           }
          ],
          "barpolar": [
           {
            "marker": {
             "line": {
              "color": "#E5ECF6",
              "width": 0.5
             }
            },
            "type": "barpolar"
           }
          ],
          "carpet": [
           {
            "aaxis": {
             "endlinecolor": "#2a3f5f",
             "gridcolor": "white",
             "linecolor": "white",
             "minorgridcolor": "white",
             "startlinecolor": "#2a3f5f"
            },
            "baxis": {
             "endlinecolor": "#2a3f5f",
             "gridcolor": "white",
             "linecolor": "white",
             "minorgridcolor": "white",
             "startlinecolor": "#2a3f5f"
            },
            "type": "carpet"
           }
          ],
          "choropleth": [
           {
            "colorbar": {
             "outlinewidth": 0,
             "ticks": ""
            },
            "type": "choropleth"
           }
          ],
          "contour": [
           {
            "colorbar": {
             "outlinewidth": 0,
             "ticks": ""
            },
            "colorscale": [
             [
              0,
              "#0d0887"
             ],
             [
              0.1111111111111111,
              "#46039f"
             ],
             [
              0.2222222222222222,
              "#7201a8"
             ],
             [
              0.3333333333333333,
              "#9c179e"
             ],
             [
              0.4444444444444444,
              "#bd3786"
             ],
             [
              0.5555555555555556,
              "#d8576b"
             ],
             [
              0.6666666666666666,
              "#ed7953"
             ],
             [
              0.7777777777777778,
              "#fb9f3a"
             ],
             [
              0.8888888888888888,
              "#fdca26"
             ],
             [
              1,
              "#f0f921"
             ]
            ],
            "type": "contour"
           }
          ],
          "contourcarpet": [
           {
            "colorbar": {
             "outlinewidth": 0,
             "ticks": ""
            },
            "type": "contourcarpet"
           }
          ],
          "heatmap": [
           {
            "colorbar": {
             "outlinewidth": 0,
             "ticks": ""
            },
            "colorscale": [
             [
              0,
              "#0d0887"
             ],
             [
              0.1111111111111111,
              "#46039f"
             ],
             [
              0.2222222222222222,
              "#7201a8"
             ],
             [
              0.3333333333333333,
              "#9c179e"
             ],
             [
              0.4444444444444444,
              "#bd3786"
             ],
             [
              0.5555555555555556,
              "#d8576b"
             ],
             [
              0.6666666666666666,
              "#ed7953"
             ],
             [
              0.7777777777777778,
              "#fb9f3a"
             ],
             [
              0.8888888888888888,
              "#fdca26"
             ],
             [
              1,
              "#f0f921"
             ]
            ],
            "type": "heatmap"
           }
          ],
          "heatmapgl": [
           {
            "colorbar": {
             "outlinewidth": 0,
             "ticks": ""
            },
            "colorscale": [
             [
              0,
              "#0d0887"
             ],
             [
              0.1111111111111111,
              "#46039f"
             ],
             [
              0.2222222222222222,
              "#7201a8"
             ],
             [
              0.3333333333333333,
              "#9c179e"
             ],
             [
              0.4444444444444444,
              "#bd3786"
             ],
             [
              0.5555555555555556,
              "#d8576b"
             ],
             [
              0.6666666666666666,
              "#ed7953"
             ],
             [
              0.7777777777777778,
              "#fb9f3a"
             ],
             [
              0.8888888888888888,
              "#fdca26"
             ],
             [
              1,
              "#f0f921"
             ]
            ],
            "type": "heatmapgl"
           }
          ],
          "histogram": [
           {
            "marker": {
             "colorbar": {
              "outlinewidth": 0,
              "ticks": ""
             }
            },
            "type": "histogram"
           }
          ],
          "histogram2d": [
           {
            "colorbar": {
             "outlinewidth": 0,
             "ticks": ""
            },
            "colorscale": [
             [
              0,
              "#0d0887"
             ],
             [
              0.1111111111111111,
              "#46039f"
             ],
             [
              0.2222222222222222,
              "#7201a8"
             ],
             [
              0.3333333333333333,
              "#9c179e"
             ],
             [
              0.4444444444444444,
              "#bd3786"
             ],
             [
              0.5555555555555556,
              "#d8576b"
             ],
             [
              0.6666666666666666,
              "#ed7953"
             ],
             [
              0.7777777777777778,
              "#fb9f3a"
             ],
             [
              0.8888888888888888,
              "#fdca26"
             ],
             [
              1,
              "#f0f921"
             ]
            ],
            "type": "histogram2d"
           }
          ],
          "histogram2dcontour": [
           {
            "colorbar": {
             "outlinewidth": 0,
             "ticks": ""
            },
            "colorscale": [
             [
              0,
              "#0d0887"
             ],
             [
              0.1111111111111111,
              "#46039f"
             ],
             [
              0.2222222222222222,
              "#7201a8"
             ],
             [
              0.3333333333333333,
              "#9c179e"
             ],
             [
              0.4444444444444444,
              "#bd3786"
             ],
             [
              0.5555555555555556,
              "#d8576b"
             ],
             [
              0.6666666666666666,
              "#ed7953"
             ],
             [
              0.7777777777777778,
              "#fb9f3a"
             ],
             [
              0.8888888888888888,
              "#fdca26"
             ],
             [
              1,
              "#f0f921"
             ]
            ],
            "type": "histogram2dcontour"
           }
          ],
          "mesh3d": [
           {
            "colorbar": {
             "outlinewidth": 0,
             "ticks": ""
            },
            "type": "mesh3d"
           }
          ],
          "parcoords": [
           {
            "line": {
             "colorbar": {
              "outlinewidth": 0,
              "ticks": ""
             }
            },
            "type": "parcoords"
           }
          ],
          "pie": [
           {
            "automargin": true,
            "type": "pie"
           }
          ],
          "scatter": [
           {
            "marker": {
             "colorbar": {
              "outlinewidth": 0,
              "ticks": ""
             }
            },
            "type": "scatter"
           }
          ],
          "scatter3d": [
           {
            "line": {
             "colorbar": {
              "outlinewidth": 0,
              "ticks": ""
             }
            },
            "marker": {
             "colorbar": {
              "outlinewidth": 0,
              "ticks": ""
             }
            },
            "type": "scatter3d"
           }
          ],
          "scattercarpet": [
           {
            "marker": {
             "colorbar": {
              "outlinewidth": 0,
              "ticks": ""
             }
            },
            "type": "scattercarpet"
           }
          ],
          "scattergeo": [
           {
            "marker": {
             "colorbar": {
              "outlinewidth": 0,
              "ticks": ""
             }
            },
            "type": "scattergeo"
           }
          ],
          "scattergl": [
           {
            "marker": {
             "colorbar": {
              "outlinewidth": 0,
              "ticks": ""
             }
            },
            "type": "scattergl"
           }
          ],
          "scattermapbox": [
           {
            "marker": {
             "colorbar": {
              "outlinewidth": 0,
              "ticks": ""
             }
            },
            "type": "scattermapbox"
           }
          ],
          "scatterpolar": [
           {
            "marker": {
             "colorbar": {
              "outlinewidth": 0,
              "ticks": ""
             }
            },
            "type": "scatterpolar"
           }
          ],
          "scatterpolargl": [
           {
            "marker": {
             "colorbar": {
              "outlinewidth": 0,
              "ticks": ""
             }
            },
            "type": "scatterpolargl"
           }
          ],
          "scatterternary": [
           {
            "marker": {
             "colorbar": {
              "outlinewidth": 0,
              "ticks": ""
             }
            },
            "type": "scatterternary"
           }
          ],
          "surface": [
           {
            "colorbar": {
             "outlinewidth": 0,
             "ticks": ""
            },
            "colorscale": [
             [
              0,
              "#0d0887"
             ],
             [
              0.1111111111111111,
              "#46039f"
             ],
             [
              0.2222222222222222,
              "#7201a8"
             ],
             [
              0.3333333333333333,
              "#9c179e"
             ],
             [
              0.4444444444444444,
              "#bd3786"
             ],
             [
              0.5555555555555556,
              "#d8576b"
             ],
             [
              0.6666666666666666,
              "#ed7953"
             ],
             [
              0.7777777777777778,
              "#fb9f3a"
             ],
             [
              0.8888888888888888,
              "#fdca26"
             ],
             [
              1,
              "#f0f921"
             ]
            ],
            "type": "surface"
           }
          ],
          "table": [
           {
            "cells": {
             "fill": {
              "color": "#EBF0F8"
             },
             "line": {
              "color": "white"
             }
            },
            "header": {
             "fill": {
              "color": "#C8D4E3"
             },
             "line": {
              "color": "white"
             }
            },
            "type": "table"
           }
          ]
         },
         "layout": {
          "annotationdefaults": {
           "arrowcolor": "#2a3f5f",
           "arrowhead": 0,
           "arrowwidth": 1
          },
          "autotypenumbers": "strict",
          "coloraxis": {
           "colorbar": {
            "outlinewidth": 0,
            "ticks": ""
           }
          },
          "colorscale": {
           "diverging": [
            [
             0,
             "#8e0152"
            ],
            [
             0.1,
             "#c51b7d"
            ],
            [
             0.2,
             "#de77ae"
            ],
            [
             0.3,
             "#f1b6da"
            ],
            [
             0.4,
             "#fde0ef"
            ],
            [
             0.5,
             "#f7f7f7"
            ],
            [
             0.6,
             "#e6f5d0"
            ],
            [
             0.7,
             "#b8e186"
            ],
            [
             0.8,
             "#7fbc41"
            ],
            [
             0.9,
             "#4d9221"
            ],
            [
             1,
             "#276419"
            ]
           ],
           "sequential": [
            [
             0,
             "#0d0887"
            ],
            [
             0.1111111111111111,
             "#46039f"
            ],
            [
             0.2222222222222222,
             "#7201a8"
            ],
            [
             0.3333333333333333,
             "#9c179e"
            ],
            [
             0.4444444444444444,
             "#bd3786"
            ],
            [
             0.5555555555555556,
             "#d8576b"
            ],
            [
             0.6666666666666666,
             "#ed7953"
            ],
            [
             0.7777777777777778,
             "#fb9f3a"
            ],
            [
             0.8888888888888888,
             "#fdca26"
            ],
            [
             1,
             "#f0f921"
            ]
           ],
           "sequentialminus": [
            [
             0,
             "#0d0887"
            ],
            [
             0.1111111111111111,
             "#46039f"
            ],
            [
             0.2222222222222222,
             "#7201a8"
            ],
            [
             0.3333333333333333,
             "#9c179e"
            ],
            [
             0.4444444444444444,
             "#bd3786"
            ],
            [
             0.5555555555555556,
             "#d8576b"
            ],
            [
             0.6666666666666666,
             "#ed7953"
            ],
            [
             0.7777777777777778,
             "#fb9f3a"
            ],
            [
             0.8888888888888888,
             "#fdca26"
            ],
            [
             1,
             "#f0f921"
            ]
           ]
          },
          "colorway": [
           "#636efa",
           "#EF553B",
           "#00cc96",
           "#ab63fa",
           "#FFA15A",
           "#19d3f3",
           "#FF6692",
           "#B6E880",
           "#FF97FF",
           "#FECB52"
          ],
          "font": {
           "color": "#2a3f5f"
          },
          "geo": {
           "bgcolor": "white",
           "lakecolor": "white",
           "landcolor": "#E5ECF6",
           "showlakes": true,
           "showland": true,
           "subunitcolor": "white"
          },
          "hoverlabel": {
           "align": "left"
          },
          "hovermode": "closest",
          "mapbox": {
           "style": "light"
          },
          "paper_bgcolor": "white",
          "plot_bgcolor": "#E5ECF6",
          "polar": {
           "angularaxis": {
            "gridcolor": "white",
            "linecolor": "white",
            "ticks": ""
           },
           "bgcolor": "#E5ECF6",
           "radialaxis": {
            "gridcolor": "white",
            "linecolor": "white",
            "ticks": ""
           }
          },
          "scene": {
           "xaxis": {
            "backgroundcolor": "#E5ECF6",
            "gridcolor": "white",
            "gridwidth": 2,
            "linecolor": "white",
            "showbackground": true,
            "ticks": "",
            "zerolinecolor": "white"
           },
           "yaxis": {
            "backgroundcolor": "#E5ECF6",
            "gridcolor": "white",
            "gridwidth": 2,
            "linecolor": "white",
            "showbackground": true,
            "ticks": "",
            "zerolinecolor": "white"
           },
           "zaxis": {
            "backgroundcolor": "#E5ECF6",
            "gridcolor": "white",
            "gridwidth": 2,
            "linecolor": "white",
            "showbackground": true,
            "ticks": "",
            "zerolinecolor": "white"
           }
          },
          "shapedefaults": {
           "line": {
            "color": "#2a3f5f"
           }
          },
          "ternary": {
           "aaxis": {
            "gridcolor": "white",
            "linecolor": "white",
            "ticks": ""
           },
           "baxis": {
            "gridcolor": "white",
            "linecolor": "white",
            "ticks": ""
           },
           "bgcolor": "#E5ECF6",
           "caxis": {
            "gridcolor": "white",
            "linecolor": "white",
            "ticks": ""
           }
          },
          "title": {
           "x": 0.05
          },
          "xaxis": {
           "automargin": true,
           "gridcolor": "white",
           "linecolor": "white",
           "ticks": "",
           "title": {
            "standoff": 15
           },
           "zerolinecolor": "white",
           "zerolinewidth": 2
          },
          "yaxis": {
           "automargin": true,
           "gridcolor": "white",
           "linecolor": "white",
           "ticks": "",
           "title": {
            "standoff": 15
           },
           "zerolinecolor": "white",
           "zerolinewidth": 2
          }
         }
        },
        "title": {
         "text": "velocidad con respecto a la distancia recorrida en el álabe"
        },
        "xaxis": {
         "autorange": true,
         "range": [
          0.02,
          0.09900000000000007
         ],
         "title": {
          "text": "R[m]"
         },
         "type": "linear"
        },
        "yaxis": {
         "autorange": true,
         "range": [
          -1.0336817470921277e+52,
          1.9639953194750427e+53
         ],
         "title": {
          "text": "[m/s^2]"
         },
         "type": "linear"
        }
       }
      },
      "image/png": "[encoded data removed]",
      "text/html": [
       "<div>                            <div id=\"b094b0c0-e2c0-4a4b-a122-b100dc55586a\" class=\"plotly-graph-div\" style=\"height:525px; width:100%;\"></div>            <script type=\"text/javascript\">                require([\"plotly\"], function(Plotly) {                    window.PLOTLYENV=window.PLOTLYENV || {};                                    if (document.getElementById(\"b094b0c0-e2c0-4a4b-a122-b100dc55586a\")) {                    Plotly.newPlot(                        \"b094b0c0-e2c0-4a4b-a122-b100dc55586a\",                        [{\"mode\": \"lines\", \"name\": \"vel radial\", \"type\": \"scatter\", \"x\": [0.02, 0.021, 0.022000000000000002, 0.023000000000000003, 0.024000000000000004, 0.025000000000000005, 0.026000000000000006, 0.027000000000000007, 0.028000000000000008, 0.02900000000000001, 0.03000000000000001, 0.03100000000000001, 0.032000000000000015, 0.033000000000000015, 0.034000000000000016, 0.03500000000000002, 0.03600000000000002, 0.03700000000000002, 0.03800000000000002, 0.03900000000000002, 0.04000000000000002, 0.04100000000000002, 0.04200000000000002, 0.043000000000000024, 0.044000000000000025, 0.045000000000000026, 0.04600000000000003, 0.04700000000000003, 0.04800000000000003, 0.04900000000000003, 0.05000000000000003, 0.05100000000000003, 0.05200000000000003, 0.05300000000000003, 0.054000000000000034, 0.055000000000000035, 0.056000000000000036, 0.05700000000000004, 0.05800000000000004, 0.05900000000000004, 0.06000000000000004, 0.06100000000000004, 0.06200000000000004, 0.06300000000000004, 0.06400000000000004, 0.06500000000000004, 0.06600000000000004, 0.06700000000000005, 0.06800000000000005, 0.06900000000000005, 0.07000000000000005, 0.07100000000000005, 0.07200000000000005, 0.07300000000000005, 0.07400000000000005, 0.07500000000000005, 0.07600000000000005, 0.07700000000000005, 0.07800000000000006, 0.07900000000000006, 0.08000000000000006, 0.08100000000000006, 0.08200000000000006, 0.08300000000000006, 0.08400000000000006, 0.08500000000000006, 0.08600000000000006, 0.08700000000000006, 0.08800000000000006, 0.08900000000000007, 0.09000000000000007, 0.09100000000000007, 0.09200000000000007, 0.09300000000000007, 0.09400000000000007, 0.09500000000000007, 0.09600000000000007, 0.09700000000000007, 0.09800000000000007, 0.09900000000000007], \"y\": [3.758842716698643e+52, 3.9467848525335755e+52, 4.134726988368508e+52, 4.3226691242034405e+52, 4.5106112600383724e+52, 4.698553395873305e+52, 4.886495531708237e+52, 5.07443766754317e+52, 5.262379803378102e+52, 5.450321939213035e+52, 5.638264075047967e+52, 5.826206210882899e+52, 6.014148346717832e+52, 6.202090482552765e+52, 6.390032618387697e+52, 6.577974754222629e+52, 6.765916890057562e+52, 6.953859025892494e+52, 7.141801161727425e+52, 7.329743297562358e+52, 7.51768543339729e+52, 7.705627569232223e+52, 7.893569705067155e+52, 8.081511840902087e+52, 8.26945397673702e+52, 8.457396112571952e+52, 8.645338248406884e+52, 8.833280384241817e+52, 9.021222520076749e+52, 9.209164655911681e+52, 9.397106791746614e+52, 9.585048927581546e+52, 9.772991063416478e+52, 9.96093319925141e+52, 1.0148875335086344e+53, 1.0336817470921276e+53, 1.0524759606756208e+53, 1.071270174259114e+53, 1.0900643878426072e+53, 1.1088586014261006e+53, 1.1276528150095938e+53, 1.146447028593087e+53, 1.1652412421765802e+53, 1.1840354557600734e+53, 1.2028296693435666e+53, 1.22162388292706e+53, 1.2404180965105532e+53, 1.2592123100940463e+53, 1.2780065236775395e+53, 1.2968007372610327e+53, 1.3155949508445261e+53, 1.3343891644280193e+53, 1.3531833780115125e+53, 1.3719775915950057e+53, 1.390771805178499e+53, 1.4095660187619921e+53, 1.4283602323454855e+53, 1.4471544459289787e+53, 1.465948659512472e+53, 1.484742873095965e+53, 1.5035370866794583e+53, 1.5223313002629517e+53, 1.541125513846445e+53, 1.559919727429938e+53, 1.5787139410134313e+53, 1.5975081545969245e+53, 1.6163023681804177e+53, 1.635096581763911e+53, 1.6538907953474043e+53, 1.6726850089308975e+53, 1.6914792225143907e+53, 1.7102734360978839e+53, 1.7290676496813773e+53, 1.7478618632648705e+53, 1.7666560768483636e+53, 1.7854502904318568e+53, 1.80424450401535e+53, 1.8230387175988432e+53, 1.8418329311823366e+53, 1.8606271447658298e+53]}, {\"mode\": \"lines\", \"name\": \"vel tang\", \"type\": \"scatter\", \"x\": [0.02, 0.021, 0.022000000000000002, 0.023000000000000003, 0.024000000000000004, 0.025000000000000005, 0.026000000000000006, 0.027000000000000007, 0.028000000000000008, 0.02900000000000001, 0.03000000000000001, 0.03100000000000001, 0.032000000000000015, 0.033000000000000015, 0.034000000000000016, 0.03500000000000002, 0.03600000000000002, 0.03700000000000002, 0.03800000000000002, 0.03900000000000002, 0.04000000000000002, 0.04100000000000002, 0.04200000000000002, 0.043000000000000024, 0.044000000000000025, 0.045000000000000026, 0.04600000000000003, 0.04700000000000003, 0.04800000000000003, 0.04900000000000003, 0.05000000000000003, 0.05100000000000003, 0.05200000000000003, 0.05300000000000003, 0.054000000000000034, 0.055000000000000035, 0.056000000000000036, 0.05700000000000004, 0.05800000000000004, 0.05900000000000004, 0.06000000000000004, 0.06100000000000004, 0.06200000000000004, 0.06300000000000004, 0.06400000000000004, 0.06500000000000004, 0.06600000000000004, 0.06700000000000005, 0.06800000000000005, 0.06900000000000005, 0.07000000000000005, 0.07100000000000005, 0.07200000000000005, 0.07300000000000005, 0.07400000000000005, 0.07500000000000005, 0.07600000000000005, 0.07700000000000005, 0.07800000000000006, 0.07900000000000006, 0.08000000000000006, 0.08100000000000006, 0.08200000000000006, 0.08300000000000006, 0.08400000000000006, 0.08500000000000006, 0.08600000000000006, 0.08700000000000006, 0.08800000000000006, 0.08900000000000007, 0.09000000000000007, 0.09100000000000007, 0.09200000000000007, 0.09300000000000007, 0.09400000000000007, 0.09500000000000007, 0.09600000000000007, 0.09700000000000007, 0.09800000000000007, 0.09900000000000007], \"y\": [2.5132741228718345, 2.6389378290154264, 2.7646015351590183, 2.89026524130261, 3.015928947446202, 3.1415926535897936, 3.2672563597333855, 3.3929200658769774, 3.5185837720205693, 3.644247478164161, 3.769911184307753, 3.8955748904513445, 4.021238596594937, 4.146902302738529, 4.272566008882121, 4.398229715025712, 4.523893421169304, 4.649557127312896, 4.775220833456488, 4.90088453960008, 5.026548245743672, 5.1522119518872636, 5.2778756580308555, 5.403539364174447, 5.529203070318039, 5.654866776461631, 5.780530482605223, 5.906194188748815, 6.031857894892406, 6.157521601035998, 6.28318530717959, 6.408849013323182, 6.534512719466774, 6.6601764256103655, 6.785840131753957, 6.911503837897549, 7.037167544041141, 7.162831250184733, 7.288494956328325, 7.414158662471917, 7.539822368615509, 7.665486074759101, 7.791149780902692, 7.916813487046284, 8.042477193189876, 8.168140899333467, 8.29380460547706, 8.419468311620651, 8.545132017764242, 8.670795723907835, 8.796459430051426, 8.922123136195019, 9.04778684233861, 9.173450548482203, 9.299114254625794, 9.424777960769386, 9.550441666912977, 9.67610537305657, 9.801769079200161, 9.927432785343754, 10.053096491487345, 10.178760197630938, 10.304423903774529, 10.43008760991812, 10.555751316061713, 10.681415022205304, 10.807078728348896, 10.932742434492488, 11.05840614063608, 11.184069846779671, 11.309733552923264, 11.435397259066855, 11.561060965210448, 11.686724671354039, 11.812388377497632, 11.938052083641223, 12.063715789784814, 12.189379495928407, 12.315043202071998, 12.44070690821559]}, {\"mode\": \"lines\", \"name\": \"vel total\", \"type\": \"scatter\", \"x\": [0.02, 0.021, 0.022000000000000002, 0.023000000000000003, 0.024000000000000004, 0.025000000000000005, 0.026000000000000006, 0.027000000000000007, 0.028000000000000008, 0.02900000000000001, 0.03000000000000001, 0.03100000000000001, 0.032000000000000015, 0.033000000000000015, 0.034000000000000016, 0.03500000000000002, 0.03600000000000002, 0.03700000000000002, 0.03800000000000002, 0.03900000000000002, 0.04000000000000002, 0.04100000000000002, 0.04200000000000002, 0.043000000000000024, 0.044000000000000025, 0.045000000000000026, 0.04600000000000003, 0.04700000000000003, 0.04800000000000003, 0.04900000000000003, 0.05000000000000003, 0.05100000000000003, 0.05200000000000003, 0.05300000000000003, 0.054000000000000034, 0.055000000000000035, 0.056000000000000036, 0.05700000000000004, 0.05800000000000004, 0.05900000000000004, 0.06000000000000004, 0.06100000000000004, 0.06200000000000004, 0.06300000000000004, 0.06400000000000004, 0.06500000000000004, 0.06600000000000004, 0.06700000000000005, 0.06800000000000005, 0.06900000000000005, 0.07000000000000005, 0.07100000000000005, 0.07200000000000005, 0.07300000000000005, 0.07400000000000005, 0.07500000000000005, 0.07600000000000005, 0.07700000000000005, 0.07800000000000006, 0.07900000000000006, 0.08000000000000006, 0.08100000000000006, 0.08200000000000006, 0.08300000000000006, 0.08400000000000006, 0.08500000000000006, 0.08600000000000006, 0.08700000000000006, 0.08800000000000006, 0.08900000000000007, 0.09000000000000007, 0.09100000000000007, 0.09200000000000007, 0.09300000000000007, 0.09400000000000007, 0.09500000000000007, 0.09600000000000007, 0.09700000000000007, 0.09800000000000007, 0.09900000000000007], \"y\": [3.758842716698643e+52, 3.9467848525335755e+52, 4.134726988368508e+52, 4.3226691242034405e+52, 4.5106112600383724e+52, 4.698553395873305e+52, 4.886495531708237e+52, 5.07443766754317e+52, 5.262379803378102e+52, 5.450321939213035e+52, 5.638264075047967e+52, 5.826206210882899e+52, 6.014148346717832e+52, 6.202090482552765e+52, 6.390032618387697e+52, 6.577974754222629e+52, 6.765916890057562e+52, 6.953859025892494e+52, 7.141801161727425e+52, 7.329743297562358e+52, 7.51768543339729e+52, 7.705627569232223e+52, 7.893569705067155e+52, 8.081511840902087e+52, 8.26945397673702e+52, 8.457396112571952e+52, 8.645338248406884e+52, 8.833280384241817e+52, 9.021222520076749e+52, 9.209164655911681e+52, 9.397106791746614e+52, 9.585048927581546e+52, 9.772991063416478e+52, 9.96093319925141e+52, 1.0148875335086344e+53, 1.0336817470921276e+53, 1.0524759606756208e+53, 1.071270174259114e+53, 1.0900643878426072e+53, 1.1088586014261006e+53, 1.1276528150095938e+53, 1.146447028593087e+53, 1.1652412421765802e+53, 1.1840354557600734e+53, 1.2028296693435666e+53, 1.22162388292706e+53, 1.2404180965105532e+53, 1.2592123100940463e+53, 1.2780065236775395e+53, 1.2968007372610327e+53, 1.3155949508445261e+53, 1.3343891644280193e+53, 1.3531833780115125e+53, 1.3719775915950057e+53, 1.390771805178499e+53, 1.4095660187619921e+53, 1.4283602323454855e+53, 1.4471544459289787e+53, 1.465948659512472e+53, 1.484742873095965e+53, 1.5035370866794583e+53, 1.5223313002629517e+53, 1.541125513846445e+53, 1.559919727429938e+53, 1.5787139410134313e+53, 1.5975081545969245e+53, 1.6163023681804177e+53, 1.635096581763911e+53, 1.6538907953474043e+53, 1.6726850089308975e+53, 1.6914792225143907e+53, 1.7102734360978839e+53, 1.7290676496813773e+53, 1.7478618632648705e+53, 1.7666560768483636e+53, 1.7854502904318568e+53, 1.80424450401535e+53, 1.8230387175988432e+53, 1.8418329311823366e+53, 1.8606271447658298e+53]}],                        {\"template\": {\"data\": {\"bar\": [{\"error_x\": {\"color\": \"#2a3f5f\"}, \"error_y\": {\"color\": \"#2a3f5f\"}, \"marker\": {\"line\": {\"color\": \"#E5ECF6\", \"width\": 0.5}}, \"type\": \"bar\"}], \"barpolar\": [{\"marker\": {\"line\": {\"color\": \"#E5ECF6\", \"width\": 0.5}}, \"type\": \"barpolar\"}], \"carpet\": [{\"aaxis\": {\"endlinecolor\": \"#2a3f5f\", \"gridcolor\": \"white\", \"linecolor\": \"white\", \"minorgridcolor\": \"white\", \"startlinecolor\": \"#2a3f5f\"}, \"baxis\": {\"endlinecolor\": \"#2a3f5f\", \"gridcolor\": \"white\", \"linecolor\": \"white\", \"minorgridcolor\": \"white\", \"startlinecolor\": \"#2a3f5f\"}, \"type\": \"carpet\"}], \"choropleth\": [{\"colorbar\": {\"outlinewidth\": 0, \"ticks\": \"\"}, \"type\": \"choropleth\"}], \"contour\": [{\"colorbar\": {\"outlinewidth\": 0, \"ticks\": \"\"}, \"colorscale\": [[0.0, \"#0d0887\"], [0.1111111111111111, \"#46039f\"], [0.2222222222222222, \"#7201a8\"], [0.3333333333333333, \"#9c179e\"], [0.4444444444444444, \"#bd3786\"], [0.5555555555555556, \"#d8576b\"], [0.6666666666666666, \"#ed7953\"], [0.7777777777777778, \"#fb9f3a\"], [0.8888888888888888, \"#fdca26\"], [1.0, \"#f0f921\"]], \"type\": \"contour\"}], \"contourcarpet\": [{\"colorbar\": {\"outlinewidth\": 0, \"ticks\": \"\"}, \"type\": \"contourcarpet\"}], \"heatmap\": [{\"colorbar\": {\"outlinewidth\": 0, \"ticks\": \"\"}, \"colorscale\": [[0.0, \"#0d0887\"], [0.1111111111111111, \"#46039f\"], [0.2222222222222222, \"#7201a8\"], [0.3333333333333333, \"#9c179e\"], [0.4444444444444444, \"#bd3786\"], [0.5555555555555556, \"#d8576b\"], [0.6666666666666666, \"#ed7953\"], [0.7777777777777778, \"#fb9f3a\"], [0.8888888888888888, \"#fdca26\"], [1.0, \"#f0f921\"]], \"type\": \"heatmap\"}], \"heatmapgl\": [{\"colorbar\": {\"outlinewidth\": 0, \"ticks\": \"\"}, \"colorscale\": [[0.0, \"#0d0887\"], [0.1111111111111111, \"#46039f\"], [0.2222222222222222, \"#7201a8\"], [0.3333333333333333, \"#9c179e\"], [0.4444444444444444, \"#bd3786\"], [0.5555555555555556, \"#d8576b\"], [0.6666666666666666, \"#ed7953\"], [0.7777777777777778, \"#fb9f3a\"], [0.8888888888888888, \"#fdca26\"], [1.0, \"#f0f921\"]], \"type\": \"heatmapgl\"}], \"histogram\": [{\"marker\": {\"colorbar\": {\"outlinewidth\": 0, \"ticks\": \"\"}}, \"type\": \"histogram\"}], \"histogram2d\": [{\"colorbar\": {\"outlinewidth\": 0, \"ticks\": \"\"}, \"colorscale\": [[0.0, \"#0d0887\"], [0.1111111111111111, \"#46039f\"], [0.2222222222222222, \"#7201a8\"], [0.3333333333333333, \"#9c179e\"], [0.4444444444444444, \"#bd3786\"], [0.5555555555555556, \"#d8576b\"], [0.6666666666666666, \"#ed7953\"], [0.7777777777777778, \"#fb9f3a\"], [0.8888888888888888, \"#fdca26\"], [1.0, \"#f0f921\"]], \"type\": \"histogram2d\"}], \"histogram2dcontour\": [{\"colorbar\": {\"outlinewidth\": 0, \"ticks\": \"\"}, \"colorscale\": [[0.0, \"#0d0887\"], [0.1111111111111111, \"#46039f\"], [0.2222222222222222, \"#7201a8\"], [0.3333333333333333, \"#9c179e\"], [0.4444444444444444, \"#bd3786\"], [0.5555555555555556, \"#d8576b\"], [0.6666666666666666, \"#ed7953\"], [0.7777777777777778, \"#fb9f3a\"], [0.8888888888888888, \"#fdca26\"], [1.0, \"#f0f921\"]], \"type\": \"histogram2dcontour\"}], \"mesh3d\": [{\"colorbar\": {\"outlinewidth\": 0, \"ticks\": \"\"}, \"type\": \"mesh3d\"}], \"parcoords\": [{\"line\": {\"colorbar\": {\"outlinewidth\": 0, \"ticks\": \"\"}}, \"type\": \"parcoords\"}], \"pie\": [{\"automargin\": true, \"type\": \"pie\"}], \"scatter\": [{\"marker\": {\"colorbar\": {\"outlinewidth\": 0, \"ticks\": \"\"}}, \"type\": \"scatter\"}], \"scatter3d\": [{\"line\": {\"colorbar\": {\"outlinewidth\": 0, \"ticks\": \"\"}}, \"marker\": {\"colorbar\": {\"outlinewidth\": 0, \"ticks\": \"\"}}, \"type\": \"scatter3d\"}], \"scattercarpet\": [{\"marker\": {\"colorbar\": {\"outlinewidth\": 0, \"ticks\": \"\"}}, \"type\": \"scattercarpet\"}], \"scattergeo\": [{\"marker\": {\"colorbar\": {\"outlinewidth\": 0, \"ticks\": \"\"}}, \"type\": \"scattergeo\"}], \"scattergl\": [{\"marker\": {\"colorbar\": {\"outlinewidth\": 0, \"ticks\": \"\"}}, \"type\": \"scattergl\"}], \"scattermapbox\": [{\"marker\": {\"colorbar\": {\"outlinewidth\": 0, \"ticks\": \"\"}}, \"type\": \"scattermapbox\"}], \"scatterpolar\": [{\"marker\": {\"colorbar\": {\"outlinewidth\": 0, \"ticks\": \"\"}}, \"type\": \"scatterpolar\"}], \"scatterpolargl\": [{\"marker\": {\"colorbar\": {\"outlinewidth\": 0, \"ticks\": \"\"}}, \"type\": \"scatterpolargl\"}], \"scatterternary\": [{\"marker\": {\"colorbar\": {\"outlinewidth\": 0, \"ticks\": \"\"}}, \"type\": \"scatterternary\"}], \"surface\": [{\"colorbar\": {\"outlinewidth\": 0, \"ticks\": \"\"}, \"colorscale\": [[0.0, \"#0d0887\"], [0.1111111111111111, \"#46039f\"], [0.2222222222222222, \"#7201a8\"], [0.3333333333333333, \"#9c179e\"], [0.4444444444444444, \"#bd3786\"], [0.5555555555555556, \"#d8576b\"], [0.6666666666666666, \"#ed7953\"], [0.7777777777777778, \"#fb9f3a\"], [0.8888888888888888, \"#fdca26\"], [1.0, \"#f0f921\"]], \"type\": \"surface\"}], \"table\": [{\"cells\": {\"fill\": {\"color\": \"#EBF0F8\"}, \"line\": {\"color\": \"white\"}}, \"header\": {\"fill\": {\"color\": \"#C8D4E3\"}, \"line\": {\"color\": \"white\"}}, \"type\": \"table\"}]}, \"layout\": {\"annotationdefaults\": {\"arrowcolor\": \"#2a3f5f\", \"arrowhead\": 0, \"arrowwidth\": 1}, \"autotypenumbers\": \"strict\", \"coloraxis\": {\"colorbar\": {\"outlinewidth\": 0, \"ticks\": \"\"}}, \"colorscale\": {\"diverging\": [[0, \"#8e0152\"], [0.1, \"#c51b7d\"], [0.2, \"#de77ae\"], [0.3, \"#f1b6da\"], [0.4, \"#fde0ef\"], [0.5, \"#f7f7f7\"], [0.6, \"#e6f5d0\"], [0.7, \"#b8e186\"], [0.8, \"#7fbc41\"], [0.9, \"#4d9221\"], [1, \"#276419\"]], \"sequential\": [[0.0, \"#0d0887\"], [0.1111111111111111, \"#46039f\"], [0.2222222222222222, \"#7201a8\"], [0.3333333333333333, \"#9c179e\"], [0.4444444444444444, \"#bd3786\"], [0.5555555555555556, \"#d8576b\"], [0.6666666666666666, \"#ed7953\"], [0.7777777777777778, \"#fb9f3a\"], [0.8888888888888888, \"#fdca26\"], [1.0, \"#f0f921\"]], \"sequentialminus\": [[0.0, \"#0d0887\"], [0.1111111111111111, \"#46039f\"], [0.2222222222222222, \"#7201a8\"], [0.3333333333333333, \"#9c179e\"], [0.4444444444444444, \"#bd3786\"], [0.5555555555555556, \"#d8576b\"], [0.6666666666666666, \"#ed7953\"], [0.7777777777777778, \"#fb9f3a\"], [0.8888888888888888, \"#fdca26\"], [1.0, \"#f0f921\"]]}, \"colorway\": [\"#636efa\", \"#EF553B\", \"#00cc96\", \"#ab63fa\", \"#FFA15A\", \"#19d3f3\", \"#FF6692\", \"#B6E880\", \"#FF97FF\", \"#FECB52\"], \"font\": {\"color\": \"#2a3f5f\"}, \"geo\": {\"bgcolor\": \"white\", \"lakecolor\": \"white\", \"landcolor\": \"#E5ECF6\", \"showlakes\": true, \"showland\": true, \"subunitcolor\": \"white\"}, \"hoverlabel\": {\"align\": \"left\"}, \"hovermode\": \"closest\", \"mapbox\": {\"style\": \"light\"}, \"paper_bgcolor\": \"white\", \"plot_bgcolor\": \"#E5ECF6\", \"polar\": {\"angularaxis\": {\"gridcolor\": \"white\", \"linecolor\": \"white\", \"ticks\": \"\"}, \"bgcolor\": \"#E5ECF6\", \"radialaxis\": {\"gridcolor\": \"white\", \"linecolor\": \"white\", \"ticks\": \"\"}}, \"scene\": {\"xaxis\": {\"backgroundcolor\": \"#E5ECF6\", \"gridcolor\": \"white\", \"gridwidth\": 2, \"linecolor\": \"white\", \"showbackground\": true, \"ticks\": \"\", \"zerolinecolor\": \"white\"}, \"yaxis\": {\"backgroundcolor\": \"#E5ECF6\", \"gridcolor\": \"white\", \"gridwidth\": 2, \"linecolor\": \"white\", \"showbackground\": true, \"ticks\": \"\", \"zerolinecolor\": \"white\"}, \"zaxis\": {\"backgroundcolor\": \"#E5ECF6\", \"gridcolor\": \"white\", \"gridwidth\": 2, \"linecolor\": \"white\", \"showbackground\": true, \"ticks\": \"\", \"zerolinecolor\": \"white\"}}, \"shapedefaults\": {\"line\": {\"color\": \"#2a3f5f\"}}, \"ternary\": {\"aaxis\": {\"gridcolor\": \"white\", \"linecolor\": \"white\", \"ticks\": \"\"}, \"baxis\": {\"gridcolor\": \"white\", \"linecolor\": \"white\", \"ticks\": \"\"}, \"bgcolor\": \"#E5ECF6\", \"caxis\": {\"gridcolor\": \"white\", \"linecolor\": \"white\", \"ticks\": \"\"}}, \"title\": {\"x\": 0.05}, \"xaxis\": {\"automargin\": true, \"gridcolor\": \"white\", \"linecolor\": \"white\", \"ticks\": \"\", \"title\": {\"standoff\": 15}, \"zerolinecolor\": \"white\", \"zerolinewidth\": 2}, \"yaxis\": {\"automargin\": true, \"gridcolor\": \"white\", \"linecolor\": \"white\", \"ticks\": \"\", \"title\": {\"standoff\": 15}, \"zerolinecolor\": \"white\", \"zerolinewidth\": 2}}}, \"title\": {\"text\": \"velocidad con respecto a la distancia recorrida en el \\u00e1labe\"}, \"xaxis\": {\"title\": {\"text\": \"R[m]\"}}, \"yaxis\": {\"title\": {\"text\": \"[m/s^2]\"}}},                        {\"responsive\": true}                    ).then(function(){\n",
       "                            \n",
       "var gd = document.getElementById('b094b0c0-e2c0-4a4b-a122-b100dc55586a');\n",
       "var x = new MutationObserver(function (mutations, observer) {{\n",
       "        var display = window.getComputedStyle(gd).display;\n",
       "        if (!display || display === 'none') {{\n",
       "            console.log([gd, 'removed!']);\n",
       "            Plotly.purge(gd);\n",
       "            observer.disconnect();\n",
       "        }}\n",
       "}});\n",
       "\n",
       "// Listen for the removal of the full notebook cells\n",
       "var notebookContainer = gd.closest('#notebook-container');\n",
       "if (notebookContainer) {{\n",
       "    x.observe(notebookContainer, {childList: true});\n",
       "}}\n",
       "\n",
       "// Listen for the clearing of the current output cell\n",
       "var outputEl = gd.closest('.output');\n",
       "if (outputEl) {{\n",
       "    x.observe(outputEl, {childList: true});\n",
       "}}\n",
       "\n",
       "                        })                };                });            </script>        </div>"
      ]
     },
     "metadata": {},
     "output_type": "display_data"
    },
    {
     "data": {
      "application/vnd.plotly.v1+json": {
       "config": {
        "plotlyServerURL": "https://plot.ly"
       },
       "data": [
        {
         "mode": "lines",
         "name": "acc radial",
         "type": "scatter",
         "x": [
          0.02,
          0.021,
          0.022000000000000002,
          0.023000000000000003,
          0.024000000000000004,
          0.025000000000000005,
          0.026000000000000006,
          0.027000000000000007,
          0.028000000000000008,
          0.02900000000000001,
          0.03000000000000001,
          0.03100000000000001,
          0.032000000000000015,
          0.033000000000000015,
          0.034000000000000016,
          0.03500000000000002,
          0.03600000000000002,
          0.03700000000000002,
          0.03800000000000002,
          0.03900000000000002,
          0.04000000000000002,
          0.04100000000000002,
          0.04200000000000002,
          0.043000000000000024,
          0.044000000000000025,
          0.045000000000000026,
          0.04600000000000003,
          0.04700000000000003,
          0.04800000000000003,
          0.04900000000000003,
          0.05000000000000003,
          0.05100000000000003,
          0.05200000000000003,
          0.05300000000000003,
          0.054000000000000034,
          0.055000000000000035,
          0.056000000000000036,
          0.05700000000000004,
          0.05800000000000004,
          0.05900000000000004,
          0.06000000000000004,
          0.06100000000000004,
          0.06200000000000004,
          0.06300000000000004,
          0.06400000000000004,
          0.06500000000000004,
          0.06600000000000004,
          0.06700000000000005,
          0.06800000000000005,
          0.06900000000000005,
          0.07000000000000005,
          0.07100000000000005,
          0.07200000000000005,
          0.07300000000000005,
          0.07400000000000005,
          0.07500000000000005,
          0.07600000000000005,
          0.07700000000000005,
          0.07800000000000006,
          0.07900000000000006,
          0.08000000000000006,
          0.08100000000000006,
          0.08200000000000006,
          0.08300000000000006,
          0.08400000000000006,
          0.08500000000000006,
          0.08600000000000006,
          0.08700000000000006,
          0.08800000000000006,
          0.08900000000000007,
          0.09000000000000007,
          0.09100000000000007,
          0.09200000000000007,
          0.09300000000000007,
          0.09400000000000007,
          0.09500000000000007,
          0.09600000000000007,
          0.09700000000000007,
          0.09800000000000007,
          0.09900000000000007
         ],
         "y": [
          5.935726499157057e+56,
          6.232512824114911e+56,
          6.529299149072764e+56,
          6.826085474030618e+56,
          7.12287179898847e+56,
          7.419658123946323e+56,
          7.716444448904175e+56,
          8.01323077386203e+56,
          8.310017098819882e+56,
          8.606803423777736e+56,
          8.903589748735589e+56,
          9.200376073693442e+56,
          9.497162398651296e+56,
          9.79394872360915e+56,
          1.0090735048567003e+57,
          1.0387521373524855e+57,
          1.068430769848271e+57,
          1.0981094023440562e+57,
          1.1277880348398415e+57,
          1.1574666673356269e+57,
          1.1871452998314122e+57,
          1.2168239323271976e+57,
          1.2465025648229828e+57,
          1.2761811973187681e+57,
          1.3058598298145535e+57,
          1.3355384623103386e+57,
          1.3652170948061239e+57,
          1.3948957273019093e+57,
          1.4245743597976946e+57,
          1.4542529922934798e+57,
          1.4839316247892652e+57,
          1.5136102572850505e+57,
          1.5432888897808358e+57,
          1.572967522276621e+57,
          1.6026461547724066e+57,
          1.632324787268192e+57,
          1.662003419763977e+57,
          1.6916820522597624e+57,
          1.7213606847555476e+57,
          1.7510393172513332e+57,
          1.7807179497471185e+57,
          1.8103965822429038e+57,
          1.840075214738689e+57,
          1.8697538472344743e+57,
          1.8994324797302595e+57,
          1.929111112226045e+57,
          1.9587897447218304e+57,
          1.9884683772176156e+57,
          2.018147009713401e+57,
          2.047825642209186e+57,
          2.0775042747049718e+57,
          2.107182907200757e+57,
          2.1368615396965423e+57,
          2.1665401721923275e+57,
          2.1962188046881128e+57,
          2.225897437183898e+57,
          2.2555760696796836e+57,
          2.285254702175469e+57,
          2.314933334671254e+57,
          2.3446119671670394e+57,
          2.3742905996628247e+57,
          2.4039692321586103e+57,
          2.4336478646543955e+57,
          2.4633264971501808e+57,
          2.493005129645966e+57,
          2.5226837621417513e+57,
          2.5523623946375365e+57,
          2.5820410271333218e+57,
          2.611719659629107e+57,
          2.6413982921248923e+57,
          2.6710769246206776e+57,
          2.700755557116463e+57,
          2.7304341896122484e+57,
          2.7601128221080337e+57,
          2.789791454603819e+57,
          2.8194700870996042e+57,
          2.8491487195953895e+57,
          2.8788273520911747e+57,
          2.9085059845869603e+57,
          2.9381846170827456e+57
         ]
        },
        {
         "mode": "lines",
         "name": "acc corriolis",
         "type": "scatter",
         "x": [
          0.02,
          0.021,
          0.022000000000000002,
          0.023000000000000003,
          0.024000000000000004,
          0.025000000000000005,
          0.026000000000000006,
          0.027000000000000007,
          0.028000000000000008,
          0.02900000000000001,
          0.03000000000000001,
          0.03100000000000001,
          0.032000000000000015,
          0.033000000000000015,
          0.034000000000000016,
          0.03500000000000002,
          0.03600000000000002,
          0.03700000000000002,
          0.03800000000000002,
          0.03900000000000002,
          0.04000000000000002,
          0.04100000000000002,
          0.04200000000000002,
          0.043000000000000024,
          0.044000000000000025,
          0.045000000000000026,
          0.04600000000000003,
          0.04700000000000003,
          0.04800000000000003,
          0.04900000000000003,
          0.05000000000000003,
          0.05100000000000003,
          0.05200000000000003,
          0.05300000000000003,
          0.054000000000000034,
          0.055000000000000035,
          0.056000000000000036,
          0.05700000000000004,
          0.05800000000000004,
          0.05900000000000004,
          0.06000000000000004,
          0.06100000000000004,
          0.06200000000000004,
          0.06300000000000004,
          0.06400000000000004,
          0.06500000000000004,
          0.06600000000000004,
          0.06700000000000005,
          0.06800000000000005,
          0.06900000000000005,
          0.07000000000000005,
          0.07100000000000005,
          0.07200000000000005,
          0.07300000000000005,
          0.07400000000000005,
          0.07500000000000005,
          0.07600000000000005,
          0.07700000000000005,
          0.07800000000000006,
          0.07900000000000006,
          0.08000000000000006,
          0.08100000000000006,
          0.08200000000000006,
          0.08300000000000006,
          0.08400000000000006,
          0.08500000000000006,
          0.08600000000000006,
          0.08700000000000006,
          0.08800000000000006,
          0.08900000000000007,
          0.09000000000000007,
          0.09100000000000007,
          0.09200000000000007,
          0.09300000000000007,
          0.09400000000000007,
          0.09500000000000007,
          0.09600000000000007,
          0.09700000000000007,
          0.09800000000000007,
          0.09900000000000007
         ],
         "y": [
          9.447002131823966e+54,
          9.919352238415165e+54,
          1.0391702345006364e+55,
          1.0864052451597563e+55,
          1.133640255818876e+55,
          1.180875266477996e+55,
          1.2281102771371159e+55,
          1.2753452877962357e+55,
          1.3225802984553556e+55,
          1.3698153091144757e+55,
          1.4170503197735953e+55,
          1.464285330432715e+55,
          1.5115203410918352e+55,
          1.5587553517509554e+55,
          1.605990362410075e+55,
          1.6532253730691948e+55,
          1.700460383728315e+55,
          1.7476953943874345e+55,
          1.7949304050465543e+55,
          1.8421654157056745e+55,
          1.8894004263647943e+55,
          1.9366354370239142e+55,
          1.983870447683034e+55,
          2.031105458342154e+55,
          2.0783404690012737e+55,
          2.1255754796603936e+55,
          2.1728104903195134e+55,
          2.2200455009786335e+55,
          2.267280511637753e+55,
          2.314515522296873e+55,
          2.361750532955993e+55,
          2.4089855436151127e+55,
          2.456220554274233e+55,
          2.5034555649333524e+55,
          2.5506905755924725e+55,
          2.5979255862515926e+55,
          2.645160596910712e+55,
          2.692395607569832e+55,
          2.739630618228952e+55,
          2.786865628888072e+55,
          2.8341006395471916e+55,
          2.8813356502063117e+55,
          2.9285706608654313e+55,
          2.9758056715245514e+55,
          3.023040682183671e+55,
          3.070275692842791e+55,
          3.117510703501911e+55,
          3.164745714161031e+55,
          3.2119807248201504e+55,
          3.2592157354792705e+55,
          3.3064507461383907e+55,
          3.35368575679751e+55,
          3.4009207674566304e+55,
          3.44815577811575e+55,
          3.4953907887748695e+55,
          3.5426257994339896e+55,
          3.58986081009311e+55,
          3.6370958207522293e+55,
          3.6843308314113495e+55,
          3.731565842070469e+55,
          3.778800852729589e+55,
          3.8260358633887093e+55,
          3.873270874047829e+55,
          3.920505884706949e+55,
          3.9677408953660686e+55,
          4.014975906025188e+55,
          4.0622109166843083e+55,
          4.1094459273434284e+55,
          4.156680938002548e+55,
          4.203915948661668e+55,
          4.2511509593207877e+55,
          4.298385969979907e+55,
          4.345620980639028e+55,
          4.3928559912981475e+55,
          4.4400910019572676e+55,
          4.487326012616387e+55,
          4.534561023275507e+55,
          4.581796033934627e+55,
          4.629031044593747e+55,
          4.6762660552528666e+55
         ]
        },
        {
         "mode": "lines",
         "name": "acc centrípeta",
         "type": "scatter",
         "x": [
          0.02,
          0.021,
          0.022000000000000002,
          0.023000000000000003,
          0.024000000000000004,
          0.025000000000000005,
          0.026000000000000006,
          0.027000000000000007,
          0.028000000000000008,
          0.02900000000000001,
          0.03000000000000001,
          0.03100000000000001,
          0.032000000000000015,
          0.033000000000000015,
          0.034000000000000016,
          0.03500000000000002,
          0.03600000000000002,
          0.03700000000000002,
          0.03800000000000002,
          0.03900000000000002,
          0.04000000000000002,
          0.04100000000000002,
          0.04200000000000002,
          0.043000000000000024,
          0.044000000000000025,
          0.045000000000000026,
          0.04600000000000003,
          0.04700000000000003,
          0.04800000000000003,
          0.04900000000000003,
          0.05000000000000003,
          0.05100000000000003,
          0.05200000000000003,
          0.05300000000000003,
          0.054000000000000034,
          0.055000000000000035,
          0.056000000000000036,
          0.05700000000000004,
          0.05800000000000004,
          0.05900000000000004,
          0.06000000000000004,
          0.06100000000000004,
          0.06200000000000004,
          0.06300000000000004,
          0.06400000000000004,
          0.06500000000000004,
          0.06600000000000004,
          0.06700000000000005,
          0.06800000000000005,
          0.06900000000000005,
          0.07000000000000005,
          0.07100000000000005,
          0.07200000000000005,
          0.07300000000000005,
          0.07400000000000005,
          0.07500000000000005,
          0.07600000000000005,
          0.07700000000000005,
          0.07800000000000006,
          0.07900000000000006,
          0.08000000000000006,
          0.08100000000000006,
          0.08200000000000006,
          0.08300000000000006,
          0.08400000000000006,
          0.08500000000000006,
          0.08600000000000006,
          0.08700000000000006,
          0.08800000000000006,
          0.08900000000000007,
          0.09000000000000007,
          0.09100000000000007,
          0.09200000000000007,
          0.09300000000000007,
          0.09400000000000007,
          0.09500000000000007,
          0.09600000000000007,
          0.09700000000000007,
          0.09800000000000007,
          0.09900000000000007
         ],
         "y": [
          315.82734083485946,
          331.61870787660246,
          347.41007491834546,
          363.2014419600884,
          378.9928090018314,
          394.7841760435744,
          410.5755430853174,
          426.36691012706035,
          442.15827716880335,
          457.94964421054635,
          473.74101125228935,
          489.5323782940323,
          505.32374533577536,
          521.1151123775184,
          536.9064794192614,
          552.6978464610044,
          568.4892135027474,
          584.2805805444902,
          600.0719475862333,
          615.8633146279763,
          631.6546816697193,
          647.4460487114623,
          663.2374157532053,
          679.0287827949483,
          694.8201498366913,
          710.6115168784341,
          726.4028839201771,
          742.1942509619201,
          757.9856180036631,
          773.7769850454061,
          789.5683520871492,
          805.3597191288922,
          821.1510861706352,
          836.942453212378,
          852.733820254121,
          868.525187295864,
          884.316554337607,
          900.10792137935,
          915.899288421093,
          931.690655462836,
          947.482022504579,
          963.2733895463219,
          979.0647565880649,
          994.8561236298079,
          1010.6474906715509,
          1026.4388577132938,
          1042.230224755037,
          1058.0215917967798,
          1073.812958838523,
          1089.6043258802658,
          1105.395692922009,
          1121.1870599637518,
          1136.978427005495,
          1152.7697940472378,
          1168.5611610889807,
          1184.3525281307238,
          1200.1438951724667,
          1215.9352622142098,
          1231.7266292559527,
          1247.5179962976958,
          1263.3093633394387,
          1279.1007303811816,
          1294.8920974229247,
          1310.6834644646676,
          1326.4748315064107,
          1342.2661985481536,
          1358.0575655898967,
          1373.8489326316396,
          1389.6402996733827,
          1405.4316667151256,
          1421.2230337568685,
          1437.0144007986116,
          1452.8057678403545,
          1468.5971348820976,
          1484.3885019238405,
          1500.1798689655836,
          1515.9712360073265,
          1531.7626030490694,
          1547.5539700908125,
          1563.3453371325554
         ]
        }
       ],
       "layout": {
        "autosize": true,
        "template": {
         "data": {
          "bar": [
           {
            "error_x": {
             "color": "#2a3f5f"
            },
            "error_y": {
             "color": "#2a3f5f"
            },
            "marker": {
             "line": {
              "color": "#E5ECF6",
              "width": 0.5
             }
            },
            "type": "bar"
           }
          ],
          "barpolar": [
           {
            "marker": {
             "line": {
              "color": "#E5ECF6",
              "width": 0.5
             }
            },
            "type": "barpolar"
           }
          ],
          "carpet": [
           {
            "aaxis": {
             "endlinecolor": "#2a3f5f",
             "gridcolor": "white",
             "linecolor": "white",
             "minorgridcolor": "white",
             "startlinecolor": "#2a3f5f"
            },
            "baxis": {
             "endlinecolor": "#2a3f5f",
             "gridcolor": "white",
             "linecolor": "white",
             "minorgridcolor": "white",
             "startlinecolor": "#2a3f5f"
            },
            "type": "carpet"
           }
          ],
          "choropleth": [
           {
            "colorbar": {
             "outlinewidth": 0,
             "ticks": ""
            },
            "type": "choropleth"
           }
          ],
          "contour": [
           {
            "colorbar": {
             "outlinewidth": 0,
             "ticks": ""
            },
            "colorscale": [
             [
              0,
              "#0d0887"
             ],
             [
              0.1111111111111111,
              "#46039f"
             ],
             [
              0.2222222222222222,
              "#7201a8"
             ],
             [
              0.3333333333333333,
              "#9c179e"
             ],
             [
              0.4444444444444444,
              "#bd3786"
             ],
             [
              0.5555555555555556,
              "#d8576b"
             ],
             [
              0.6666666666666666,
              "#ed7953"
             ],
             [
              0.7777777777777778,
              "#fb9f3a"
             ],
             [
              0.8888888888888888,
              "#fdca26"
             ],
             [
              1,
              "#f0f921"
             ]
            ],
            "type": "contour"
           }
          ],
          "contourcarpet": [
           {
            "colorbar": {
             "outlinewidth": 0,
             "ticks": ""
            },
            "type": "contourcarpet"
           }
          ],
          "heatmap": [
           {
            "colorbar": {
             "outlinewidth": 0,
             "ticks": ""
            },
            "colorscale": [
             [
              0,
              "#0d0887"
             ],
             [
              0.1111111111111111,
              "#46039f"
             ],
             [
              0.2222222222222222,
              "#7201a8"
             ],
             [
              0.3333333333333333,
              "#9c179e"
             ],
             [
              0.4444444444444444,
              "#bd3786"
             ],
             [
              0.5555555555555556,
              "#d8576b"
             ],
             [
              0.6666666666666666,
              "#ed7953"
             ],
             [
              0.7777777777777778,
              "#fb9f3a"
             ],
             [
              0.8888888888888888,
              "#fdca26"
             ],
             [
              1,
              "#f0f921"
             ]
            ],
            "type": "heatmap"
           }
          ],
          "heatmapgl": [
           {
            "colorbar": {
             "outlinewidth": 0,
             "ticks": ""
            },
            "colorscale": [
             [
              0,
              "#0d0887"
             ],
             [
              0.1111111111111111,
              "#46039f"
             ],
             [
              0.2222222222222222,
              "#7201a8"
             ],
             [
              0.3333333333333333,
              "#9c179e"
             ],
             [
              0.4444444444444444,
              "#bd3786"
             ],
             [
              0.5555555555555556,
              "#d8576b"
             ],
             [
              0.6666666666666666,
              "#ed7953"
             ],
             [
              0.7777777777777778,
              "#fb9f3a"
             ],
             [
              0.8888888888888888,
              "#fdca26"
             ],
             [
              1,
              "#f0f921"
             ]
            ],
            "type": "heatmapgl"
           }
          ],
          "histogram": [
           {
            "marker": {
             "colorbar": {
              "outlinewidth": 0,
              "ticks": ""
             }
            },
            "type": "histogram"
           }
          ],
          "histogram2d": [
           {
            "colorbar": {
             "outlinewidth": 0,
             "ticks": ""
            },
            "colorscale": [
             [
              0,
              "#0d0887"
             ],
             [
              0.1111111111111111,
              "#46039f"
             ],
             [
              0.2222222222222222,
              "#7201a8"
             ],
             [
              0.3333333333333333,
              "#9c179e"
             ],
             [
              0.4444444444444444,
              "#bd3786"
             ],
             [
              0.5555555555555556,
              "#d8576b"
             ],
             [
              0.6666666666666666,
              "#ed7953"
             ],
             [
              0.7777777777777778,
              "#fb9f3a"
             ],
             [
              0.8888888888888888,
              "#fdca26"
             ],
             [
              1,
              "#f0f921"
             ]
            ],
            "type": "histogram2d"
           }
          ],
          "histogram2dcontour": [
           {
            "colorbar": {
             "outlinewidth": 0,
             "ticks": ""
            },
            "colorscale": [
             [
              0,
              "#0d0887"
             ],
             [
              0.1111111111111111,
              "#46039f"
             ],
             [
              0.2222222222222222,
              "#7201a8"
             ],
             [
              0.3333333333333333,
              "#9c179e"
             ],
             [
              0.4444444444444444,
              "#bd3786"
             ],
             [
              0.5555555555555556,
              "#d8576b"
             ],
             [
              0.6666666666666666,
              "#ed7953"
             ],
             [
              0.7777777777777778,
              "#fb9f3a"
             ],
             [
              0.8888888888888888,
              "#fdca26"
             ],
             [
              1,
              "#f0f921"
             ]
            ],
            "type": "histogram2dcontour"
           }
          ],
          "mesh3d": [
           {
            "colorbar": {
             "outlinewidth": 0,
             "ticks": ""
            },
            "type": "mesh3d"
           }
          ],
          "parcoords": [
           {
            "line": {
             "colorbar": {
              "outlinewidth": 0,
              "ticks": ""
             }
            },
            "type": "parcoords"
           }
          ],
          "pie": [
           {
            "automargin": true,
            "type": "pie"
           }
          ],
          "scatter": [
           {
            "marker": {
             "colorbar": {
              "outlinewidth": 0,
              "ticks": ""
             }
            },
            "type": "scatter"
           }
          ],
          "scatter3d": [
           {
            "line": {
             "colorbar": {
              "outlinewidth": 0,
              "ticks": ""
             }
            },
            "marker": {
             "colorbar": {
              "outlinewidth": 0,
              "ticks": ""
             }
            },
            "type": "scatter3d"
           }
          ],
          "scattercarpet": [
           {
            "marker": {
             "colorbar": {
              "outlinewidth": 0,
              "ticks": ""
             }
            },
            "type": "scattercarpet"
           }
          ],
          "scattergeo": [
           {
            "marker": {
             "colorbar": {
              "outlinewidth": 0,
              "ticks": ""
             }
            },
            "type": "scattergeo"
           }
          ],
          "scattergl": [
           {
            "marker": {
             "colorbar": {
              "outlinewidth": 0,
              "ticks": ""
             }
            },
            "type": "scattergl"
           }
          ],
          "scattermapbox": [
           {
            "marker": {
             "colorbar": {
              "outlinewidth": 0,
              "ticks": ""
             }
            },
            "type": "scattermapbox"
           }
          ],
          "scatterpolar": [
           {
            "marker": {
             "colorbar": {
              "outlinewidth": 0,
              "ticks": ""
             }
            },
            "type": "scatterpolar"
           }
          ],
          "scatterpolargl": [
           {
            "marker": {
             "colorbar": {
              "outlinewidth": 0,
              "ticks": ""
             }
            },
            "type": "scatterpolargl"
           }
          ],
          "scatterternary": [
           {
            "marker": {
             "colorbar": {
              "outlinewidth": 0,
              "ticks": ""
             }
            },
            "type": "scatterternary"
           }
          ],
          "surface": [
           {
            "colorbar": {
             "outlinewidth": 0,
             "ticks": ""
            },
            "colorscale": [
             [
              0,
              "#0d0887"
             ],
             [
              0.1111111111111111,
              "#46039f"
             ],
             [
              0.2222222222222222,
              "#7201a8"
             ],
             [
              0.3333333333333333,
              "#9c179e"
             ],
             [
              0.4444444444444444,
              "#bd3786"
             ],
             [
              0.5555555555555556,
              "#d8576b"
             ],
             [
              0.6666666666666666,
              "#ed7953"
             ],
             [
              0.7777777777777778,
              "#fb9f3a"
             ],
             [
              0.8888888888888888,
              "#fdca26"
             ],
             [
              1,
              "#f0f921"
             ]
            ],
            "type": "surface"
           }
          ],
          "table": [
           {
            "cells": {
             "fill": {
              "color": "#EBF0F8"
             },
             "line": {
              "color": "white"
             }
            },
            "header": {
             "fill": {
              "color": "#C8D4E3"
             },
             "line": {
              "color": "white"
             }
            },
            "type": "table"
           }
          ]
         },
         "layout": {
          "annotationdefaults": {
           "arrowcolor": "#2a3f5f",
           "arrowhead": 0,
           "arrowwidth": 1
          },
          "autotypenumbers": "strict",
          "coloraxis": {
           "colorbar": {
            "outlinewidth": 0,
            "ticks": ""
           }
          },
          "colorscale": {
           "diverging": [
            [
             0,
             "#8e0152"
            ],
            [
             0.1,
             "#c51b7d"
            ],
            [
             0.2,
             "#de77ae"
            ],
            [
             0.3,
             "#f1b6da"
            ],
            [
             0.4,
             "#fde0ef"
            ],
            [
             0.5,
             "#f7f7f7"
            ],
            [
             0.6,
             "#e6f5d0"
            ],
            [
             0.7,
             "#b8e186"
            ],
            [
             0.8,
             "#7fbc41"
            ],
            [
             0.9,
             "#4d9221"
            ],
            [
             1,
             "#276419"
            ]
           ],
           "sequential": [
            [
             0,
             "#0d0887"
            ],
            [
             0.1111111111111111,
             "#46039f"
            ],
            [
             0.2222222222222222,
             "#7201a8"
            ],
            [
             0.3333333333333333,
             "#9c179e"
            ],
            [
             0.4444444444444444,
             "#bd3786"
            ],
            [
             0.5555555555555556,
             "#d8576b"
            ],
            [
             0.6666666666666666,
             "#ed7953"
            ],
            [
             0.7777777777777778,
             "#fb9f3a"
            ],
            [
             0.8888888888888888,
             "#fdca26"
            ],
            [
             1,
             "#f0f921"
            ]
           ],
           "sequentialminus": [
            [
             0,
             "#0d0887"
            ],
            [
             0.1111111111111111,
             "#46039f"
            ],
            [
             0.2222222222222222,
             "#7201a8"
            ],
            [
             0.3333333333333333,
             "#9c179e"
            ],
            [
             0.4444444444444444,
             "#bd3786"
            ],
            [
             0.5555555555555556,
             "#d8576b"
            ],
            [
             0.6666666666666666,
             "#ed7953"
            ],
            [
             0.7777777777777778,
             "#fb9f3a"
            ],
            [
             0.8888888888888888,
             "#fdca26"
            ],
            [
             1,
             "#f0f921"
            ]
           ]
          },
          "colorway": [
           "#636efa",
           "#EF553B",
           "#00cc96",
           "#ab63fa",
           "#FFA15A",
           "#19d3f3",
           "#FF6692",
           "#B6E880",
           "#FF97FF",
           "#FECB52"
          ],
          "font": {
           "color": "#2a3f5f"
          },
          "geo": {
           "bgcolor": "white",
           "lakecolor": "white",
           "landcolor": "#E5ECF6",
           "showlakes": true,
           "showland": true,
           "subunitcolor": "white"
          },
          "hoverlabel": {
           "align": "left"
          },
          "hovermode": "closest",
          "mapbox": {
           "style": "light"
          },
          "paper_bgcolor": "white",
          "plot_bgcolor": "#E5ECF6",
          "polar": {
           "angularaxis": {
            "gridcolor": "white",
            "linecolor": "white",
            "ticks": ""
           },
           "bgcolor": "#E5ECF6",
           "radialaxis": {
            "gridcolor": "white",
            "linecolor": "white",
            "ticks": ""
           }
          },
          "scene": {
           "xaxis": {
            "backgroundcolor": "#E5ECF6",
            "gridcolor": "white",
            "gridwidth": 2,
            "linecolor": "white",
            "showbackground": true,
            "ticks": "",
            "zerolinecolor": "white"
           },
           "yaxis": {
            "backgroundcolor": "#E5ECF6",
            "gridcolor": "white",
            "gridwidth": 2,
            "linecolor": "white",
            "showbackground": true,
            "ticks": "",
            "zerolinecolor": "white"
           },
           "zaxis": {
            "backgroundcolor": "#E5ECF6",
            "gridcolor": "white",
            "gridwidth": 2,
            "linecolor": "white",
            "showbackground": true,
            "ticks": "",
            "zerolinecolor": "white"
           }
          },
          "shapedefaults": {
           "line": {
            "color": "#2a3f5f"
           }
          },
          "ternary": {
           "aaxis": {
            "gridcolor": "white",
            "linecolor": "white",
            "ticks": ""
           },
           "baxis": {
            "gridcolor": "white",
            "linecolor": "white",
            "ticks": ""
           },
           "bgcolor": "#E5ECF6",
           "caxis": {
            "gridcolor": "white",
            "linecolor": "white",
            "ticks": ""
           }
          },
          "title": {
           "x": 0.05
          },
          "xaxis": {
           "automargin": true,
           "gridcolor": "white",
           "linecolor": "white",
           "ticks": "",
           "title": {
            "standoff": 15
           },
           "zerolinecolor": "white",
           "zerolinewidth": 2
          },
          "yaxis": {
           "automargin": true,
           "gridcolor": "white",
           "linecolor": "white",
           "ticks": "",
           "title": {
            "standoff": 15
           },
           "zerolinecolor": "white",
           "zerolinewidth": 2
          }
         }
        },
        "title": {
         "text": "aceleración con respecto a la distancia recorrida en el álabe"
        },
        "xaxis": {
         "autorange": true,
         "range": [
          0.02,
          0.09900000000000007
         ],
         "title": {
          "text": "R[m]"
         },
         "type": "linear"
        },
        "yaxis": {
         "autorange": true,
         "range": [
          -1.632324787268192e+56,
          3.101417095809565e+57
         ],
         "title": {
          "text": "[m/s^2]"
         },
         "type": "linear"
        }
       }
      },
      "image/png": "[encoded data removed]",
      "text/html": [
       "<div>                            <div id=\"2841434a-a3a0-4fc9-aa16-c599409038da\" class=\"plotly-graph-div\" style=\"height:525px; width:100%;\"></div>            <script type=\"text/javascript\">                require([\"plotly\"], function(Plotly) {                    window.PLOTLYENV=window.PLOTLYENV || {};                                    if (document.getElementById(\"2841434a-a3a0-4fc9-aa16-c599409038da\")) {                    Plotly.newPlot(                        \"2841434a-a3a0-4fc9-aa16-c599409038da\",                        [{\"mode\": \"lines\", \"name\": \"acc radial\", \"type\": \"scatter\", \"x\": [0.02, 0.021, 0.022000000000000002, 0.023000000000000003, 0.024000000000000004, 0.025000000000000005, 0.026000000000000006, 0.027000000000000007, 0.028000000000000008, 0.02900000000000001, 0.03000000000000001, 0.03100000000000001, 0.032000000000000015, 0.033000000000000015, 0.034000000000000016, 0.03500000000000002, 0.03600000000000002, 0.03700000000000002, 0.03800000000000002, 0.03900000000000002, 0.04000000000000002, 0.04100000000000002, 0.04200000000000002, 0.043000000000000024, 0.044000000000000025, 0.045000000000000026, 0.04600000000000003, 0.04700000000000003, 0.04800000000000003, 0.04900000000000003, 0.05000000000000003, 0.05100000000000003, 0.05200000000000003, 0.05300000000000003, 0.054000000000000034, 0.055000000000000035, 0.056000000000000036, 0.05700000000000004, 0.05800000000000004, 0.05900000000000004, 0.06000000000000004, 0.06100000000000004, 0.06200000000000004, 0.06300000000000004, 0.06400000000000004, 0.06500000000000004, 0.06600000000000004, 0.06700000000000005, 0.06800000000000005, 0.06900000000000005, 0.07000000000000005, 0.07100000000000005, 0.07200000000000005, 0.07300000000000005, 0.07400000000000005, 0.07500000000000005, 0.07600000000000005, 0.07700000000000005, 0.07800000000000006, 0.07900000000000006, 0.08000000000000006, 0.08100000000000006, 0.08200000000000006, 0.08300000000000006, 0.08400000000000006, 0.08500000000000006, 0.08600000000000006, 0.08700000000000006, 0.08800000000000006, 0.08900000000000007, 0.09000000000000007, 0.09100000000000007, 0.09200000000000007, 0.09300000000000007, 0.09400000000000007, 0.09500000000000007, 0.09600000000000007, 0.09700000000000007, 0.09800000000000007, 0.09900000000000007], \"y\": [5.935726499157057e+56, 6.232512824114911e+56, 6.529299149072764e+56, 6.826085474030618e+56, 7.12287179898847e+56, 7.419658123946323e+56, 7.716444448904175e+56, 8.01323077386203e+56, 8.310017098819882e+56, 8.606803423777736e+56, 8.903589748735589e+56, 9.200376073693442e+56, 9.497162398651296e+56, 9.79394872360915e+56, 1.0090735048567003e+57, 1.0387521373524855e+57, 1.068430769848271e+57, 1.0981094023440562e+57, 1.1277880348398415e+57, 1.1574666673356269e+57, 1.1871452998314122e+57, 1.2168239323271976e+57, 1.2465025648229828e+57, 1.2761811973187681e+57, 1.3058598298145535e+57, 1.3355384623103386e+57, 1.3652170948061239e+57, 1.3948957273019093e+57, 1.4245743597976946e+57, 1.4542529922934798e+57, 1.4839316247892652e+57, 1.5136102572850505e+57, 1.5432888897808358e+57, 1.572967522276621e+57, 1.6026461547724066e+57, 1.632324787268192e+57, 1.662003419763977e+57, 1.6916820522597624e+57, 1.7213606847555476e+57, 1.7510393172513332e+57, 1.7807179497471185e+57, 1.8103965822429038e+57, 1.840075214738689e+57, 1.8697538472344743e+57, 1.8994324797302595e+57, 1.929111112226045e+57, 1.9587897447218304e+57, 1.9884683772176156e+57, 2.018147009713401e+57, 2.047825642209186e+57, 2.0775042747049718e+57, 2.107182907200757e+57, 2.1368615396965423e+57, 2.1665401721923275e+57, 2.1962188046881128e+57, 2.225897437183898e+57, 2.2555760696796836e+57, 2.285254702175469e+57, 2.314933334671254e+57, 2.3446119671670394e+57, 2.3742905996628247e+57, 2.4039692321586103e+57, 2.4336478646543955e+57, 2.4633264971501808e+57, 2.493005129645966e+57, 2.5226837621417513e+57, 2.5523623946375365e+57, 2.5820410271333218e+57, 2.611719659629107e+57, 2.6413982921248923e+57, 2.6710769246206776e+57, 2.700755557116463e+57, 2.7304341896122484e+57, 2.7601128221080337e+57, 2.789791454603819e+57, 2.8194700870996042e+57, 2.8491487195953895e+57, 2.8788273520911747e+57, 2.9085059845869603e+57, 2.9381846170827456e+57]}, {\"mode\": \"lines\", \"name\": \"acc corriolis\", \"type\": \"scatter\", \"x\": [0.02, 0.021, 0.022000000000000002, 0.023000000000000003, 0.024000000000000004, 0.025000000000000005, 0.026000000000000006, 0.027000000000000007, 0.028000000000000008, 0.02900000000000001, 0.03000000000000001, 0.03100000000000001, 0.032000000000000015, 0.033000000000000015, 0.034000000000000016, 0.03500000000000002, 0.03600000000000002, 0.03700000000000002, 0.03800000000000002, 0.03900000000000002, 0.04000000000000002, 0.04100000000000002, 0.04200000000000002, 0.043000000000000024, 0.044000000000000025, 0.045000000000000026, 0.04600000000000003, 0.04700000000000003, 0.04800000000000003, 0.04900000000000003, 0.05000000000000003, 0.05100000000000003, 0.05200000000000003, 0.05300000000000003, 0.054000000000000034, 0.055000000000000035, 0.056000000000000036, 0.05700000000000004, 0.05800000000000004, 0.05900000000000004, 0.06000000000000004, 0.06100000000000004, 0.06200000000000004, 0.06300000000000004, 0.06400000000000004, 0.06500000000000004, 0.06600000000000004, 0.06700000000000005, 0.06800000000000005, 0.06900000000000005, 0.07000000000000005, 0.07100000000000005, 0.07200000000000005, 0.07300000000000005, 0.07400000000000005, 0.07500000000000005, 0.07600000000000005, 0.07700000000000005, 0.07800000000000006, 0.07900000000000006, 0.08000000000000006, 0.08100000000000006, 0.08200000000000006, 0.08300000000000006, 0.08400000000000006, 0.08500000000000006, 0.08600000000000006, 0.08700000000000006, 0.08800000000000006, 0.08900000000000007, 0.09000000000000007, 0.09100000000000007, 0.09200000000000007, 0.09300000000000007, 0.09400000000000007, 0.09500000000000007, 0.09600000000000007, 0.09700000000000007, 0.09800000000000007, 0.09900000000000007], \"y\": [9.447002131823966e+54, 9.919352238415165e+54, 1.0391702345006364e+55, 1.0864052451597563e+55, 1.133640255818876e+55, 1.180875266477996e+55, 1.2281102771371159e+55, 1.2753452877962357e+55, 1.3225802984553556e+55, 1.3698153091144757e+55, 1.4170503197735953e+55, 1.464285330432715e+55, 1.5115203410918352e+55, 1.5587553517509554e+55, 1.605990362410075e+55, 1.6532253730691948e+55, 1.700460383728315e+55, 1.7476953943874345e+55, 1.7949304050465543e+55, 1.8421654157056745e+55, 1.8894004263647943e+55, 1.9366354370239142e+55, 1.983870447683034e+55, 2.031105458342154e+55, 2.0783404690012737e+55, 2.1255754796603936e+55, 2.1728104903195134e+55, 2.2200455009786335e+55, 2.267280511637753e+55, 2.314515522296873e+55, 2.361750532955993e+55, 2.4089855436151127e+55, 2.456220554274233e+55, 2.5034555649333524e+55, 2.5506905755924725e+55, 2.5979255862515926e+55, 2.645160596910712e+55, 2.692395607569832e+55, 2.739630618228952e+55, 2.786865628888072e+55, 2.8341006395471916e+55, 2.8813356502063117e+55, 2.9285706608654313e+55, 2.9758056715245514e+55, 3.023040682183671e+55, 3.070275692842791e+55, 3.117510703501911e+55, 3.164745714161031e+55, 3.2119807248201504e+55, 3.2592157354792705e+55, 3.3064507461383907e+55, 3.35368575679751e+55, 3.4009207674566304e+55, 3.44815577811575e+55, 3.4953907887748695e+55, 3.5426257994339896e+55, 3.58986081009311e+55, 3.6370958207522293e+55, 3.6843308314113495e+55, 3.731565842070469e+55, 3.778800852729589e+55, 3.8260358633887093e+55, 3.873270874047829e+55, 3.920505884706949e+55, 3.9677408953660686e+55, 4.014975906025188e+55, 4.0622109166843083e+55, 4.1094459273434284e+55, 4.156680938002548e+55, 4.203915948661668e+55, 4.2511509593207877e+55, 4.298385969979907e+55, 4.345620980639028e+55, 4.3928559912981475e+55, 4.4400910019572676e+55, 4.487326012616387e+55, 4.534561023275507e+55, 4.581796033934627e+55, 4.629031044593747e+55, 4.6762660552528666e+55]}, {\"mode\": \"lines\", \"name\": \"acc centr\\u00edpeta\", \"type\": \"scatter\", \"x\": [0.02, 0.021, 0.022000000000000002, 0.023000000000000003, 0.024000000000000004, 0.025000000000000005, 0.026000000000000006, 0.027000000000000007, 0.028000000000000008, 0.02900000000000001, 0.03000000000000001, 0.03100000000000001, 0.032000000000000015, 0.033000000000000015, 0.034000000000000016, 0.03500000000000002, 0.03600000000000002, 0.03700000000000002, 0.03800000000000002, 0.03900000000000002, 0.04000000000000002, 0.04100000000000002, 0.04200000000000002, 0.043000000000000024, 0.044000000000000025, 0.045000000000000026, 0.04600000000000003, 0.04700000000000003, 0.04800000000000003, 0.04900000000000003, 0.05000000000000003, 0.05100000000000003, 0.05200000000000003, 0.05300000000000003, 0.054000000000000034, 0.055000000000000035, 0.056000000000000036, 0.05700000000000004, 0.05800000000000004, 0.05900000000000004, 0.06000000000000004, 0.06100000000000004, 0.06200000000000004, 0.06300000000000004, 0.06400000000000004, 0.06500000000000004, 0.06600000000000004, 0.06700000000000005, 0.06800000000000005, 0.06900000000000005, 0.07000000000000005, 0.07100000000000005, 0.07200000000000005, 0.07300000000000005, 0.07400000000000005, 0.07500000000000005, 0.07600000000000005, 0.07700000000000005, 0.07800000000000006, 0.07900000000000006, 0.08000000000000006, 0.08100000000000006, 0.08200000000000006, 0.08300000000000006, 0.08400000000000006, 0.08500000000000006, 0.08600000000000006, 0.08700000000000006, 0.08800000000000006, 0.08900000000000007, 0.09000000000000007, 0.09100000000000007, 0.09200000000000007, 0.09300000000000007, 0.09400000000000007, 0.09500000000000007, 0.09600000000000007, 0.09700000000000007, 0.09800000000000007, 0.09900000000000007], \"y\": [315.82734083485946, 331.61870787660246, 347.41007491834546, 363.2014419600884, 378.9928090018314, 394.7841760435744, 410.5755430853174, 426.36691012706035, 442.15827716880335, 457.94964421054635, 473.74101125228935, 489.5323782940323, 505.32374533577536, 521.1151123775184, 536.9064794192614, 552.6978464610044, 568.4892135027474, 584.2805805444902, 600.0719475862333, 615.8633146279763, 631.6546816697193, 647.4460487114623, 663.2374157532053, 679.0287827949483, 694.8201498366913, 710.6115168784341, 726.4028839201771, 742.1942509619201, 757.9856180036631, 773.7769850454061, 789.5683520871492, 805.3597191288922, 821.1510861706352, 836.942453212378, 852.733820254121, 868.525187295864, 884.316554337607, 900.10792137935, 915.899288421093, 931.690655462836, 947.482022504579, 963.2733895463219, 979.0647565880649, 994.8561236298079, 1010.6474906715509, 1026.4388577132938, 1042.230224755037, 1058.0215917967798, 1073.812958838523, 1089.6043258802658, 1105.395692922009, 1121.1870599637518, 1136.978427005495, 1152.7697940472378, 1168.5611610889807, 1184.3525281307238, 1200.1438951724667, 1215.9352622142098, 1231.7266292559527, 1247.5179962976958, 1263.3093633394387, 1279.1007303811816, 1294.8920974229247, 1310.6834644646676, 1326.4748315064107, 1342.2661985481536, 1358.0575655898967, 1373.8489326316396, 1389.6402996733827, 1405.4316667151256, 1421.2230337568685, 1437.0144007986116, 1452.8057678403545, 1468.5971348820976, 1484.3885019238405, 1500.1798689655836, 1515.9712360073265, 1531.7626030490694, 1547.5539700908125, 1563.3453371325554]}],                        {\"template\": {\"data\": {\"bar\": [{\"error_x\": {\"color\": \"#2a3f5f\"}, \"error_y\": {\"color\": \"#2a3f5f\"}, \"marker\": {\"line\": {\"color\": \"#E5ECF6\", \"width\": 0.5}}, \"type\": \"bar\"}], \"barpolar\": [{\"marker\": {\"line\": {\"color\": \"#E5ECF6\", \"width\": 0.5}}, \"type\": \"barpolar\"}], \"carpet\": [{\"aaxis\": {\"endlinecolor\": \"#2a3f5f\", \"gridcolor\": \"white\", \"linecolor\": \"white\", \"minorgridcolor\": \"white\", \"startlinecolor\": \"#2a3f5f\"}, \"baxis\": {\"endlinecolor\": \"#2a3f5f\", \"gridcolor\": \"white\", \"linecolor\": \"white\", \"minorgridcolor\": \"white\", \"startlinecolor\": \"#2a3f5f\"}, \"type\": \"carpet\"}], \"choropleth\": [{\"colorbar\": {\"outlinewidth\": 0, \"ticks\": \"\"}, \"type\": \"choropleth\"}], \"contour\": [{\"colorbar\": {\"outlinewidth\": 0, \"ticks\": \"\"}, \"colorscale\": [[0.0, \"#0d0887\"], [0.1111111111111111, \"#46039f\"], [0.2222222222222222, \"#7201a8\"], [0.3333333333333333, \"#9c179e\"], [0.4444444444444444, \"#bd3786\"], [0.5555555555555556, \"#d8576b\"], [0.6666666666666666, \"#ed7953\"], [0.7777777777777778, \"#fb9f3a\"], [0.8888888888888888, \"#fdca26\"], [1.0, \"#f0f921\"]], \"type\": \"contour\"}], \"contourcarpet\": [{\"colorbar\": {\"outlinewidth\": 0, \"ticks\": \"\"}, \"type\": \"contourcarpet\"}], \"heatmap\": [{\"colorbar\": {\"outlinewidth\": 0, \"ticks\": \"\"}, \"colorscale\": [[0.0, \"#0d0887\"], [0.1111111111111111, \"#46039f\"], [0.2222222222222222, \"#7201a8\"], [0.3333333333333333, \"#9c179e\"], [0.4444444444444444, \"#bd3786\"], [0.5555555555555556, \"#d8576b\"], [0.6666666666666666, \"#ed7953\"], [0.7777777777777778, \"#fb9f3a\"], [0.8888888888888888, \"#fdca26\"], [1.0, \"#f0f921\"]], \"type\": \"heatmap\"}], \"heatmapgl\": [{\"colorbar\": {\"outlinewidth\": 0, \"ticks\": \"\"}, \"colorscale\": [[0.0, \"#0d0887\"], [0.1111111111111111, \"#46039f\"], [0.2222222222222222, \"#7201a8\"], [0.3333333333333333, \"#9c179e\"], [0.4444444444444444, \"#bd3786\"], [0.5555555555555556, \"#d8576b\"], [0.6666666666666666, \"#ed7953\"], [0.7777777777777778, \"#fb9f3a\"], [0.8888888888888888, \"#fdca26\"], [1.0, \"#f0f921\"]], \"type\": \"heatmapgl\"}], \"histogram\": [{\"marker\": {\"colorbar\": {\"outlinewidth\": 0, \"ticks\": \"\"}}, \"type\": \"histogram\"}], \"histogram2d\": [{\"colorbar\": {\"outlinewidth\": 0, \"ticks\": \"\"}, \"colorscale\": [[0.0, \"#0d0887\"], [0.1111111111111111, \"#46039f\"], [0.2222222222222222, \"#7201a8\"], [0.3333333333333333, \"#9c179e\"], [0.4444444444444444, \"#bd3786\"], [0.5555555555555556, \"#d8576b\"], [0.6666666666666666, \"#ed7953\"], [0.7777777777777778, \"#fb9f3a\"], [0.8888888888888888, \"#fdca26\"], [1.0, \"#f0f921\"]], \"type\": \"histogram2d\"}], \"histogram2dcontour\": [{\"colorbar\": {\"outlinewidth\": 0, \"ticks\": \"\"}, \"colorscale\": [[0.0, \"#0d0887\"], [0.1111111111111111, \"#46039f\"], [0.2222222222222222, \"#7201a8\"], [0.3333333333333333, \"#9c179e\"], [0.4444444444444444, \"#bd3786\"], [0.5555555555555556, \"#d8576b\"], [0.6666666666666666, \"#ed7953\"], [0.7777777777777778, \"#fb9f3a\"], [0.8888888888888888, \"#fdca26\"], [1.0, \"#f0f921\"]], \"type\": \"histogram2dcontour\"}], \"mesh3d\": [{\"colorbar\": {\"outlinewidth\": 0, \"ticks\": \"\"}, \"type\": \"mesh3d\"}], \"parcoords\": [{\"line\": {\"colorbar\": {\"outlinewidth\": 0, \"ticks\": \"\"}}, \"type\": \"parcoords\"}], \"pie\": [{\"automargin\": true, \"type\": \"pie\"}], \"scatter\": [{\"marker\": {\"colorbar\": {\"outlinewidth\": 0, \"ticks\": \"\"}}, \"type\": \"scatter\"}], \"scatter3d\": [{\"line\": {\"colorbar\": {\"outlinewidth\": 0, \"ticks\": \"\"}}, \"marker\": {\"colorbar\": {\"outlinewidth\": 0, \"ticks\": \"\"}}, \"type\": \"scatter3d\"}], \"scattercarpet\": [{\"marker\": {\"colorbar\": {\"outlinewidth\": 0, \"ticks\": \"\"}}, \"type\": \"scattercarpet\"}], \"scattergeo\": [{\"marker\": {\"colorbar\": {\"outlinewidth\": 0, \"ticks\": \"\"}}, \"type\": \"scattergeo\"}], \"scattergl\": [{\"marker\": {\"colorbar\": {\"outlinewidth\": 0, \"ticks\": \"\"}}, \"type\": \"scattergl\"}], \"scattermapbox\": [{\"marker\": {\"colorbar\": {\"outlinewidth\": 0, \"ticks\": \"\"}}, \"type\": \"scattermapbox\"}], \"scatterpolar\": [{\"marker\": {\"colorbar\": {\"outlinewidth\": 0, \"ticks\": \"\"}}, \"type\": \"scatterpolar\"}], \"scatterpolargl\": [{\"marker\": {\"colorbar\": {\"outlinewidth\": 0, \"ticks\": \"\"}}, \"type\": \"scatterpolargl\"}], \"scatterternary\": [{\"marker\": {\"colorbar\": {\"outlinewidth\": 0, \"ticks\": \"\"}}, \"type\": \"scatterternary\"}], \"surface\": [{\"colorbar\": {\"outlinewidth\": 0, \"ticks\": \"\"}, \"colorscale\": [[0.0, \"#0d0887\"], [0.1111111111111111, \"#46039f\"], [0.2222222222222222, \"#7201a8\"], [0.3333333333333333, \"#9c179e\"], [0.4444444444444444, \"#bd3786\"], [0.5555555555555556, \"#d8576b\"], [0.6666666666666666, \"#ed7953\"], [0.7777777777777778, \"#fb9f3a\"], [0.8888888888888888, \"#fdca26\"], [1.0, \"#f0f921\"]], \"type\": \"surface\"}], \"table\": [{\"cells\": {\"fill\": {\"color\": \"#EBF0F8\"}, \"line\": {\"color\": \"white\"}}, \"header\": {\"fill\": {\"color\": \"#C8D4E3\"}, \"line\": {\"color\": \"white\"}}, \"type\": \"table\"}]}, \"layout\": {\"annotationdefaults\": {\"arrowcolor\": \"#2a3f5f\", \"arrowhead\": 0, \"arrowwidth\": 1}, \"autotypenumbers\": \"strict\", \"coloraxis\": {\"colorbar\": {\"outlinewidth\": 0, \"ticks\": \"\"}}, \"colorscale\": {\"diverging\": [[0, \"#8e0152\"], [0.1, \"#c51b7d\"], [0.2, \"#de77ae\"], [0.3, \"#f1b6da\"], [0.4, \"#fde0ef\"], [0.5, \"#f7f7f7\"], [0.6, \"#e6f5d0\"], [0.7, \"#b8e186\"], [0.8, \"#7fbc41\"], [0.9, \"#4d9221\"], [1, \"#276419\"]], \"sequential\": [[0.0, \"#0d0887\"], [0.1111111111111111, \"#46039f\"], [0.2222222222222222, \"#7201a8\"], [0.3333333333333333, \"#9c179e\"], [0.4444444444444444, \"#bd3786\"], [0.5555555555555556, \"#d8576b\"], [0.6666666666666666, \"#ed7953\"], [0.7777777777777778, \"#fb9f3a\"], [0.8888888888888888, \"#fdca26\"], [1.0, \"#f0f921\"]], \"sequentialminus\": [[0.0, \"#0d0887\"], [0.1111111111111111, \"#46039f\"], [0.2222222222222222, \"#7201a8\"], [0.3333333333333333, \"#9c179e\"], [0.4444444444444444, \"#bd3786\"], [0.5555555555555556, \"#d8576b\"], [0.6666666666666666, \"#ed7953\"], [0.7777777777777778, \"#fb9f3a\"], [0.8888888888888888, \"#fdca26\"], [1.0, \"#f0f921\"]]}, \"colorway\": [\"#636efa\", \"#EF553B\", \"#00cc96\", \"#ab63fa\", \"#FFA15A\", \"#19d3f3\", \"#FF6692\", \"#B6E880\", \"#FF97FF\", \"#FECB52\"], \"font\": {\"color\": \"#2a3f5f\"}, \"geo\": {\"bgcolor\": \"white\", \"lakecolor\": \"white\", \"landcolor\": \"#E5ECF6\", \"showlakes\": true, \"showland\": true, \"subunitcolor\": \"white\"}, \"hoverlabel\": {\"align\": \"left\"}, \"hovermode\": \"closest\", \"mapbox\": {\"style\": \"light\"}, \"paper_bgcolor\": \"white\", \"plot_bgcolor\": \"#E5ECF6\", \"polar\": {\"angularaxis\": {\"gridcolor\": \"white\", \"linecolor\": \"white\", \"ticks\": \"\"}, \"bgcolor\": \"#E5ECF6\", \"radialaxis\": {\"gridcolor\": \"white\", \"linecolor\": \"white\", \"ticks\": \"\"}}, \"scene\": {\"xaxis\": {\"backgroundcolor\": \"#E5ECF6\", \"gridcolor\": \"white\", \"gridwidth\": 2, \"linecolor\": \"white\", \"showbackground\": true, \"ticks\": \"\", \"zerolinecolor\": \"white\"}, \"yaxis\": {\"backgroundcolor\": \"#E5ECF6\", \"gridcolor\": \"white\", \"gridwidth\": 2, \"linecolor\": \"white\", \"showbackground\": true, \"ticks\": \"\", \"zerolinecolor\": \"white\"}, \"zaxis\": {\"backgroundcolor\": \"#E5ECF6\", \"gridcolor\": \"white\", \"gridwidth\": 2, \"linecolor\": \"white\", \"showbackground\": true, \"ticks\": \"\", \"zerolinecolor\": \"white\"}}, \"shapedefaults\": {\"line\": {\"color\": \"#2a3f5f\"}}, \"ternary\": {\"aaxis\": {\"gridcolor\": \"white\", \"linecolor\": \"white\", \"ticks\": \"\"}, \"baxis\": {\"gridcolor\": \"white\", \"linecolor\": \"white\", \"ticks\": \"\"}, \"bgcolor\": \"#E5ECF6\", \"caxis\": {\"gridcolor\": \"white\", \"linecolor\": \"white\", \"ticks\": \"\"}}, \"title\": {\"x\": 0.05}, \"xaxis\": {\"automargin\": true, \"gridcolor\": \"white\", \"linecolor\": \"white\", \"ticks\": \"\", \"title\": {\"standoff\": 15}, \"zerolinecolor\": \"white\", \"zerolinewidth\": 2}, \"yaxis\": {\"automargin\": true, \"gridcolor\": \"white\", \"linecolor\": \"white\", \"ticks\": \"\", \"title\": {\"standoff\": 15}, \"zerolinecolor\": \"white\", \"zerolinewidth\": 2}}}, \"title\": {\"text\": \"aceleraci\\u00f3n con respecto a la distancia recorrida en el \\u00e1labe\"}, \"xaxis\": {\"title\": {\"text\": \"R[m]\"}}, \"yaxis\": {\"title\": {\"text\": \"[m/s^2]\"}}},                        {\"responsive\": true}                    ).then(function(){\n",
       "                            \n",
       "var gd = document.getElementById('2841434a-a3a0-4fc9-aa16-c599409038da');\n",
       "var x = new MutationObserver(function (mutations, observer) {{\n",
       "        var display = window.getComputedStyle(gd).display;\n",
       "        if (!display || display === 'none') {{\n",
       "            console.log([gd, 'removed!']);\n",
       "            Plotly.purge(gd);\n",
       "            observer.disconnect();\n",
       "        }}\n",
       "}});\n",
       "\n",
       "// Listen for the removal of the full notebook cells\n",
       "var notebookContainer = gd.closest('#notebook-container');\n",
       "if (notebookContainer) {{\n",
       "    x.observe(notebookContainer, {childList: true});\n",
       "}}\n",
       "\n",
       "// Listen for the clearing of the current output cell\n",
       "var outputEl = gd.closest('.output');\n",
       "if (outputEl) {{\n",
       "    x.observe(outputEl, {childList: true});\n",
       "}}\n",
       "\n",
       "                        })                };                });            </script>        </div>"
      ]
     },
     "metadata": {},
     "output_type": "display_data"
    }
   ],
   "source": [
    "#datos\n",
    "r0=2/100 #[m]\n",
    "rf=10/100 #[m]\n",
    "d=rf-r0 #[m] distancia alabe\n",
    "O=1200*(2*np.pi/60)#[rad/s]\n",
    "\n",
    "#análisis\n",
    "R=np.arange(r0,rf,0.001) #lista numérica - radio\n",
    "vr=R*np.sinh(O) #velocidad radial [m/s]\n",
    "vt=R*O\n",
    "vv=np.sqrt(vr**2+vt**2)\n",
    "ar=vr*O**2 #ac radial\n",
    "acr=2*vr*O\n",
    "act=R*(O**2)\n",
    "\n",
    "#plot velocidades\n",
    "fig=go.Figure()\n",
    "\n",
    "fig.add_trace(go.Scatter(x=R, y=vr, \n",
    "                         mode='lines', \n",
    "                         name='vel radial'))\n",
    "fig.add_trace(go.Scatter(x=R, y=vt, \n",
    "                         mode='lines', \n",
    "                         name='vel tang'))\n",
    "fig.add_trace(go.Scatter(x=R, y=vv, \n",
    "                         mode='lines', \n",
    "                         name='vel total'))\n",
    "\n",
    "fig.update_layout(title='velocidad con respecto a la distancia recorrida en el álabe',\n",
    "                   xaxis_title='R[m]',\n",
    "                   yaxis_title='[m/s^2]')\n",
    "fig.show()\n",
    "#plot aceleraciones\n",
    "fig=go.Figure()\n",
    "\n",
    "fig.add_trace(go.Scatter(x=R, y=ar, \n",
    "                         mode='lines', \n",
    "                         name='acc radial'))\n",
    "fig.add_trace(go.Scatter(x=R, y=acr, \n",
    "                         mode='lines', \n",
    "                         name='acc corriolis'))\n",
    "fig.add_trace(go.Scatter(x=R, y=act, \n",
    "                         mode='lines', \n",
    "                         name='acc centrípeta'))\n",
    "\n",
    "fig.update_layout(title='aceleración con respecto a la distancia recorrida en el álabe',\n",
    "                   xaxis_title='R[m]',\n",
    "                   yaxis_title='[m/s^2]')\n",
    "fig.show()"
   ]
  },
  {
   "cell_type": "code",
   "execution_count": null,
   "metadata": {},
   "outputs": [],
   "source": []
  }
 ],
 "metadata": {
  "kernelspec": {
   "display_name": "Python 3",
   "language": "python",
   "name": "python3"
  },
  "language_info": {
   "codemirror_mode": {
    "name": "ipython",
    "version": 3
   },
   "file_extension": ".py",
   "mimetype": "text/x-python",
   "name": "python",
   "nbconvert_exporter": "python",
   "pygments_lexer": "ipython3",
   "version": "3.8.8"
  }
 },
 "nbformat": 4,
 "nbformat_minor": 4
}
